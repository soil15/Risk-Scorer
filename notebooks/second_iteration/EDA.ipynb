{
 "cells": [
  {
   "cell_type": "code",
   "execution_count": 95,
   "metadata": {},
   "outputs": [],
   "source": [
    "import pandas as pd \n",
    "import numpy as np \n",
    "import seaborn as sns \n",
    "import matplotlib.pyplot as plt\n",
    "import warnings\n",
    "\n",
    "warnings.filterwarnings('ignore')"
   ]
  },
  {
   "cell_type": "code",
   "execution_count": 96,
   "metadata": {},
   "outputs": [],
   "source": [
    "df = pd.read_csv('../../data/pre_processed.csv')"
   ]
  },
  {
   "cell_type": "markdown",
   "metadata": {},
   "source": [
    "#### Renaming Columns"
   ]
  },
  {
   "cell_type": "code",
   "execution_count": 97,
   "metadata": {},
   "outputs": [],
   "source": [
    "new_cols = {\n",
    "    'protocolSection_identificationModule_nctId' : 'Id',\n",
    "    'protocolSection_identificationModule_briefTitle' : 'Title',\n",
    "    'protocolSection_statusModule_overallStatus' : 'Status',\n",
    "    'protocolSection_sponsorCollaboratorsModule_leadSponsor_name' : 'Sponsor',\n",
    "    'protocolSection_sponsorCollaboratorsModule_leadSponsor_class' : 'Sponsor_Class',\n",
    "    'protocolSection_conditionsModule_conditions_0' : 'Conditions',\n",
    "    'protocolSection_designModule_studyType' : 'Study_Type',\n",
    "    'protocolSection_eligibilityModule_sex' : 'Sex',\n",
    "    'protocolSection_eligibilityModule_stdAges_0' : 'Age_Category',\n",
    "    'protocolSection_contactsLocationsModule_locations_0_city' : 'City',\n",
    "    'protocolSection_contactsLocationsModule_locations_0_country' : 'Country',\n",
    "    'hasResults' : 'Results',\n",
    "    'protocolSection_armsInterventionsModule_interventions_0_name' : 'Interventions',\n",
    "}"
   ]
  },
  {
   "cell_type": "code",
   "execution_count": 98,
   "metadata": {},
   "outputs": [
    {
     "data": {
      "text/html": [
       "<div>\n",
       "<style scoped>\n",
       "    .dataframe tbody tr th:only-of-type {\n",
       "        vertical-align: middle;\n",
       "    }\n",
       "\n",
       "    .dataframe tbody tr th {\n",
       "        vertical-align: top;\n",
       "    }\n",
       "\n",
       "    .dataframe thead th {\n",
       "        text-align: right;\n",
       "    }\n",
       "</style>\n",
       "<table border=\"1\" class=\"dataframe\">\n",
       "  <thead>\n",
       "    <tr style=\"text-align: right;\">\n",
       "      <th></th>\n",
       "      <th>Id</th>\n",
       "      <th>Title</th>\n",
       "      <th>Status</th>\n",
       "      <th>Sponsor</th>\n",
       "      <th>Sponsor_Class</th>\n",
       "      <th>Conditions</th>\n",
       "      <th>Study_Type</th>\n",
       "      <th>Sex</th>\n",
       "      <th>Age_Category</th>\n",
       "      <th>City</th>\n",
       "      <th>Country</th>\n",
       "      <th>Results</th>\n",
       "      <th>Interventions</th>\n",
       "      <th>min_age</th>\n",
       "      <th>start_date_day</th>\n",
       "      <th>start_date_month</th>\n",
       "      <th>start_date_year</th>\n",
       "      <th>first_post_date_day</th>\n",
       "      <th>first_post_date_month</th>\n",
       "      <th>first_post_year</th>\n",
       "    </tr>\n",
       "  </thead>\n",
       "  <tbody>\n",
       "    <tr>\n",
       "      <th>0</th>\n",
       "      <td>NCT01713764</td>\n",
       "      <td>A Pilot Study of the Effects of Diet and Behav...</td>\n",
       "      <td>COMPLETED</td>\n",
       "      <td>University of California, San Francisco</td>\n",
       "      <td>OTHER</td>\n",
       "      <td>Diabetes Type II</td>\n",
       "      <td>INTERVENTIONAL</td>\n",
       "      <td>ALL</td>\n",
       "      <td>ADULT</td>\n",
       "      <td>San Francisco</td>\n",
       "      <td>United States</td>\n",
       "      <td>False</td>\n",
       "      <td>Low Carbohydrate Diet</td>\n",
       "      <td>18</td>\n",
       "      <td>1</td>\n",
       "      <td>10</td>\n",
       "      <td>2012</td>\n",
       "      <td>25</td>\n",
       "      <td>10</td>\n",
       "      <td>2012</td>\n",
       "    </tr>\n",
       "    <tr>\n",
       "      <th>1</th>\n",
       "      <td>NCT04011904</td>\n",
       "      <td>The Role of Traditional or Western Diet in the...</td>\n",
       "      <td>COMPLETED</td>\n",
       "      <td>University of Copenhagen</td>\n",
       "      <td>OTHER</td>\n",
       "      <td>T2D</td>\n",
       "      <td>INTERVENTIONAL</td>\n",
       "      <td>ALL</td>\n",
       "      <td>ADULT</td>\n",
       "      <td>Copenhagen</td>\n",
       "      <td>Denmark</td>\n",
       "      <td>False</td>\n",
       "      <td>Cross-over study</td>\n",
       "      <td>18</td>\n",
       "      <td>15</td>\n",
       "      <td>4</td>\n",
       "      <td>2019</td>\n",
       "      <td>9</td>\n",
       "      <td>7</td>\n",
       "      <td>2019</td>\n",
       "    </tr>\n",
       "    <tr>\n",
       "      <th>2</th>\n",
       "      <td>NCT05767372</td>\n",
       "      <td>Effect of Coherent Breathing on Elderly Qualit...</td>\n",
       "      <td>COMPLETED</td>\n",
       "      <td>Cairo University</td>\n",
       "      <td>OTHER</td>\n",
       "      <td>Stable Diabetes Mellitus</td>\n",
       "      <td>INTERVENTIONAL</td>\n",
       "      <td>ALL</td>\n",
       "      <td>ADULT</td>\n",
       "      <td>Cairo</td>\n",
       "      <td>Egypt</td>\n",
       "      <td>False</td>\n",
       "      <td>Coherent Breathing Exercise</td>\n",
       "      <td>60</td>\n",
       "      <td>1</td>\n",
       "      <td>3</td>\n",
       "      <td>2023</td>\n",
       "      <td>14</td>\n",
       "      <td>3</td>\n",
       "      <td>2023</td>\n",
       "    </tr>\n",
       "    <tr>\n",
       "      <th>3</th>\n",
       "      <td>NCT03194152</td>\n",
       "      <td>Peanut Consumption and Cardiovascular Disease ...</td>\n",
       "      <td>COMPLETED</td>\n",
       "      <td>Harvard School of Public Health (HSPH)</td>\n",
       "      <td>OTHER</td>\n",
       "      <td>T2D</td>\n",
       "      <td>INTERVENTIONAL</td>\n",
       "      <td>ALL</td>\n",
       "      <td>ADULT</td>\n",
       "      <td>Shanghai</td>\n",
       "      <td>China</td>\n",
       "      <td>False</td>\n",
       "      <td>Peanut</td>\n",
       "      <td>20</td>\n",
       "      <td>24</td>\n",
       "      <td>10</td>\n",
       "      <td>2017</td>\n",
       "      <td>21</td>\n",
       "      <td>6</td>\n",
       "      <td>2017</td>\n",
       "    </tr>\n",
       "    <tr>\n",
       "      <th>4</th>\n",
       "      <td>NCT04790526</td>\n",
       "      <td>Dose Response of Eccentric Exercise on Glycemi...</td>\n",
       "      <td>COMPLETED</td>\n",
       "      <td>Riphah International University</td>\n",
       "      <td>OTHER</td>\n",
       "      <td>Type II Diabetes Mellitus</td>\n",
       "      <td>INTERVENTIONAL</td>\n",
       "      <td>ALL</td>\n",
       "      <td>ADULT</td>\n",
       "      <td>Lahore</td>\n",
       "      <td>Pakistan</td>\n",
       "      <td>False</td>\n",
       "      <td>Eccentric Exercises Dose</td>\n",
       "      <td>45</td>\n",
       "      <td>12</td>\n",
       "      <td>7</td>\n",
       "      <td>2021</td>\n",
       "      <td>10</td>\n",
       "      <td>3</td>\n",
       "      <td>2021</td>\n",
       "    </tr>\n",
       "  </tbody>\n",
       "</table>\n",
       "</div>"
      ],
      "text/plain": [
       "            Id                                              Title     Status  \\\n",
       "0  NCT01713764  A Pilot Study of the Effects of Diet and Behav...  COMPLETED   \n",
       "1  NCT04011904  The Role of Traditional or Western Diet in the...  COMPLETED   \n",
       "2  NCT05767372  Effect of Coherent Breathing on Elderly Qualit...  COMPLETED   \n",
       "3  NCT03194152  Peanut Consumption and Cardiovascular Disease ...  COMPLETED   \n",
       "4  NCT04790526  Dose Response of Eccentric Exercise on Glycemi...  COMPLETED   \n",
       "\n",
       "                                   Sponsor Sponsor_Class  \\\n",
       "0  University of California, San Francisco         OTHER   \n",
       "1                 University of Copenhagen         OTHER   \n",
       "2                         Cairo University         OTHER   \n",
       "3   Harvard School of Public Health (HSPH)         OTHER   \n",
       "4          Riphah International University         OTHER   \n",
       "\n",
       "                  Conditions      Study_Type  Sex Age_Category           City  \\\n",
       "0           Diabetes Type II  INTERVENTIONAL  ALL        ADULT  San Francisco   \n",
       "1                        T2D  INTERVENTIONAL  ALL        ADULT     Copenhagen   \n",
       "2   Stable Diabetes Mellitus  INTERVENTIONAL  ALL        ADULT          Cairo   \n",
       "3                        T2D  INTERVENTIONAL  ALL        ADULT       Shanghai   \n",
       "4  Type II Diabetes Mellitus  INTERVENTIONAL  ALL        ADULT         Lahore   \n",
       "\n",
       "         Country  Results                Interventions  min_age  \\\n",
       "0  United States    False        Low Carbohydrate Diet       18   \n",
       "1        Denmark    False             Cross-over study       18   \n",
       "2          Egypt    False  Coherent Breathing Exercise       60   \n",
       "3          China    False                       Peanut       20   \n",
       "4       Pakistan    False     Eccentric Exercises Dose       45   \n",
       "\n",
       "   start_date_day  start_date_month  start_date_year  first_post_date_day  \\\n",
       "0               1                10             2012                   25   \n",
       "1              15                 4             2019                    9   \n",
       "2               1                 3             2023                   14   \n",
       "3              24                10             2017                   21   \n",
       "4              12                 7             2021                   10   \n",
       "\n",
       "   first_post_date_month  first_post_year  \n",
       "0                     10             2012  \n",
       "1                      7             2019  \n",
       "2                      3             2023  \n",
       "3                      6             2017  \n",
       "4                      3             2021  "
      ]
     },
     "execution_count": 98,
     "metadata": {},
     "output_type": "execute_result"
    }
   ],
   "source": [
    "df.rename(columns=new_cols, inplace=True)\n",
    "\n",
    "df.head()"
   ]
  },
  {
   "cell_type": "code",
   "execution_count": 99,
   "metadata": {},
   "outputs": [],
   "source": [
    "def get_val(x):\n",
    "    if x == False:\n",
    "        return 'Passed'\n",
    "    else:\n",
    "        return 'Failed'\n",
    "\n",
    "df['Results'] = df['Results'].apply(lambda x : get_val(x))"
   ]
  },
  {
   "cell_type": "code",
   "execution_count": 100,
   "metadata": {},
   "outputs": [
    {
     "data": {
      "text/plain": [
       "(5739, 20)"
      ]
     },
     "execution_count": 100,
     "metadata": {},
     "output_type": "execute_result"
    }
   ],
   "source": [
    "df.shape"
   ]
  },
  {
   "cell_type": "code",
   "execution_count": 101,
   "metadata": {},
   "outputs": [
    {
     "data": {
      "text/plain": [
       "['Id',\n",
       " 'Title',\n",
       " 'Status',\n",
       " 'Sponsor',\n",
       " 'Sponsor_Class',\n",
       " 'Conditions',\n",
       " 'Study_Type',\n",
       " 'Sex',\n",
       " 'Age_Category',\n",
       " 'City',\n",
       " 'Country',\n",
       " 'Results',\n",
       " 'Interventions']"
      ]
     },
     "execution_count": 101,
     "metadata": {},
     "output_type": "execute_result"
    }
   ],
   "source": [
    "output_feature = 'Results'\n",
    "num_cols = ['min_age']\n",
    "date_time_cols = [col for col in df.columns if col not in num_cols and df[col].dtype != 'O']\n",
    "cat_cols = [col for col in df.columns if df[col].dtype == 'O']\n",
    "\n",
    "cat_cols"
   ]
  },
  {
   "cell_type": "markdown",
   "metadata": {},
   "source": [
    "### Numerical Columns"
   ]
  },
  {
   "cell_type": "code",
   "execution_count": 102,
   "metadata": {},
   "outputs": [
    {
     "data": {
      "text/plain": [
       "['min_age']"
      ]
     },
     "execution_count": 102,
     "metadata": {},
     "output_type": "execute_result"
    }
   ],
   "source": [
    "num_cols"
   ]
  },
  {
   "cell_type": "code",
   "execution_count": 103,
   "metadata": {},
   "outputs": [
    {
     "data": {
      "image/png": "[encoded data removed]",
      "text/plain": [
       "<Figure size 310.986x250 with 2 Axes>"
      ]
     },
     "metadata": {},
     "output_type": "display_data"
    }
   ],
   "source": [
    "sns.pairplot(data=df[[num_cols[0], 'Results']], hue=output_feature)\n",
    "plt.title('Distribution of Age')\n",
    "plt.show()"
   ]
  },
  {
   "cell_type": "code",
   "execution_count": 104,
   "metadata": {},
   "outputs": [
    {
     "data": {
      "image/png": "[encoded data removed]",
      "text/plain": [
       "<Figure size 800x200 with 1 Axes>"
      ]
     },
     "metadata": {},
     "output_type": "display_data"
    }
   ],
   "source": [
    "plt.figure(figsize=(8,2))\n",
    "sns.scatterplot(data=df, x=num_cols[0], y=num_cols[0], hue=output_feature)\n",
    "plt.title('Scatter Plot')\n",
    "plt.show()"
   ]
  },
  {
   "cell_type": "markdown",
   "metadata": {},
   "source": [
    "Above Age 40, there are no failed studies. This is due to class imbalance or there is a actual relationship between studies not failing and higher minimum Age."
   ]
  },
  {
   "cell_type": "code",
   "execution_count": 105,
   "metadata": {},
   "outputs": [
    {
     "data": {
      "image/png": "[encoded data removed]",
      "text/plain": [
       "<Figure size 800x300 with 1 Axes>"
      ]
     },
     "metadata": {},
     "output_type": "display_data"
    }
   ],
   "source": [
    "plt.figure(figsize=(8,3))\n",
    "sns.boxplot(data=df, x=num_cols[0], hue=output_feature)\n",
    "plt.title('Box Plot')\n",
    "plt.show()"
   ]
  },
  {
   "cell_type": "markdown",
   "metadata": {},
   "source": [
    "1. Age is right skewed, one of the reasons SVC failed.\n",
    "2. we will be creating two dataset with the outliers and one without them to see which produce better models.\n",
    "3. Also we are using tree base ensemble techniques which are robust to outliers so we dont need to worry about these, but the reason behind creating another dataset without them is to see if there is no such realation between age and studies failing then these outliers are providing wrong information to the models."
   ]
  },
  {
   "cell_type": "markdown",
   "metadata": {},
   "source": [
    "### Categorical Columns"
   ]
  },
  {
   "cell_type": "code",
   "execution_count": 106,
   "metadata": {},
   "outputs": [
    {
     "data": {
      "text/plain": [
       "['Id',\n",
       " 'Title',\n",
       " 'Status',\n",
       " 'Sponsor',\n",
       " 'Sponsor_Class',\n",
       " 'Conditions',\n",
       " 'Study_Type',\n",
       " 'Sex',\n",
       " 'Age_Category',\n",
       " 'City',\n",
       " 'Country',\n",
       " 'Results',\n",
       " 'Interventions']"
      ]
     },
     "execution_count": 106,
     "metadata": {},
     "output_type": "execute_result"
    }
   ],
   "source": [
    "cat_cols"
   ]
  },
  {
   "cell_type": "markdown",
   "metadata": {},
   "source": [
    "Dropping Id as it does not bring much information to the table."
   ]
  },
  {
   "cell_type": "code",
   "execution_count": 107,
   "metadata": {},
   "outputs": [],
   "source": [
    "df.drop('Id', axis=1, inplace=True)\n",
    "\n",
    "cat_cols.remove('Id')"
   ]
  },
  {
   "cell_type": "code",
   "execution_count": 108,
   "metadata": {},
   "outputs": [
    {
     "name": "stdout",
     "output_type": "stream",
     "text": [
      "Number of unique values\n",
      "Title : 5716\n",
      "Status : 1\n",
      "Sponsor : 1575\n",
      "Sponsor_Class : 7\n",
      "Conditions : 588\n",
      "Study_Type : 2\n",
      "Sex : 3\n",
      "Age_Category : 3\n",
      "City : 1404\n",
      "Country : 102\n",
      "Results : 2\n",
      "Interventions : 3728\n"
     ]
    }
   ],
   "source": [
    "print('Number of unique values')\n",
    "for col in cat_cols:\n",
    "\n",
    "    print('{} : {}'.format(col, len(df[col].unique())))"
   ]
  },
  {
   "cell_type": "markdown",
   "metadata": {},
   "source": [
    "Looking at the above numbers there are features which have higher number of unique values, indicating higher cardinality. This makes it difficult in feature encoding phase. Also there will be class imbalance between the those features as well which will make our model more biased toward those classes. My take towards these features is that we will keep an eye on these features while feature selection and if they are not significant enough we can consider dropping these."
   ]
  },
  {
   "cell_type": "code",
   "execution_count": 109,
   "metadata": {},
   "outputs": [
    {
     "data": {
      "text/html": [
       "<div>\n",
       "<style scoped>\n",
       "    .dataframe tbody tr th:only-of-type {\n",
       "        vertical-align: middle;\n",
       "    }\n",
       "\n",
       "    .dataframe tbody tr th {\n",
       "        vertical-align: top;\n",
       "    }\n",
       "\n",
       "    .dataframe thead th {\n",
       "        text-align: right;\n",
       "    }\n",
       "</style>\n",
       "<table border=\"1\" class=\"dataframe\">\n",
       "  <thead>\n",
       "    <tr style=\"text-align: right;\">\n",
       "      <th></th>\n",
       "      <th>Title</th>\n",
       "      <th>Sponsor</th>\n",
       "      <th>Sponsor_Class</th>\n",
       "      <th>Conditions</th>\n",
       "      <th>Study_Type</th>\n",
       "      <th>Sex</th>\n",
       "      <th>Age_Category</th>\n",
       "      <th>City</th>\n",
       "      <th>Country</th>\n",
       "      <th>Results</th>\n",
       "      <th>Interventions</th>\n",
       "      <th>min_age</th>\n",
       "      <th>start_date_day</th>\n",
       "      <th>start_date_month</th>\n",
       "      <th>start_date_year</th>\n",
       "      <th>first_post_date_day</th>\n",
       "      <th>first_post_date_month</th>\n",
       "      <th>first_post_year</th>\n",
       "    </tr>\n",
       "  </thead>\n",
       "  <tbody>\n",
       "    <tr>\n",
       "      <th>0</th>\n",
       "      <td>A Pilot Study of the Effects of Diet and Behav...</td>\n",
       "      <td>University of California, San Francisco</td>\n",
       "      <td>OTHER</td>\n",
       "      <td>Diabetes Type II</td>\n",
       "      <td>INTERVENTIONAL</td>\n",
       "      <td>ALL</td>\n",
       "      <td>ADULT</td>\n",
       "      <td>San Francisco</td>\n",
       "      <td>United States</td>\n",
       "      <td>Passed</td>\n",
       "      <td>Low Carbohydrate Diet</td>\n",
       "      <td>18</td>\n",
       "      <td>1</td>\n",
       "      <td>10</td>\n",
       "      <td>2012</td>\n",
       "      <td>25</td>\n",
       "      <td>10</td>\n",
       "      <td>2012</td>\n",
       "    </tr>\n",
       "    <tr>\n",
       "      <th>1</th>\n",
       "      <td>The Role of Traditional or Western Diet in the...</td>\n",
       "      <td>University of Copenhagen</td>\n",
       "      <td>OTHER</td>\n",
       "      <td>T2D</td>\n",
       "      <td>INTERVENTIONAL</td>\n",
       "      <td>ALL</td>\n",
       "      <td>ADULT</td>\n",
       "      <td>Copenhagen</td>\n",
       "      <td>Denmark</td>\n",
       "      <td>Passed</td>\n",
       "      <td>Cross-over study</td>\n",
       "      <td>18</td>\n",
       "      <td>15</td>\n",
       "      <td>4</td>\n",
       "      <td>2019</td>\n",
       "      <td>9</td>\n",
       "      <td>7</td>\n",
       "      <td>2019</td>\n",
       "    </tr>\n",
       "    <tr>\n",
       "      <th>2</th>\n",
       "      <td>Effect of Coherent Breathing on Elderly Qualit...</td>\n",
       "      <td>Cairo University</td>\n",
       "      <td>OTHER</td>\n",
       "      <td>Stable Diabetes Mellitus</td>\n",
       "      <td>INTERVENTIONAL</td>\n",
       "      <td>ALL</td>\n",
       "      <td>ADULT</td>\n",
       "      <td>Cairo</td>\n",
       "      <td>Egypt</td>\n",
       "      <td>Passed</td>\n",
       "      <td>Coherent Breathing Exercise</td>\n",
       "      <td>60</td>\n",
       "      <td>1</td>\n",
       "      <td>3</td>\n",
       "      <td>2023</td>\n",
       "      <td>14</td>\n",
       "      <td>3</td>\n",
       "      <td>2023</td>\n",
       "    </tr>\n",
       "    <tr>\n",
       "      <th>3</th>\n",
       "      <td>Peanut Consumption and Cardiovascular Disease ...</td>\n",
       "      <td>Harvard School of Public Health (HSPH)</td>\n",
       "      <td>OTHER</td>\n",
       "      <td>T2D</td>\n",
       "      <td>INTERVENTIONAL</td>\n",
       "      <td>ALL</td>\n",
       "      <td>ADULT</td>\n",
       "      <td>Shanghai</td>\n",
       "      <td>China</td>\n",
       "      <td>Passed</td>\n",
       "      <td>Peanut</td>\n",
       "      <td>20</td>\n",
       "      <td>24</td>\n",
       "      <td>10</td>\n",
       "      <td>2017</td>\n",
       "      <td>21</td>\n",
       "      <td>6</td>\n",
       "      <td>2017</td>\n",
       "    </tr>\n",
       "    <tr>\n",
       "      <th>4</th>\n",
       "      <td>Dose Response of Eccentric Exercise on Glycemi...</td>\n",
       "      <td>Riphah International University</td>\n",
       "      <td>OTHER</td>\n",
       "      <td>Type II Diabetes Mellitus</td>\n",
       "      <td>INTERVENTIONAL</td>\n",
       "      <td>ALL</td>\n",
       "      <td>ADULT</td>\n",
       "      <td>Lahore</td>\n",
       "      <td>Pakistan</td>\n",
       "      <td>Passed</td>\n",
       "      <td>Eccentric Exercises Dose</td>\n",
       "      <td>45</td>\n",
       "      <td>12</td>\n",
       "      <td>7</td>\n",
       "      <td>2021</td>\n",
       "      <td>10</td>\n",
       "      <td>3</td>\n",
       "      <td>2021</td>\n",
       "    </tr>\n",
       "  </tbody>\n",
       "</table>\n",
       "</div>"
      ],
      "text/plain": [
       "                                               Title  \\\n",
       "0  A Pilot Study of the Effects of Diet and Behav...   \n",
       "1  The Role of Traditional or Western Diet in the...   \n",
       "2  Effect of Coherent Breathing on Elderly Qualit...   \n",
       "3  Peanut Consumption and Cardiovascular Disease ...   \n",
       "4  Dose Response of Eccentric Exercise on Glycemi...   \n",
       "\n",
       "                                   Sponsor Sponsor_Class  \\\n",
       "0  University of California, San Francisco         OTHER   \n",
       "1                 University of Copenhagen         OTHER   \n",
       "2                         Cairo University         OTHER   \n",
       "3   Harvard School of Public Health (HSPH)         OTHER   \n",
       "4          Riphah International University         OTHER   \n",
       "\n",
       "                  Conditions      Study_Type  Sex Age_Category           City  \\\n",
       "0           Diabetes Type II  INTERVENTIONAL  ALL        ADULT  San Francisco   \n",
       "1                        T2D  INTERVENTIONAL  ALL        ADULT     Copenhagen   \n",
       "2   Stable Diabetes Mellitus  INTERVENTIONAL  ALL        ADULT          Cairo   \n",
       "3                        T2D  INTERVENTIONAL  ALL        ADULT       Shanghai   \n",
       "4  Type II Diabetes Mellitus  INTERVENTIONAL  ALL        ADULT         Lahore   \n",
       "\n",
       "         Country Results                Interventions  min_age  \\\n",
       "0  United States  Passed        Low Carbohydrate Diet       18   \n",
       "1        Denmark  Passed             Cross-over study       18   \n",
       "2          Egypt  Passed  Coherent Breathing Exercise       60   \n",
       "3          China  Passed                       Peanut       20   \n",
       "4       Pakistan  Passed     Eccentric Exercises Dose       45   \n",
       "\n",
       "   start_date_day  start_date_month  start_date_year  first_post_date_day  \\\n",
       "0               1                10             2012                   25   \n",
       "1              15                 4             2019                    9   \n",
       "2               1                 3             2023                   14   \n",
       "3              24                10             2017                   21   \n",
       "4              12                 7             2021                   10   \n",
       "\n",
       "   first_post_date_month  first_post_year  \n",
       "0                     10             2012  \n",
       "1                      7             2019  \n",
       "2                      3             2023  \n",
       "3                      6             2017  \n",
       "4                      3             2021  "
      ]
     },
     "execution_count": 109,
     "metadata": {},
     "output_type": "execute_result"
    }
   ],
   "source": [
    "df.drop('Status', axis=1, inplace=True)\n",
    "\n",
    "df.head()"
   ]
  },
  {
   "cell_type": "markdown",
   "metadata": {},
   "source": [
    "Dropping Status columns as all the studies are compleleted and it has only one unique value in it, which has very less significance."
   ]
  },
  {
   "cell_type": "code",
   "execution_count": 110,
   "metadata": {},
   "outputs": [
    {
     "data": {
      "image/png": "[encoded data removed]",
      "text/plain": [
       "<Figure size 800x300 with 1 Axes>"
      ]
     },
     "metadata": {},
     "output_type": "display_data"
    }
   ],
   "source": [
    "plt.figure(figsize=(8,3))\n",
    "sns.countplot(data=df, x='Sponsor_Class', hue=output_feature)\n",
    "plt.title('Count Plot')\n",
    "plt.show()"
   ]
  },
  {
   "cell_type": "code",
   "execution_count": 111,
   "metadata": {},
   "outputs": [
    {
     "name": "stdout",
     "output_type": "stream",
     "text": [
      "Studies other than OTHER and INDUSTRY Sponsor Classe are : 3.484927687750479\n",
      "Studies of OTHER and INDUSTRY Sponsor_Class are : 96.51507231224952\n"
     ]
    }
   ],
   "source": [
    "print('Studies other than OTHER and INDUSTRY Sponsor Classe are : {}'.format(len(df[(df['Sponsor_Class'] != 'OTHER') & (df['Sponsor_Class'] != 'INDUSTRY')])\n",
    "/ len(df) * 100))\n",
    "\n",
    "print('Studies of OTHER and INDUSTRY Sponsor_Class are : {}'.format(len(df[(df['Sponsor_Class'] == 'OTHER') | (df['Sponsor_Class'] == 'INDUSTRY')])/len(df) * 100 ))"
   ]
  },
  {
   "cell_type": "markdown",
   "metadata": {},
   "source": [
    "Studies of OTHER and INDSUTRY Sponsor_Class have high number of data compared to others, which is creating bias towards them when this data is feed to our model. This might be one of the reason our models were slightly overfitting. One way to handle these is by creating more data poitns for other classes as well but it would lead to cearting more synthetic data which does not resemble actual pattern of the live/Producation data which may reduce performance of our model."
   ]
  },
  {
   "cell_type": "code",
   "execution_count": 112,
   "metadata": {},
   "outputs": [
    {
     "data": {
      "image/png": "[encoded data removed]",
      "text/plain": [
       "<Figure size 800x200 with 1 Axes>"
      ]
     },
     "metadata": {},
     "output_type": "display_data"
    }
   ],
   "source": [
    "plt.figure(figsize=(8,2))\n",
    "sns.countplot(data=df, x='Study_Type', hue=output_feature)\n",
    "plt.title('Count Plot')\n",
    "plt.show()"
   ]
  },
  {
   "cell_type": "code",
   "execution_count": 113,
   "metadata": {},
   "outputs": [
    {
     "data": {
      "image/png": "[encoded data removed]",
      "text/plain": [
       "<Figure size 800x200 with 1 Axes>"
      ]
     },
     "metadata": {},
     "output_type": "display_data"
    }
   ],
   "source": [
    "plt.figure(figsize=(8,2))\n",
    "sns.countplot(data=df, x='Sex', hue=output_feature)\n",
    "plt.title('Count Plot')\n",
    "plt.show()"
   ]
  },
  {
   "cell_type": "code",
   "execution_count": 114,
   "metadata": {},
   "outputs": [
    {
     "data": {
      "image/png": "[encoded data removed]",
      "text/plain": [
       "<Figure size 800x200 with 1 Axes>"
      ]
     },
     "metadata": {},
     "output_type": "display_data"
    }
   ],
   "source": [
    "plt.figure(figsize=(8,2))\n",
    "sns.countplot(data=df, x='Age_Category', hue=output_feature)\n",
    "plt.title('Count Plot')\n",
    "plt.show()"
   ]
  },
  {
   "cell_type": "markdown",
   "metadata": {},
   "source": [
    "Same goes for Study Type, Sex and Age_Category as well."
   ]
  },
  {
   "cell_type": "code",
   "execution_count": 135,
   "metadata": {},
   "outputs": [
    {
     "name": "stdout",
     "output_type": "stream",
     "text": [
      "Top 5 Cities with Passed Studies are :\n"
     ]
    },
    {
     "data": {
      "text/plain": [
       "City\n",
       "Seoul          119\n",
       "Beijing         79\n",
       "Birmingham      66\n",
       "Neuss           65\n",
       "Chula Vista     60\n",
       "Name: count, dtype: int64"
      ]
     },
     "execution_count": 135,
     "metadata": {},
     "output_type": "execute_result"
    }
   ],
   "source": [
    "print('Top 5 Cities with Passed Studies are :')\n",
    "df[df['Results'] == 'Passed']['City'].value_counts()[0:5]"
   ]
  },
  {
   "cell_type": "code",
   "execution_count": 136,
   "metadata": {},
   "outputs": [
    {
     "name": "stdout",
     "output_type": "stream",
     "text": [
      "Top 5 Cities with Failed Studies are :\n"
     ]
    },
    {
     "data": {
      "text/plain": [
       "City\n",
       "Birmingham     125\n",
       "Phoenix         40\n",
       "Chula Vista     39\n",
       "Beijing         37\n",
       "Boston          35\n",
       "Name: count, dtype: int64"
      ]
     },
     "execution_count": 136,
     "metadata": {},
     "output_type": "execute_result"
    }
   ],
   "source": [
    "print('Top 5 Cities with Failed Studies are :')\n",
    "df[df['Results'] == 'Failed']['City'].value_counts()[0:5]"
   ]
  },
  {
   "cell_type": "code",
   "execution_count": 137,
   "metadata": {},
   "outputs": [
    {
     "name": "stdout",
     "output_type": "stream",
     "text": [
      "Top 5 Countries with Passed Studies are :\n"
     ]
    },
    {
     "data": {
      "text/plain": [
       "Country\n",
       "United States    1264\n",
       "China             264\n",
       "Germany           254\n",
       "Denmark           227\n",
       "Canada            210\n",
       "Name: count, dtype: int64"
      ]
     },
     "execution_count": 137,
     "metadata": {},
     "output_type": "execute_result"
    }
   ],
   "source": [
    "print('Top 5 Countries with Passed Studies are :')\n",
    "df[df['Results'] == 'Passed']['Country'].value_counts()[0:5]"
   ]
  },
  {
   "cell_type": "code",
   "execution_count": 138,
   "metadata": {},
   "outputs": [
    {
     "name": "stdout",
     "output_type": "stream",
     "text": [
      "Top 5 Countries with Failed Studies are :\n"
     ]
    },
    {
     "data": {
      "text/plain": [
       "Country\n",
       "United States    986\n",
       "Japan             93\n",
       "China             67\n",
       "Germany           41\n",
       "Canada            32\n",
       "Name: count, dtype: int64"
      ]
     },
     "execution_count": 138,
     "metadata": {},
     "output_type": "execute_result"
    }
   ],
   "source": [
    "print('Top 5 Countries with Failed Studies are :')\n",
    "df[df['Results'] == 'Failed']['Country'].value_counts()[0:5]"
   ]
  },
  {
   "cell_type": "code",
   "execution_count": 145,
   "metadata": {},
   "outputs": [
    {
     "data": {
      "text/plain": [
       "Interventions\n",
       "Placebo            51\n",
       "Metformin          36\n",
       "vildagliptin       36\n",
       "Vildagliptin       35\n",
       "insulin detemir    34\n",
       "Name: count, dtype: int64"
      ]
     },
     "execution_count": 145,
     "metadata": {},
     "output_type": "execute_result"
    }
   ],
   "source": [
    "df[df['Results'] == 'Passed']['Interventions'].value_counts()[0:5]"
   ]
  },
  {
   "cell_type": "code",
   "execution_count": 146,
   "metadata": {},
   "outputs": [
    {
     "data": {
      "text/plain": [
       "Interventions\n",
       "Placebo          55\n",
       "Dapagliflozin    43\n",
       "Saxagliptin      29\n",
       "liraglutide      23\n",
       "Tirzepatide      21\n",
       "Name: count, dtype: int64"
      ]
     },
     "execution_count": 146,
     "metadata": {},
     "output_type": "execute_result"
    }
   ],
   "source": [
    "df[df['Results'] == 'Failed']['Interventions'].value_counts()[0:5]"
   ]
  },
  {
   "cell_type": "markdown",
   "metadata": {},
   "source": [
    "Top 5 Contries for Passed and Failed are almost the same this might be because of dataset having more data points for those contries.\n",
    "Which cannot be said for the cities and Interventions as Top 5 cities for passed and failed studies differ."
   ]
  },
  {
   "cell_type": "markdown",
   "metadata": {},
   "source": [
    "<H3><b>Conclusions and Observations<b></H3>\n",
    "\n",
    "<p>1. We will be creating two datasets, one with the outliers and one without them.</p>\n",
    "<p>2. Will observe all features with high cardinality while feature selection.</p>\n",
    "<p>3. Will drop 'Status', 'Id' columns.</p>\n",
    "<p>4. EDA is never ending there is always more to do in EDA. This was done just to get a overview of the dataset and draw some conclusions.</p>\n",
    "<p>5. Also there is good amount of scope in feature engineering on the features with high cardinality, they can be grouped into subgropus which will reduce the cardinality and model will be able to find patterns more easliy. As our models are not sturggling to find patterns i am choosing to not give more attention to feature engineering. If we fail to imporve models performance we can always change the approach.</p>"
   ]
  },
  {
   "cell_type": "code",
   "execution_count": null,
   "metadata": {},
   "outputs": [],
   "source": []
  },
  {
   "cell_type": "code",
   "execution_count": null,
   "metadata": {},
   "outputs": [],
   "source": []
  },
  {
   "cell_type": "code",
   "execution_count": null,
   "metadata": {},
   "outputs": [],
   "source": []
  },
  {
   "cell_type": "code",
   "execution_count": null,
   "metadata": {},
   "outputs": [],
   "source": []
  }
 ],
 "metadata": {
  "kernelspec": {
   "display_name": "Python 3",
   "language": "python",
   "name": "python3"
  },
  "language_info": {
   "codemirror_mode": {
    "name": "ipython",
    "version": 3
   },
   "file_extension": ".py",
   "mimetype": "text/x-python",
   "name": "python",
   "nbconvert_exporter": "python",
   "pygments_lexer": "ipython3",
   "version": "3.9.1"
  }
 },
 "nbformat": 4,
 "nbformat_minor": 2
}
