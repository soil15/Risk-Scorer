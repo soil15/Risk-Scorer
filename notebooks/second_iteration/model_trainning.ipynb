{
 "cells": [
  {
   "cell_type": "markdown",
   "metadata": {},
   "source": [
    "1. My take at creating a Risk Scorer model is, creating a model really good at predicting whether if study fails, i.e reducing Type-II error, meaning reducing FN (False Negative) error, or in other words increasing recall since {recall = TP/(TP+FN)}.\n",
    "So, the model will be able to predict failed studies with 100% accuracy.\n",
    "2. To achieve this we will be using AUC-ROC curve to evaluate threshold value, which will hep us classify all the failed trials with 100% accuracy.\n",
    "3. We have 12 different combinations, 4 types of dataframes and 3 different models. I want to find out how far we can increase recall score without using threshold values, by optimizing our models for higher recall score. \n",
    "3. We will take best combination and derive our final Risk Scorer model."
   ]
  },
  {
   "cell_type": "code",
   "execution_count": 399,
   "metadata": {},
   "outputs": [],
   "source": [
    "import pandas as pd \n",
    "import numpy as np \n",
    "import seaborn as sns\n",
    "import matplotlib.pyplot as plt\n",
    "import optuna\n",
    "import pickle\n",
    "import warnings\n",
    "from sklearn.ensemble import RandomForestClassifier, AdaBoostClassifier\n",
    "from xgboost import XGBClassifier\n",
    "from sklearn.metrics import f1_score, recall_score, precision_score, confusion_matrix, roc_curve\n",
    "from sklearn.model_selection import train_test_split\n",
    "warnings.filterwarnings('ignore')\n",
    "\n",
    "global model_name, model, dataframe_type, X_train, X_test, y_train, y_test\n",
    "\n",
    "output_feature = 'Results'"
   ]
  },
  {
   "cell_type": "code",
   "execution_count": 400,
   "metadata": {},
   "outputs": [],
   "source": [
    "dataframes = pd.read_pickle('../../data/dataframes.pkl')"
   ]
  },
  {
   "cell_type": "code",
   "execution_count": 401,
   "metadata": {},
   "outputs": [],
   "source": [
    "models = {\n",
    "    'random_forest_classifier' : RandomForestClassifier(),\n",
    "    'ada_boost_classifier' : AdaBoostClassifier(),\n",
    "    'XGBoost_classifier' : XGBClassifier(),\n",
    "}"
   ]
  },
  {
   "cell_type": "code",
   "execution_count": 402,
   "metadata": {},
   "outputs": [],
   "source": [
    "model_params = {}"
   ]
  },
  {
   "cell_type": "code",
   "execution_count": 403,
   "metadata": {},
   "outputs": [],
   "source": [
    "def objective(trial):\n",
    "\n",
    "    if model_name == 'ada_boost_classifier':\n",
    "        params = {\n",
    "            'n_estimators' : trial.suggest_int('n_estimators', 50, 200),\n",
    "            'learning_rate' : trial.suggest_float('learning_rate', 0, 1000),\n",
    "            'algorithm' : trial.suggest_categorical('algorithm', ['SAMME']),\n",
    "        }\n",
    "    elif model_name == 'random_forest_classifier':\n",
    "        params = {\n",
    "            'n_estimators' : trial.suggest_int('n_estimators', 5, 200),\n",
    "            'criterion'    : trial.suggest_categorical('criterion', ['log_loss', 'entropy', 'gini']),\n",
    "            'max_depth'    : trial.suggest_int('max_depth', 1, 100),\n",
    "            'min_samples_split' : trial.suggest_int('min_samples_split', 2, 100),\n",
    "            'min_samples_leaf' : trial.suggest_int('min_samples_leaf', 1, 100),\n",
    "            'max_features' : trial.suggest_categorical('max_features', ['sqrt', 'log2', None])\n",
    "        }\n",
    "    elif model_name == 'XGBoost_classifier':\n",
    "        params = {\n",
    "            \"silent\": 1,\n",
    "            \"objective\": \"binary:logistic\",\n",
    "            \"booster\": trial.suggest_categorical(\"booster\", [\"gbtree\", \"gblinear\", \"dart\"]),\n",
    "            \"lambda\": trial.suggest_loguniform(\"lambda\", 1e-8, 1.0),\n",
    "            \"alpha\": trial.suggest_loguniform(\"alpha\", 1e-8, 1.0),\n",
    "        }\n",
    "        if params[\"booster\"] == \"gbtree\" or params[\"booster\"] == \"dart\":\n",
    "            params[\"max_depth\"] = trial.suggest_int(\"max_depth\", 1, 9)\n",
    "            params[\"eta\"] = trial.suggest_loguniform(\"eta\", 1e-8, 1.0)\n",
    "            params[\"gamma\"] = trial.suggest_loguniform(\"gamma\", 1e-8, 1.0)\n",
    "            params[\"grow_policy\"] = trial.suggest_categorical(\"grow_policy\", [\"depthwise\", \"lossguide\"])\n",
    "        if params[\"booster\"] == \"dart\":\n",
    "            params[\"sample_type\"] = trial.suggest_categorical(\"sample_type\", [\"uniform\", \"weighted\"])\n",
    "            params[\"normalize_type\"] = trial.suggest_categorical(\"normalize_type\", [\"tree\", \"forest\"])\n",
    "            params[\"rate_drop\"] = trial.suggest_loguniform(\"rate_drop\", 1e-8, 1.0)\n",
    "            params[\"skip_drop\"] = trial.suggest_loguniform(\"skip_drop\", 1e-8, 1.0)\n",
    "\n",
    "    # mod = model(**params)\n",
    "    # mod.fit(X_train, y_train)\n",
    "    if model_name == 'ada_boost_classifier':\n",
    "        mod = AdaBoostClassifier(**params)\n",
    "        mod.fit(X_train, y_train)\n",
    "    elif model_name == 'random_forest_classifier':\n",
    "        mod = RandomForestClassifier(**params)\n",
    "        mod.fit(X_train, y_train)\n",
    "    elif model_name == 'XGBoost_classifier':\n",
    "        mod = XGBClassifier(**params)\n",
    "        mod.fit(X_train, y_train)\n",
    "\n",
    "    y_pred = mod.predict(X_test)\n",
    "    # f1_scr = f1_score(y_pred=y_pred, y_true=y_test)\n",
    "    # pre_score = precision_score(y_pred=y_pred, y_true=y_test)\n",
    "    recall_scr = recall_score(y_pred=y_pred, y_true=y_test)\n",
    "\n",
    "    return recall_scr"
   ]
  },
  {
   "cell_type": "code",
   "execution_count": 404,
   "metadata": {},
   "outputs": [
    {
     "name": "stderr",
     "output_type": "stream",
     "text": [
      "[I 2024-11-19 06:56:05,975] A new study created in memory with name: no-name-1057eb0e-164e-4443-adb5-7c0dad4ea33a\n",
      "[I 2024-11-19 06:56:08,144] Trial 0 finished with value: 0.9535415079969536 and parameters: {'n_estimators': 183, 'criterion': 'entropy', 'max_depth': 97, 'min_samples_split': 10, 'min_samples_leaf': 80, 'max_features': 'log2'}. Best is trial 0 with value: 0.9535415079969536.\n",
      "[I 2024-11-19 06:56:09,299] Trial 1 finished with value: 0.948971820258949 and parameters: {'n_estimators': 66, 'criterion': 'entropy', 'max_depth': 99, 'min_samples_split': 67, 'min_samples_leaf': 15, 'max_features': 'sqrt'}. Best is trial 0 with value: 0.9535415079969536.\n",
      "[I 2024-11-19 06:56:11,467] Trial 2 finished with value: 0.9421172886519421 and parameters: {'n_estimators': 158, 'criterion': 'log_loss', 'max_depth': 94, 'min_samples_split': 69, 'min_samples_leaf': 32, 'max_features': 'sqrt'}. Best is trial 0 with value: 0.9535415079969536.\n",
      "[I 2024-11-19 06:56:14,240] Trial 3 finished with value: 0.945925361766946 and parameters: {'n_estimators': 186, 'criterion': 'gini', 'max_depth': 80, 'min_samples_split': 54, 'min_samples_leaf': 8, 'max_features': 'sqrt'}. Best is trial 0 with value: 0.9535415079969536.\n",
      "[I 2024-11-19 06:56:14,685] Trial 4 finished with value: 0.9504950495049505 and parameters: {'n_estimators': 42, 'criterion': 'gini', 'max_depth': 51, 'min_samples_split': 86, 'min_samples_leaf': 52, 'max_features': 'log2'}. Best is trial 0 with value: 0.9535415079969536.\n",
      "[I 2024-11-19 06:56:17,048] Trial 5 finished with value: 0.9474485910129474 and parameters: {'n_estimators': 180, 'criterion': 'log_loss', 'max_depth': 72, 'min_samples_split': 68, 'min_samples_leaf': 37, 'max_features': 'sqrt'}. Best is trial 0 with value: 0.9535415079969536.\n",
      "[I 2024-11-19 06:56:21,931] Trial 6 finished with value: 0.9154607768469155 and parameters: {'n_estimators': 160, 'criterion': 'log_loss', 'max_depth': 21, 'min_samples_split': 10, 'min_samples_leaf': 99, 'max_features': None}. Best is trial 0 with value: 0.9535415079969536.\n",
      "[I 2024-11-19 06:56:22,395] Trial 7 finished with value: 0.9482102056359482 and parameters: {'n_estimators': 25, 'criterion': 'entropy', 'max_depth': 88, 'min_samples_split': 99, 'min_samples_leaf': 24, 'max_features': 'sqrt'}. Best is trial 0 with value: 0.9535415079969536.\n",
      "[I 2024-11-19 06:56:26,619] Trial 8 finished with value: 0.9207920792079208 and parameters: {'n_estimators': 125, 'criterion': 'log_loss', 'max_depth': 21, 'min_samples_split': 60, 'min_samples_leaf': 76, 'max_features': None}. Best is trial 0 with value: 0.9535415079969536.\n",
      "[I 2024-11-19 06:56:27,020] Trial 9 finished with value: 0.948971820258949 and parameters: {'n_estimators': 28, 'criterion': 'entropy', 'max_depth': 25, 'min_samples_split': 97, 'min_samples_leaf': 36, 'max_features': 'sqrt'}. Best is trial 0 with value: 0.9535415079969536.\n",
      "[I 2024-11-19 06:56:27,028] A new study created in memory with name: no-name-64806ba5-a134-4669-8755-217b4025807b\n",
      "[I 2024-11-19 06:56:27,063] Trial 0 finished with value: 0.01827875095201828 and parameters: {'n_estimators': 104, 'learning_rate': 217.31419337795276, 'algorithm': 'SAMME'}. Best is trial 0 with value: 0.01827875095201828.\n",
      "[I 2024-11-19 06:56:27,096] Trial 1 finished with value: 0.01827875095201828 and parameters: {'n_estimators': 171, 'learning_rate': 501.2280586435557, 'algorithm': 'SAMME'}. Best is trial 0 with value: 0.01827875095201828.\n",
      "[I 2024-11-19 06:56:27,117] Trial 2 finished with value: 1.0 and parameters: {'n_estimators': 167, 'learning_rate': 683.6515572409392, 'algorithm': 'SAMME'}. Best is trial 2 with value: 1.0.\n",
      "[I 2024-11-19 06:56:27,914] Trial 3 finished with value: 1.0 and parameters: {'n_estimators': 64, 'learning_rate': 18.83864810687419, 'algorithm': 'SAMME'}. Best is trial 2 with value: 1.0.\n",
      "[I 2024-11-19 06:56:27,937] Trial 4 finished with value: 1.0 and parameters: {'n_estimators': 169, 'learning_rate': 753.1141784373499, 'algorithm': 'SAMME'}. Best is trial 2 with value: 1.0.\n",
      "[I 2024-11-19 06:56:27,976] Trial 5 finished with value: 0.01827875095201828 and parameters: {'n_estimators': 199, 'learning_rate': 28.193568857825312, 'algorithm': 'SAMME'}. Best is trial 2 with value: 1.0.\n",
      "[I 2024-11-19 06:56:28,017] Trial 6 finished with value: 0.01827875095201828 and parameters: {'n_estimators': 74, 'learning_rate': 420.2936261849831, 'algorithm': 'SAMME'}. Best is trial 2 with value: 1.0.\n",
      "[I 2024-11-19 06:56:28,038] Trial 7 finished with value: 1.0 and parameters: {'n_estimators': 141, 'learning_rate': 760.6762150661418, 'algorithm': 'SAMME'}. Best is trial 2 with value: 1.0.\n",
      "[I 2024-11-19 06:56:28,072] Trial 8 finished with value: 0.01827875095201828 and parameters: {'n_estimators': 93, 'learning_rate': 527.705761423501, 'algorithm': 'SAMME'}. Best is trial 2 with value: 1.0.\n",
      "[I 2024-11-19 06:56:28,105] Trial 9 finished with value: 0.01827875095201828 and parameters: {'n_estimators': 53, 'learning_rate': 246.5425264527623, 'algorithm': 'SAMME'}. Best is trial 2 with value: 1.0.\n",
      "[I 2024-11-19 06:56:28,113] A new study created in memory with name: no-name-962d253f-8dc6-40d8-acce-b9c6107e4db4\n",
      "[I 2024-11-19 06:56:34,128] Trial 0 finished with value: 1.0 and parameters: {'booster': 'dart', 'lambda': 3.5952359577078207e-06, 'alpha': 1.3807284207898895e-08, 'max_depth': 8, 'eta': 3.588893666120912e-07, 'gamma': 0.0027036808738728543, 'grow_policy': 'depthwise', 'sample_type': 'uniform', 'normalize_type': 'tree', 'rate_drop': 6.4285705695131995e-06, 'skip_drop': 1.796292670776078e-06}. Best is trial 0 with value: 1.0.\n",
      "[I 2024-11-19 06:56:34,249] Trial 1 finished with value: 0.8994668697638994 and parameters: {'booster': 'gblinear', 'lambda': 0.0013322007030726272, 'alpha': 6.000151736592343e-08}. Best is trial 0 with value: 1.0.\n",
      "[I 2024-11-19 06:56:34,367] Trial 2 finished with value: 0.900990099009901 and parameters: {'booster': 'gblinear', 'lambda': 0.003966025585303215, 'alpha': 5.3135584225856144e-06}. Best is trial 0 with value: 1.0.\n",
      "[I 2024-11-19 06:56:34,499] Trial 3 finished with value: 0.897943640517898 and parameters: {'booster': 'gblinear', 'lambda': 7.515725632926939e-05, 'alpha': 1.1943286630525309e-08}. Best is trial 0 with value: 1.0.\n",
      "[I 2024-11-19 06:56:40,436] Trial 4 finished with value: 1.0 and parameters: {'booster': 'dart', 'lambda': 0.007870695346523116, 'alpha': 9.670681851719032e-06, 'max_depth': 8, 'eta': 5.002799220545442e-06, 'gamma': 3.4785111751773635e-07, 'grow_policy': 'depthwise', 'sample_type': 'weighted', 'normalize_type': 'tree', 'rate_drop': 5.109010871937307e-05, 'skip_drop': 1.2612353346956738e-05}. Best is trial 0 with value: 1.0.\n",
      "[I 2024-11-19 06:56:40,596] Trial 5 finished with value: 0.9002284843869002 and parameters: {'booster': 'gblinear', 'lambda': 7.924656872032542e-08, 'alpha': 1.6232379233307225e-06}. Best is trial 0 with value: 1.0.\n",
      "[I 2024-11-19 06:56:42,544] Trial 6 finished with value: 1.0 and parameters: {'booster': 'gbtree', 'lambda': 3.0451475905169047e-06, 'alpha': 0.24686671620336467, 'max_depth': 8, 'eta': 5.0201552627740406e-05, 'gamma': 8.011703685693237e-06, 'grow_policy': 'lossguide'}. Best is trial 0 with value: 1.0.\n",
      "[I 2024-11-19 06:56:42,901] Trial 7 finished with value: 1.0 and parameters: {'booster': 'gbtree', 'lambda': 1.878682003454467e-05, 'alpha': 2.954572675207924e-07, 'max_depth': 2, 'eta': 0.00031759253370544437, 'gamma': 1.760375385333948e-08, 'grow_policy': 'lossguide'}. Best is trial 0 with value: 1.0.\n",
      "[I 2024-11-19 06:56:43,139] Trial 8 finished with value: 1.0 and parameters: {'booster': 'gbtree', 'lambda': 0.00025054063426496157, 'alpha': 0.007012739409972953, 'max_depth': 4, 'eta': 8.006549889480448e-05, 'gamma': 1.0047031437626966e-08, 'grow_policy': 'depthwise'}. Best is trial 0 with value: 1.0.\n",
      "[I 2024-11-19 06:56:43,316] Trial 9 finished with value: 0.9055597867479056 and parameters: {'booster': 'gblinear', 'lambda': 6.658911722478075e-05, 'alpha': 0.010912321722771063}. Best is trial 0 with value: 1.0.\n",
      "[I 2024-11-19 06:56:43,329] A new study created in memory with name: no-name-da1774b4-138e-41d1-a907-0e38245eee08\n",
      "[I 2024-11-19 06:56:44,223] Trial 0 finished with value: 0.96 and parameters: {'n_estimators': 72, 'criterion': 'entropy', 'max_depth': 56, 'min_samples_split': 20, 'min_samples_leaf': 16, 'max_features': 'log2'}. Best is trial 0 with value: 0.96.\n",
      "[I 2024-11-19 06:56:47,110] Trial 1 finished with value: 0.9091891891891892 and parameters: {'n_estimators': 120, 'criterion': 'gini', 'max_depth': 48, 'min_samples_split': 64, 'min_samples_leaf': 65, 'max_features': None}. Best is trial 0 with value: 0.96.\n",
      "[I 2024-11-19 06:56:47,579] Trial 2 finished with value: 0.96 and parameters: {'n_estimators': 43, 'criterion': 'gini', 'max_depth': 41, 'min_samples_split': 17, 'min_samples_leaf': 12, 'max_features': 'sqrt'}. Best is trial 0 with value: 0.96.\n",
      "[I 2024-11-19 06:56:47,966] Trial 3 finished with value: 0.9718918918918918 and parameters: {'n_estimators': 47, 'criterion': 'gini', 'max_depth': 66, 'min_samples_split': 75, 'min_samples_leaf': 47, 'max_features': 'sqrt'}. Best is trial 3 with value: 0.9718918918918918.\n",
      "[I 2024-11-19 06:56:49,854] Trial 4 finished with value: 0.9643243243243244 and parameters: {'n_estimators': 159, 'criterion': 'entropy', 'max_depth': 39, 'min_samples_split': 3, 'min_samples_leaf': 27, 'max_features': 'log2'}. Best is trial 3 with value: 0.9718918918918918.\n",
      "[I 2024-11-19 06:56:52,849] Trial 5 finished with value: 0.9059459459459459 and parameters: {'n_estimators': 154, 'criterion': 'entropy', 'max_depth': 3, 'min_samples_split': 88, 'min_samples_leaf': 31, 'max_features': None}. Best is trial 3 with value: 0.9718918918918918.\n",
      "[I 2024-11-19 06:56:53,136] Trial 6 finished with value: 0.9567567567567568 and parameters: {'n_estimators': 14, 'criterion': 'log_loss', 'max_depth': 66, 'min_samples_split': 47, 'min_samples_leaf': 2, 'max_features': 'log2'}. Best is trial 3 with value: 0.9718918918918918.\n",
      "[I 2024-11-19 06:56:53,396] Trial 7 finished with value: 0.9848648648648649 and parameters: {'n_estimators': 28, 'criterion': 'entropy', 'max_depth': 5, 'min_samples_split': 9, 'min_samples_leaf': 25, 'max_features': 'sqrt'}. Best is trial 7 with value: 0.9848648648648649.\n",
      "[I 2024-11-19 06:56:55,209] Trial 8 finished with value: 0.9664864864864865 and parameters: {'n_estimators': 176, 'criterion': 'entropy', 'max_depth': 9, 'min_samples_split': 44, 'min_samples_leaf': 34, 'max_features': 'log2'}. Best is trial 7 with value: 0.9848648648648649.\n",
      "[I 2024-11-19 06:56:56,774] Trial 9 finished with value: 0.9708108108108108 and parameters: {'n_estimators': 165, 'criterion': 'log_loss', 'max_depth': 81, 'min_samples_split': 27, 'min_samples_leaf': 48, 'max_features': 'sqrt'}. Best is trial 7 with value: 0.9848648648648649.\n",
      "[I 2024-11-19 06:56:56,780] A new study created in memory with name: no-name-6e62d534-2906-47eb-a514-0ca6564d2438\n",
      "[I 2024-11-19 06:56:56,817] Trial 0 finished with value: 0.015135135135135135 and parameters: {'n_estimators': 151, 'learning_rate': 93.55113068227038, 'algorithm': 'SAMME'}. Best is trial 0 with value: 0.015135135135135135.\n",
      "[I 2024-11-19 06:56:56,851] Trial 1 finished with value: 0.015135135135135135 and parameters: {'n_estimators': 111, 'learning_rate': 718.5337038228423, 'algorithm': 'SAMME'}. Best is trial 0 with value: 0.015135135135135135.\n",
      "[I 2024-11-19 06:56:56,883] Trial 2 finished with value: 0.015135135135135135 and parameters: {'n_estimators': 65, 'learning_rate': 703.8580826601449, 'algorithm': 'SAMME'}. Best is trial 0 with value: 0.015135135135135135.\n",
      "[I 2024-11-19 06:56:56,911] Trial 3 finished with value: 0.015135135135135135 and parameters: {'n_estimators': 141, 'learning_rate': 311.41451615284944, 'algorithm': 'SAMME'}. Best is trial 0 with value: 0.015135135135135135.\n",
      "[I 2024-11-19 06:56:56,942] Trial 4 finished with value: 0.015135135135135135 and parameters: {'n_estimators': 58, 'learning_rate': 452.5134265305584, 'algorithm': 'SAMME'}. Best is trial 0 with value: 0.015135135135135135.\n",
      "[I 2024-11-19 06:56:56,972] Trial 5 finished with value: 0.015135135135135135 and parameters: {'n_estimators': 121, 'learning_rate': 225.31833243654387, 'algorithm': 'SAMME'}. Best is trial 0 with value: 0.015135135135135135.\n",
      "[I 2024-11-19 06:56:57,014] Trial 6 finished with value: 0.015135135135135135 and parameters: {'n_estimators': 61, 'learning_rate': 489.90781443064424, 'algorithm': 'SAMME'}. Best is trial 0 with value: 0.015135135135135135.\n",
      "[I 2024-11-19 06:56:57,071] Trial 7 finished with value: 1.0 and parameters: {'n_estimators': 111, 'learning_rate': 25.32301502204204, 'algorithm': 'SAMME'}. Best is trial 7 with value: 1.0.\n",
      "[I 2024-11-19 06:56:57,093] Trial 8 finished with value: 1.0 and parameters: {'n_estimators': 109, 'learning_rate': 728.7655398055608, 'algorithm': 'SAMME'}. Best is trial 7 with value: 1.0.\n",
      "[I 2024-11-19 06:56:57,188] Trial 9 finished with value: 0.015135135135135135 and parameters: {'n_estimators': 117, 'learning_rate': 89.14970378607745, 'algorithm': 'SAMME'}. Best is trial 7 with value: 1.0.\n",
      "[I 2024-11-19 06:56:57,204] A new study created in memory with name: no-name-549b7d82-2fe1-40a9-8e1f-9875b2e74b19\n",
      "[I 2024-11-19 06:57:01,927] Trial 0 finished with value: 1.0 and parameters: {'booster': 'dart', 'lambda': 5.639634740799132e-06, 'alpha': 1.2615163981694248e-05, 'max_depth': 2, 'eta': 0.018808345518581664, 'gamma': 0.037776809406458695, 'grow_policy': 'lossguide', 'sample_type': 'weighted', 'normalize_type': 'tree', 'rate_drop': 0.0001154006618496567, 'skip_drop': 1.1408563141936242e-08}. Best is trial 0 with value: 1.0.\n",
      "[I 2024-11-19 06:57:02,069] Trial 1 finished with value: 1.0 and parameters: {'booster': 'gbtree', 'lambda': 0.11752249988229392, 'alpha': 1.3695740495440516e-06, 'max_depth': 2, 'eta': 6.375715067405783e-07, 'gamma': 0.07518796888989034, 'grow_policy': 'depthwise'}. Best is trial 0 with value: 1.0.\n",
      "[I 2024-11-19 06:57:02,187] Trial 2 finished with value: 0.9091891891891892 and parameters: {'booster': 'gblinear', 'lambda': 0.0024980649045048503, 'alpha': 2.1262472290125464e-06}. Best is trial 0 with value: 1.0.\n",
      "[I 2024-11-19 06:57:02,999] Trial 3 finished with value: 1.0 and parameters: {'booster': 'gbtree', 'lambda': 0.00037517100436745176, 'alpha': 2.3793084914039613e-06, 'max_depth': 4, 'eta': 1.0897184833488922e-07, 'gamma': 1.3966572473013952e-06, 'grow_policy': 'lossguide'}. Best is trial 0 with value: 1.0.\n",
      "[I 2024-11-19 06:57:07,083] Trial 4 finished with value: 1.0 and parameters: {'booster': 'dart', 'lambda': 2.2571499351325004e-05, 'alpha': 0.011320009858282817, 'max_depth': 8, 'eta': 0.007799935669346069, 'gamma': 0.0006871559752808138, 'grow_policy': 'lossguide', 'sample_type': 'weighted', 'normalize_type': 'tree', 'rate_drop': 0.4268037062729445, 'skip_drop': 0.0004297790201136736}. Best is trial 0 with value: 1.0.\n",
      "[I 2024-11-19 06:57:09,785] Trial 5 finished with value: 1.0 and parameters: {'booster': 'gbtree', 'lambda': 0.00017962231085462041, 'alpha': 0.2763788725858335, 'max_depth': 9, 'eta': 0.0006235371083250567, 'gamma': 0.0010619196699811608, 'grow_policy': 'lossguide'}. Best is trial 0 with value: 1.0.\n",
      "[I 2024-11-19 06:57:13,915] Trial 6 finished with value: 1.0 and parameters: {'booster': 'dart', 'lambda': 8.775924566876691e-08, 'alpha': 1.510950851253162e-08, 'max_depth': 7, 'eta': 1.1004908018474133e-08, 'gamma': 0.00014257731748774658, 'grow_policy': 'lossguide', 'sample_type': 'uniform', 'normalize_type': 'tree', 'rate_drop': 0.0003613527845463129, 'skip_drop': 0.041319894196753935}. Best is trial 0 with value: 1.0.\n",
      "[I 2024-11-19 06:57:15,425] Trial 7 finished with value: 1.0 and parameters: {'booster': 'gbtree', 'lambda': 3.584687933937518e-07, 'alpha': 8.962827228145212e-07, 'max_depth': 8, 'eta': 4.860529431741712e-05, 'gamma': 3.678574943215516e-08, 'grow_policy': 'lossguide'}. Best is trial 0 with value: 1.0.\n",
      "[I 2024-11-19 06:57:18,180] Trial 8 finished with value: 1.0 and parameters: {'booster': 'dart', 'lambda': 0.6515663429172023, 'alpha': 0.000915088076684959, 'max_depth': 4, 'eta': 4.630145923277746e-08, 'gamma': 5.674631674112848e-08, 'grow_policy': 'depthwise', 'sample_type': 'weighted', 'normalize_type': 'tree', 'rate_drop': 0.24924721110727244, 'skip_drop': 0.11357298007373769}. Best is trial 0 with value: 1.0.\n",
      "[I 2024-11-19 06:57:22,053] Trial 9 finished with value: 0.9708108108108108 and parameters: {'booster': 'dart', 'lambda': 0.02529506704073009, 'alpha': 1.4074634257835772e-05, 'max_depth': 2, 'eta': 0.03608048761876506, 'gamma': 0.004951797102563771, 'grow_policy': 'lossguide', 'sample_type': 'uniform', 'normalize_type': 'tree', 'rate_drop': 5.742244265354241e-07, 'skip_drop': 3.2657955873656556e-05}. Best is trial 0 with value: 1.0.\n",
      "[I 2024-11-19 06:57:22,073] A new study created in memory with name: no-name-79534bbb-0780-4239-9deb-df387d8a78f2\n",
      "[I 2024-11-19 06:57:24,856] Trial 0 finished with value: 0.9177456207159177 and parameters: {'n_estimators': 95, 'criterion': 'log_loss', 'max_depth': 43, 'min_samples_split': 10, 'min_samples_leaf': 88, 'max_features': None}. Best is trial 0 with value: 0.9177456207159177.\n",
      "[I 2024-11-19 06:57:25,667] Trial 1 finished with value: 0.9497334348819497 and parameters: {'n_estimators': 85, 'criterion': 'log_loss', 'max_depth': 46, 'min_samples_split': 52, 'min_samples_leaf': 93, 'max_features': 'sqrt'}. Best is trial 1 with value: 0.9497334348819497.\n",
      "[I 2024-11-19 06:57:25,908] Trial 2 finished with value: 0.9504950495049505 and parameters: {'n_estimators': 16, 'criterion': 'log_loss', 'max_depth': 44, 'min_samples_split': 27, 'min_samples_leaf': 37, 'max_features': 'sqrt'}. Best is trial 2 with value: 0.9504950495049505.\n",
      "[I 2024-11-19 06:57:26,179] Trial 3 finished with value: 0.9360243716679361 and parameters: {'n_estimators': 21, 'criterion': 'gini', 'max_depth': 31, 'min_samples_split': 63, 'min_samples_leaf': 7, 'max_features': 'sqrt'}. Best is trial 2 with value: 0.9504950495049505.\n",
      "[I 2024-11-19 06:57:28,311] Trial 4 finished with value: 0.9413556740289414 and parameters: {'n_estimators': 185, 'criterion': 'log_loss', 'max_depth': 7, 'min_samples_split': 64, 'min_samples_leaf': 34, 'max_features': 'log2'}. Best is trial 2 with value: 0.9504950495049505.\n",
      "[I 2024-11-19 06:57:29,606] Trial 5 finished with value: 0.9436405178979437 and parameters: {'n_estimators': 88, 'criterion': 'entropy', 'max_depth': 57, 'min_samples_split': 35, 'min_samples_leaf': 21, 'max_features': 'sqrt'}. Best is trial 2 with value: 0.9504950495049505.\n",
      "[I 2024-11-19 06:57:32,418] Trial 6 finished with value: 0.9421172886519421 and parameters: {'n_estimators': 134, 'criterion': 'entropy', 'max_depth': 20, 'min_samples_split': 35, 'min_samples_leaf': 1, 'max_features': 'sqrt'}. Best is trial 2 with value: 0.9504950495049505.\n",
      "[I 2024-11-19 06:57:32,591] Trial 7 finished with value: 0.9451637471439451 and parameters: {'n_estimators': 13, 'criterion': 'gini', 'max_depth': 21, 'min_samples_split': 68, 'min_samples_leaf': 83, 'max_features': 'log2'}. Best is trial 2 with value: 0.9504950495049505.\n",
      "[I 2024-11-19 06:57:33,903] Trial 8 finished with value: 0.9497334348819497 and parameters: {'n_estimators': 61, 'criterion': 'log_loss', 'max_depth': 40, 'min_samples_split': 72, 'min_samples_leaf': 28, 'max_features': 'sqrt'}. Best is trial 2 with value: 0.9504950495049505.\n",
      "[I 2024-11-19 06:57:35,580] Trial 9 finished with value: 0.9421172886519421 and parameters: {'n_estimators': 72, 'criterion': 'log_loss', 'max_depth': 83, 'min_samples_split': 65, 'min_samples_leaf': 11, 'max_features': 'sqrt'}. Best is trial 2 with value: 0.9504950495049505.\n",
      "[I 2024-11-19 06:57:35,595] A new study created in memory with name: no-name-395e6b39-d198-4fca-a917-c11030040b83\n",
      "[I 2024-11-19 06:57:35,622] Trial 0 finished with value: 1.0 and parameters: {'n_estimators': 194, 'learning_rate': 701.7580648220421, 'algorithm': 'SAMME'}. Best is trial 0 with value: 1.0.\n",
      "[I 2024-11-19 06:57:35,666] Trial 1 finished with value: 0.01827875095201828 and parameters: {'n_estimators': 64, 'learning_rate': 391.85836689512763, 'algorithm': 'SAMME'}. Best is trial 0 with value: 1.0.\n",
      "[I 2024-11-19 06:57:35,714] Trial 2 finished with value: 0.01827875095201828 and parameters: {'n_estimators': 134, 'learning_rate': 660.5991595185818, 'algorithm': 'SAMME'}. Best is trial 0 with value: 1.0.\n",
      "[I 2024-11-19 06:57:35,751] Trial 3 finished with value: 0.01827875095201828 and parameters: {'n_estimators': 93, 'learning_rate': 674.0592589483509, 'algorithm': 'SAMME'}. Best is trial 0 with value: 1.0.\n",
      "[I 2024-11-19 06:57:35,790] Trial 4 finished with value: 0.01827875095201828 and parameters: {'n_estimators': 181, 'learning_rate': 29.623569053247365, 'algorithm': 'SAMME'}. Best is trial 0 with value: 1.0.\n",
      "[I 2024-11-19 06:57:35,824] Trial 5 finished with value: 0.01827875095201828 and parameters: {'n_estimators': 96, 'learning_rate': 397.5242981935523, 'algorithm': 'SAMME'}. Best is trial 0 with value: 1.0.\n",
      "[I 2024-11-19 06:57:35,868] Trial 6 finished with value: 0.01827875095201828 and parameters: {'n_estimators': 58, 'learning_rate': 251.13646266309863, 'algorithm': 'SAMME'}. Best is trial 0 with value: 1.0.\n",
      "[I 2024-11-19 06:57:35,900] Trial 7 finished with value: 1.0 and parameters: {'n_estimators': 73, 'learning_rate': 846.1127803984481, 'algorithm': 'SAMME'}. Best is trial 0 with value: 1.0.\n",
      "[I 2024-11-19 06:57:35,938] Trial 8 finished with value: 0.01827875095201828 and parameters: {'n_estimators': 86, 'learning_rate': 595.0487575282622, 'algorithm': 'SAMME'}. Best is trial 0 with value: 1.0.\n",
      "[I 2024-11-19 06:57:35,959] Trial 9 finished with value: 1.0 and parameters: {'n_estimators': 100, 'learning_rate': 975.9630467794801, 'algorithm': 'SAMME'}. Best is trial 0 with value: 1.0.\n",
      "[I 2024-11-19 06:57:35,969] A new study created in memory with name: no-name-8c408fc4-eeec-4532-b17f-8907364b74f6\n",
      "[I 2024-11-19 06:57:40,643] Trial 0 finished with value: 1.0 and parameters: {'booster': 'dart', 'lambda': 0.00023811104421079353, 'alpha': 0.04913292014448959, 'max_depth': 6, 'eta': 0.00025992815908766224, 'gamma': 0.011773397064910322, 'grow_policy': 'lossguide', 'sample_type': 'uniform', 'normalize_type': 'forest', 'rate_drop': 0.00013632688674578963, 'skip_drop': 7.68192935827439e-08}. Best is trial 0 with value: 1.0.\n",
      "[I 2024-11-19 06:57:44,350] Trial 1 finished with value: 1.0 and parameters: {'booster': 'dart', 'lambda': 0.005056417043537748, 'alpha': 0.0008382546248739856, 'max_depth': 1, 'eta': 6.123762964221026e-06, 'gamma': 1.0568338666691704e-06, 'grow_policy': 'depthwise', 'sample_type': 'weighted', 'normalize_type': 'tree', 'rate_drop': 2.2149236158541844e-06, 'skip_drop': 0.311656506390825}. Best is trial 0 with value: 1.0.\n",
      "[I 2024-11-19 06:57:48,979] Trial 2 finished with value: 0.9276466108149276 and parameters: {'booster': 'dart', 'lambda': 8.163924725408264e-08, 'alpha': 3.070287862224431e-05, 'max_depth': 5, 'eta': 0.06751654808424347, 'gamma': 0.24341728770452534, 'grow_policy': 'lossguide', 'sample_type': 'weighted', 'normalize_type': 'tree', 'rate_drop': 0.00026305766759637274, 'skip_drop': 0.026265531031327175}. Best is trial 0 with value: 1.0.\n",
      "[I 2024-11-19 06:57:49,124] Trial 3 finished with value: 0.897943640517898 and parameters: {'booster': 'gblinear', 'lambda': 1.1718042528533135e-05, 'alpha': 2.1360075206461483e-07}. Best is trial 0 with value: 1.0.\n",
      "[I 2024-11-19 06:57:49,606] Trial 4 finished with value: 1.0 and parameters: {'booster': 'gbtree', 'lambda': 0.3960055906882586, 'alpha': 0.33210133852334306, 'max_depth': 5, 'eta': 2.5265354624909394e-07, 'gamma': 0.0005349264896412824, 'grow_policy': 'lossguide'}. Best is trial 0 with value: 1.0.\n",
      "[I 2024-11-19 06:57:53,455] Trial 5 finished with value: 1.0 and parameters: {'booster': 'dart', 'lambda': 1.1207895504624782e-05, 'alpha': 0.001098305087656584, 'max_depth': 2, 'eta': 0.012736744215220426, 'gamma': 2.9480070823647056e-05, 'grow_policy': 'depthwise', 'sample_type': 'uniform', 'normalize_type': 'forest', 'rate_drop': 0.0007022104176946226, 'skip_drop': 4.674966495993144e-08}. Best is trial 0 with value: 1.0.\n",
      "[I 2024-11-19 06:57:55,724] Trial 6 finished with value: 1.0 and parameters: {'booster': 'gbtree', 'lambda': 0.4071343699651241, 'alpha': 1.0597378071113081e-07, 'max_depth': 9, 'eta': 6.174774131708473e-07, 'gamma': 2.373591445128748e-08, 'grow_policy': 'lossguide'}. Best is trial 0 with value: 1.0.\n",
      "[I 2024-11-19 06:57:58,471] Trial 7 finished with value: 1.0 and parameters: {'booster': 'dart', 'lambda': 0.000521815845621495, 'alpha': 1.591693198498796e-06, 'max_depth': 6, 'eta': 1.0369240122334931e-06, 'gamma': 0.11029348045166791, 'grow_policy': 'lossguide', 'sample_type': 'weighted', 'normalize_type': 'forest', 'rate_drop': 0.4817864883831936, 'skip_drop': 4.3307826734289735e-05}. Best is trial 0 with value: 1.0.\n",
      "[I 2024-11-19 06:57:58,577] Trial 8 finished with value: 0.955064737242955 and parameters: {'booster': 'gblinear', 'lambda': 0.685388788525117, 'alpha': 0.061506886886474675}. Best is trial 0 with value: 1.0.\n",
      "[I 2024-11-19 06:57:58,799] Trial 9 finished with value: 1.0 and parameters: {'booster': 'gbtree', 'lambda': 0.0007217709691373084, 'alpha': 1.3988673090512817e-07, 'max_depth': 4, 'eta': 0.0011524235928514752, 'gamma': 0.36287123357762885, 'grow_policy': 'depthwise'}. Best is trial 0 with value: 1.0.\n",
      "[I 2024-11-19 06:57:58,814] A new study created in memory with name: no-name-23abd697-e191-474c-bc1c-bd4e256c1192\n",
      "[I 2024-11-19 06:58:00,160] Trial 0 finished with value: 0.9751351351351352 and parameters: {'n_estimators': 196, 'criterion': 'entropy', 'max_depth': 84, 'min_samples_split': 79, 'min_samples_leaf': 100, 'max_features': 'log2'}. Best is trial 0 with value: 0.9751351351351352.\n",
      "[I 2024-11-19 06:58:01,920] Trial 1 finished with value: 0.9135135135135135 and parameters: {'n_estimators': 76, 'criterion': 'entropy', 'max_depth': 92, 'min_samples_split': 22, 'min_samples_leaf': 70, 'max_features': None}. Best is trial 0 with value: 0.9751351351351352.\n",
      "[I 2024-11-19 06:58:04,990] Trial 2 finished with value: 0.9318918918918919 and parameters: {'n_estimators': 95, 'criterion': 'gini', 'max_depth': 70, 'min_samples_split': 51, 'min_samples_leaf': 14, 'max_features': None}. Best is trial 0 with value: 0.9751351351351352.\n",
      "[I 2024-11-19 06:58:06,957] Trial 3 finished with value: 0.96 and parameters: {'n_estimators': 156, 'criterion': 'log_loss', 'max_depth': 40, 'min_samples_split': 26, 'min_samples_leaf': 14, 'max_features': 'log2'}. Best is trial 0 with value: 0.9751351351351352.\n",
      "[I 2024-11-19 06:58:07,400] Trial 4 finished with value: 0.9589189189189189 and parameters: {'n_estimators': 50, 'criterion': 'entropy', 'max_depth': 48, 'min_samples_split': 22, 'min_samples_leaf': 58, 'max_features': 'sqrt'}. Best is trial 0 with value: 0.9751351351351352.\n",
      "[I 2024-11-19 06:58:09,065] Trial 5 finished with value: 0.9621621621621622 and parameters: {'n_estimators': 179, 'criterion': 'entropy', 'max_depth': 92, 'min_samples_split': 93, 'min_samples_leaf': 24, 'max_features': 'log2'}. Best is trial 0 with value: 0.9751351351351352.\n",
      "[I 2024-11-19 06:58:10,123] Trial 6 finished with value: 0.9632432432432433 and parameters: {'n_estimators': 139, 'criterion': 'gini', 'max_depth': 100, 'min_samples_split': 80, 'min_samples_leaf': 38, 'max_features': 'log2'}. Best is trial 0 with value: 0.9751351351351352.\n",
      "[I 2024-11-19 06:58:10,709] Trial 7 finished with value: 0.9664864864864865 and parameters: {'n_estimators': 87, 'criterion': 'entropy', 'max_depth': 62, 'min_samples_split': 98, 'min_samples_leaf': 93, 'max_features': 'log2'}. Best is trial 0 with value: 0.9751351351351352.\n",
      "[I 2024-11-19 06:58:11,807] Trial 8 finished with value: 0.9513513513513514 and parameters: {'n_estimators': 81, 'criterion': 'entropy', 'max_depth': 98, 'min_samples_split': 64, 'min_samples_leaf': 5, 'max_features': 'log2'}. Best is trial 0 with value: 0.9751351351351352.\n",
      "[I 2024-11-19 06:58:13,258] Trial 9 finished with value: 0.9686486486486486 and parameters: {'n_estimators': 154, 'criterion': 'entropy', 'max_depth': 31, 'min_samples_split': 48, 'min_samples_leaf': 49, 'max_features': 'sqrt'}. Best is trial 0 with value: 0.9751351351351352.\n",
      "[I 2024-11-19 06:58:13,266] A new study created in memory with name: no-name-abe00485-8599-40f7-ba32-8a6948e41cb4\n",
      "[I 2024-11-19 06:58:13,294] Trial 0 finished with value: 0.015135135135135135 and parameters: {'n_estimators': 100, 'learning_rate': 247.29532053128744, 'algorithm': 'SAMME'}. Best is trial 0 with value: 0.015135135135135135.\n",
      "[I 2024-11-19 06:58:13,323] Trial 1 finished with value: 0.015135135135135135 and parameters: {'n_estimators': 97, 'learning_rate': 409.95489060562153, 'algorithm': 'SAMME'}. Best is trial 0 with value: 0.015135135135135135.\n",
      "[I 2024-11-19 06:58:13,351] Trial 2 finished with value: 0.015135135135135135 and parameters: {'n_estimators': 83, 'learning_rate': 152.06568166699063, 'algorithm': 'SAMME'}. Best is trial 0 with value: 0.015135135135135135.\n",
      "[I 2024-11-19 06:58:13,370] Trial 3 finished with value: 1.0 and parameters: {'n_estimators': 97, 'learning_rate': 927.2723191411815, 'algorithm': 'SAMME'}. Best is trial 3 with value: 1.0.\n",
      "[I 2024-11-19 06:58:13,404] Trial 4 finished with value: 0.015135135135135135 and parameters: {'n_estimators': 185, 'learning_rate': 715.0233438102788, 'algorithm': 'SAMME'}. Best is trial 3 with value: 1.0.\n",
      "[I 2024-11-19 06:58:13,431] Trial 5 finished with value: 0.015135135135135135 and parameters: {'n_estimators': 99, 'learning_rate': 140.4811524459494, 'algorithm': 'SAMME'}. Best is trial 3 with value: 1.0.\n",
      "[I 2024-11-19 06:58:13,461] Trial 6 finished with value: 0.015135135135135135 and parameters: {'n_estimators': 79, 'learning_rate': 503.5948855697083, 'algorithm': 'SAMME'}. Best is trial 3 with value: 1.0.\n",
      "[I 2024-11-19 06:58:13,489] Trial 7 finished with value: 0.015135135135135135 and parameters: {'n_estimators': 59, 'learning_rate': 312.12368450298146, 'algorithm': 'SAMME'}. Best is trial 3 with value: 1.0.\n",
      "[I 2024-11-19 06:58:13,507] Trial 8 finished with value: 1.0 and parameters: {'n_estimators': 74, 'learning_rate': 809.1103978694345, 'algorithm': 'SAMME'}. Best is trial 3 with value: 1.0.\n",
      "[I 2024-11-19 06:58:13,535] Trial 9 finished with value: 0.015135135135135135 and parameters: {'n_estimators': 155, 'learning_rate': 627.1152490678143, 'algorithm': 'SAMME'}. Best is trial 3 with value: 1.0.\n",
      "[I 2024-11-19 06:58:13,542] A new study created in memory with name: no-name-304a1625-4452-43ab-b1c6-4a2c42f67ecd\n",
      "[I 2024-11-19 06:58:13,635] Trial 0 finished with value: 0.9254054054054054 and parameters: {'booster': 'gblinear', 'lambda': 0.1626622017476285, 'alpha': 6.117129670012671e-05}. Best is trial 0 with value: 0.9254054054054054.\n",
      "[I 2024-11-19 06:58:13,730] Trial 1 finished with value: 0.9113513513513514 and parameters: {'booster': 'gblinear', 'lambda': 8.386645266929753e-07, 'alpha': 0.0017068017001867048}. Best is trial 0 with value: 0.9254054054054054.\n",
      "[I 2024-11-19 06:58:14,186] Trial 2 finished with value: 1.0 and parameters: {'booster': 'gbtree', 'lambda': 0.02825991878111733, 'alpha': 0.2518631291075776, 'max_depth': 5, 'eta': 7.160552336878805e-08, 'gamma': 0.0013670509670473156, 'grow_policy': 'lossguide'}. Best is trial 2 with value: 1.0.\n",
      "[I 2024-11-19 06:58:14,367] Trial 3 finished with value: 1.0 and parameters: {'booster': 'gbtree', 'lambda': 0.2667643887734198, 'alpha': 2.2312924035734413e-08, 'max_depth': 4, 'eta': 0.0002797726418046422, 'gamma': 0.0015382522080764894, 'grow_policy': 'depthwise'}. Best is trial 2 with value: 1.0.\n",
      "[I 2024-11-19 06:58:18,168] Trial 4 finished with value: 0.9481081081081081 and parameters: {'booster': 'dart', 'lambda': 0.24709497926066912, 'alpha': 0.0002741199916120585, 'max_depth': 7, 'eta': 0.04178090390125012, 'gamma': 7.554094162054743e-07, 'grow_policy': 'lossguide', 'sample_type': 'uniform', 'normalize_type': 'forest', 'rate_drop': 0.002055232824258, 'skip_drop': 1.125186193657415e-05}. Best is trial 2 with value: 1.0.\n",
      "[I 2024-11-19 06:58:18,321] Trial 5 finished with value: 0.9794594594594594 and parameters: {'booster': 'gbtree', 'lambda': 0.04779894432698304, 'alpha': 0.0004009883680564642, 'max_depth': 3, 'eta': 0.021502872236540224, 'gamma': 0.06886894598259156, 'grow_policy': 'depthwise'}. Best is trial 2 with value: 1.0.\n",
      "[I 2024-11-19 06:58:18,415] Trial 6 finished with value: 0.9048648648648648 and parameters: {'booster': 'gblinear', 'lambda': 1.9696472698326348e-07, 'alpha': 6.081096574965671e-06}. Best is trial 2 with value: 1.0.\n",
      "[I 2024-11-19 06:58:22,666] Trial 7 finished with value: 0.9924324324324324 and parameters: {'booster': 'dart', 'lambda': 4.564901065794774e-07, 'alpha': 0.0006860143756480039, 'max_depth': 8, 'eta': 0.023533465561206408, 'gamma': 0.01473041432452717, 'grow_policy': 'lossguide', 'sample_type': 'uniform', 'normalize_type': 'tree', 'rate_drop': 0.20498161208330232, 'skip_drop': 1.175849285356484e-06}. Best is trial 2 with value: 1.0.\n",
      "[I 2024-11-19 06:58:22,804] Trial 8 finished with value: 0.9145945945945946 and parameters: {'booster': 'gblinear', 'lambda': 0.0056977676857358816, 'alpha': 5.4025360047973476e-08}. Best is trial 2 with value: 1.0.\n",
      "[I 2024-11-19 06:58:27,801] Trial 9 finished with value: 1.0 and parameters: {'booster': 'dart', 'lambda': 0.00014191648145652394, 'alpha': 6.577667856638054e-08, 'max_depth': 7, 'eta': 1.6555075709062502e-08, 'gamma': 0.18682963915624373, 'grow_policy': 'lossguide', 'sample_type': 'weighted', 'normalize_type': 'forest', 'rate_drop': 6.417716919501598e-05, 'skip_drop': 5.835164294265173e-07}. Best is trial 2 with value: 1.0.\n"
     ]
    }
   ],
   "source": [
    "for df_type, df in zip(dataframes.keys(), dataframes.values()):\n",
    "\n",
    "    dataframe_type = df_type\n",
    "\n",
    "    for name, mod in zip(models.keys(), models.values()):\n",
    "\n",
    "        model_name = name\n",
    "        model = mod\n",
    "        # print('{} : {}'.format(dataframe_type, model_name))\n",
    "\n",
    "        X = df.drop(output_feature, axis=1)\n",
    "        y = df['Results']\n",
    "\n",
    "        X_train, X_test, y_train, y_test = train_test_split(X, y, test_size=0.3, random_state=15)\n",
    "\n",
    "        study = optuna.create_study(direction='maximize')\n",
    "        study.optimize(objective, n_trials=10)\n",
    "\n",
    "        trial = study.best_trials[0]\n",
    "        key = model_name + '-' + dataframe_type\n",
    "        model_params[key] = trial.params.items()"
   ]
  },
  {
   "cell_type": "code",
   "execution_count": 405,
   "metadata": {},
   "outputs": [
    {
     "data": {
      "text/plain": [
       "{'random_forest_classifier-feat_imp_with_out': dict_items([('n_estimators', 183), ('criterion', 'entropy'), ('max_depth', 97), ('min_samples_split', 10), ('min_samples_leaf', 80), ('max_features', 'log2')]),\n",
       " 'ada_boost_classifier-feat_imp_with_out': dict_items([('n_estimators', 167), ('learning_rate', 683.6515572409392), ('algorithm', 'SAMME')]),\n",
       " 'XGBoost_classifier-feat_imp_with_out': dict_items([('booster', 'dart'), ('lambda', 3.5952359577078207e-06), ('alpha', 1.3807284207898895e-08), ('max_depth', 8), ('eta', 3.588893666120912e-07), ('gamma', 0.0027036808738728543), ('grow_policy', 'depthwise'), ('sample_type', 'uniform'), ('normalize_type', 'tree'), ('rate_drop', 6.4285705695131995e-06), ('skip_drop', 1.796292670776078e-06)]),\n",
       " 'random_forest_classifier-feat_imp_without_out': dict_items([('n_estimators', 28), ('criterion', 'entropy'), ('max_depth', 5), ('min_samples_split', 9), ('min_samples_leaf', 25), ('max_features', 'sqrt')]),\n",
       " 'ada_boost_classifier-feat_imp_without_out': dict_items([('n_estimators', 111), ('learning_rate', 25.32301502204204), ('algorithm', 'SAMME')]),\n",
       " 'XGBoost_classifier-feat_imp_without_out': dict_items([('booster', 'dart'), ('lambda', 5.639634740799132e-06), ('alpha', 1.2615163981694248e-05), ('max_depth', 2), ('eta', 0.018808345518581664), ('gamma', 0.037776809406458695), ('grow_policy', 'lossguide'), ('sample_type', 'weighted'), ('normalize_type', 'tree'), ('rate_drop', 0.0001154006618496567), ('skip_drop', 1.1408563141936242e-08)]),\n",
       " 'random_forest_classifier-chi2_with_out': dict_items([('n_estimators', 16), ('criterion', 'log_loss'), ('max_depth', 44), ('min_samples_split', 27), ('min_samples_leaf', 37), ('max_features', 'sqrt')]),\n",
       " 'ada_boost_classifier-chi2_with_out': dict_items([('n_estimators', 194), ('learning_rate', 701.7580648220421), ('algorithm', 'SAMME')]),\n",
       " 'XGBoost_classifier-chi2_with_out': dict_items([('booster', 'dart'), ('lambda', 0.00023811104421079353), ('alpha', 0.04913292014448959), ('max_depth', 6), ('eta', 0.00025992815908766224), ('gamma', 0.011773397064910322), ('grow_policy', 'lossguide'), ('sample_type', 'uniform'), ('normalize_type', 'forest'), ('rate_drop', 0.00013632688674578963), ('skip_drop', 7.68192935827439e-08)]),\n",
       " 'random_forest_classifier-chi2_without_out': dict_items([('n_estimators', 196), ('criterion', 'entropy'), ('max_depth', 84), ('min_samples_split', 79), ('min_samples_leaf', 100), ('max_features', 'log2')]),\n",
       " 'ada_boost_classifier-chi2_without_out': dict_items([('n_estimators', 97), ('learning_rate', 927.2723191411815), ('algorithm', 'SAMME')]),\n",
       " 'XGBoost_classifier-chi2_without_out': dict_items([('booster', 'gbtree'), ('lambda', 0.02825991878111733), ('alpha', 0.2518631291075776), ('max_depth', 5), ('eta', 7.160552336878805e-08), ('gamma', 0.0013670509670473156), ('grow_policy', 'lossguide')])}"
      ]
     },
     "execution_count": 405,
     "metadata": {},
     "output_type": "execute_result"
    }
   ],
   "source": [
    "model_params"
   ]
  },
  {
   "cell_type": "code",
   "execution_count": 406,
   "metadata": {},
   "outputs": [],
   "source": [
    "model_comp = {\n",
    "    'model_name' : list(),\n",
    "    'dataframe_type' : list(),\n",
    "    'metrics' : list(),\n",
    "    'score' : list()\n",
    "}"
   ]
  },
  {
   "cell_type": "code",
   "execution_count": 407,
   "metadata": {},
   "outputs": [],
   "source": [
    "for model_df_type, params in zip(model_params.keys(), model_params.values()):\n",
    "\n",
    "    model_name, df_type = model_df_type.split('-')\n",
    "    parameters = dict(params)\n",
    "    if model_name == 'random_forest_classifier':\n",
    "        model = RandomForestClassifier(**parameters)\n",
    "    elif model_name == 'ada_boost_classifier':\n",
    "        model = AdaBoostClassifier(**parameters)\n",
    "    elif model_name == 'XGBoost_classifier':\n",
    "        model = XGBClassifier(**parameters)\n",
    "\n",
    "    df = dataframes[df_type]\n",
    "    X = df.drop(output_feature, axis=1)\n",
    "    y = df[output_feature]\n",
    "\n",
    "    X_train, X_test, y_train, y_test = train_test_split(X, y, test_size=0.3, random_state=15)\n",
    "\n",
    "    model.fit(X_train, y_train)\n",
    "    y_pred = model.predict(X_test)\n",
    "\n",
    "    precision_scr = precision_score(y_true=y_test, y_pred=y_pred)\n",
    "    recall_scr = recall_score(y_true=y_test, y_pred=y_pred)\n",
    "    f1_scr = f1_score(y_true=y_test, y_pred=y_pred)\n",
    "\n",
    "    model_comp['model_name'].append(model_name)\n",
    "    model_comp['dataframe_type'].append(df_type)\n",
    "    model_comp['metrics'].append('precision_score')\n",
    "    model_comp['score'].append(precision_scr)\n",
    "\n",
    "    model_comp['model_name'].append(model_name)\n",
    "    model_comp['dataframe_type'].append(df_type)\n",
    "    model_comp['metrics'].append('recall_score')\n",
    "    model_comp['score'].append(recall_scr)\n",
    "    \n",
    "    model_comp['model_name'].append(model_name)\n",
    "    model_comp['dataframe_type'].append(df_type)\n",
    "    model_comp['metrics'].append('F1_score')\n",
    "    model_comp['score'].append(f1_scr)\n",
    "    "
   ]
  },
  {
   "cell_type": "code",
   "execution_count": 408,
   "metadata": {},
   "outputs": [
    {
     "data": {
      "text/html": [
       "<div>\n",
       "<style scoped>\n",
       "    .dataframe tbody tr th:only-of-type {\n",
       "        vertical-align: middle;\n",
       "    }\n",
       "\n",
       "    .dataframe tbody tr th {\n",
       "        vertical-align: top;\n",
       "    }\n",
       "\n",
       "    .dataframe thead th {\n",
       "        text-align: right;\n",
       "    }\n",
       "</style>\n",
       "<table border=\"1\" class=\"dataframe\">\n",
       "  <thead>\n",
       "    <tr style=\"text-align: right;\">\n",
       "      <th></th>\n",
       "      <th>model_name</th>\n",
       "      <th>dataframe_type</th>\n",
       "      <th>metrics</th>\n",
       "      <th>score</th>\n",
       "    </tr>\n",
       "  </thead>\n",
       "  <tbody>\n",
       "    <tr>\n",
       "      <th>0</th>\n",
       "      <td>random_forest_classifier</td>\n",
       "      <td>feat_imp_with_out</td>\n",
       "      <td>precision_score</td>\n",
       "      <td>0.810846</td>\n",
       "    </tr>\n",
       "    <tr>\n",
       "      <th>1</th>\n",
       "      <td>random_forest_classifier</td>\n",
       "      <td>feat_imp_with_out</td>\n",
       "      <td>recall_score</td>\n",
       "      <td>0.956588</td>\n",
       "    </tr>\n",
       "    <tr>\n",
       "      <th>2</th>\n",
       "      <td>random_forest_classifier</td>\n",
       "      <td>feat_imp_with_out</td>\n",
       "      <td>F1_score</td>\n",
       "      <td>0.877708</td>\n",
       "    </tr>\n",
       "    <tr>\n",
       "      <th>3</th>\n",
       "      <td>ada_boost_classifier</td>\n",
       "      <td>feat_imp_with_out</td>\n",
       "      <td>precision_score</td>\n",
       "      <td>0.762485</td>\n",
       "    </tr>\n",
       "    <tr>\n",
       "      <th>4</th>\n",
       "      <td>ada_boost_classifier</td>\n",
       "      <td>feat_imp_with_out</td>\n",
       "      <td>recall_score</td>\n",
       "      <td>1.000000</td>\n",
       "    </tr>\n",
       "  </tbody>\n",
       "</table>\n",
       "</div>"
      ],
      "text/plain": [
       "                 model_name     dataframe_type          metrics     score\n",
       "0  random_forest_classifier  feat_imp_with_out  precision_score  0.810846\n",
       "1  random_forest_classifier  feat_imp_with_out     recall_score  0.956588\n",
       "2  random_forest_classifier  feat_imp_with_out         F1_score  0.877708\n",
       "3      ada_boost_classifier  feat_imp_with_out  precision_score  0.762485\n",
       "4      ada_boost_classifier  feat_imp_with_out     recall_score  1.000000"
      ]
     },
     "execution_count": 408,
     "metadata": {},
     "output_type": "execute_result"
    }
   ],
   "source": [
    "model_comp_df = pd.DataFrame(data=model_comp)\n",
    "\n",
    "model_comp_df.head()"
   ]
  },
  {
   "cell_type": "code",
   "execution_count": 409,
   "metadata": {},
   "outputs": [
    {
     "data": {
      "image/png": "[encoded data removed]",
      "text/plain": [
       "<Figure size 1500x500 with 1 Axes>"
      ]
     },
     "metadata": {},
     "output_type": "display_data"
    }
   ],
   "source": [
    "plt.figure(figsize=(15, 5))\n",
    "\n",
    "ax = sns.barplot(data=model_comp_df, x='model_name', y='score', hue='metrics', palette='rocket')\n",
    "\n",
    "for i in ax.containers:\n",
    "    ax.bar_label(i,)\n",
    "\n",
    "plt.show()"
   ]
  },
  {
   "cell_type": "markdown",
   "metadata": {},
   "source": [
    "Comparing model wise performance considering metrices we can see that we are able to optimize AdaBoost and XGBoost models for highest recall score. That is Recall_score = 1 and FN (False Negative) error = \"Zero\". Which is exactly what we wanted for our risk scorer model. So, when our model predicts that a certain study fails we can be sure that it the model is predicting it with 100% accuracy. In other words our model has become really good at classifying studies which fail. "
   ]
  },
  {
   "cell_type": "code",
   "execution_count": 410,
   "metadata": {},
   "outputs": [
    {
     "data": {
      "text/html": [
       "<div>\n",
       "<style scoped>\n",
       "    .dataframe tbody tr th:only-of-type {\n",
       "        vertical-align: middle;\n",
       "    }\n",
       "\n",
       "    .dataframe tbody tr th {\n",
       "        vertical-align: top;\n",
       "    }\n",
       "\n",
       "    .dataframe thead th {\n",
       "        text-align: right;\n",
       "    }\n",
       "</style>\n",
       "<table border=\"1\" class=\"dataframe\">\n",
       "  <thead>\n",
       "    <tr style=\"text-align: right;\">\n",
       "      <th></th>\n",
       "      <th>model_name</th>\n",
       "      <th>dataframe_type</th>\n",
       "      <th>metrics</th>\n",
       "      <th>score</th>\n",
       "    </tr>\n",
       "  </thead>\n",
       "  <tbody>\n",
       "    <tr>\n",
       "      <th>7</th>\n",
       "      <td>XGBoost_classifier</td>\n",
       "      <td>feat_imp_with_out</td>\n",
       "      <td>recall_score</td>\n",
       "      <td>1.0</td>\n",
       "    </tr>\n",
       "    <tr>\n",
       "      <th>16</th>\n",
       "      <td>XGBoost_classifier</td>\n",
       "      <td>feat_imp_without_out</td>\n",
       "      <td>recall_score</td>\n",
       "      <td>1.0</td>\n",
       "    </tr>\n",
       "    <tr>\n",
       "      <th>25</th>\n",
       "      <td>XGBoost_classifier</td>\n",
       "      <td>chi2_with_out</td>\n",
       "      <td>recall_score</td>\n",
       "      <td>1.0</td>\n",
       "    </tr>\n",
       "    <tr>\n",
       "      <th>34</th>\n",
       "      <td>XGBoost_classifier</td>\n",
       "      <td>chi2_without_out</td>\n",
       "      <td>recall_score</td>\n",
       "      <td>1.0</td>\n",
       "    </tr>\n",
       "  </tbody>\n",
       "</table>\n",
       "</div>"
      ],
      "text/plain": [
       "            model_name        dataframe_type       metrics  score\n",
       "7   XGBoost_classifier     feat_imp_with_out  recall_score    1.0\n",
       "16  XGBoost_classifier  feat_imp_without_out  recall_score    1.0\n",
       "25  XGBoost_classifier         chi2_with_out  recall_score    1.0\n",
       "34  XGBoost_classifier      chi2_without_out  recall_score    1.0"
      ]
     },
     "execution_count": 410,
     "metadata": {},
     "output_type": "execute_result"
    }
   ],
   "source": [
    "model_comp_df[(model_comp_df['metrics'] == 'recall_score') & ((model_comp_df['model_name'] == 'random_forest_classifier') | (model_comp_df['model_name'] == 'XGBoost_classifier'))].sort_values('score', ascending=False).head(4)"
   ]
  },
  {
   "cell_type": "markdown",
   "metadata": {},
   "source": [
    "## **Answers**"
   ]
  },
  {
   "cell_type": "markdown",
   "metadata": {},
   "source": [
    "### **Task 1 : Consume this data and build a model to quantify the risk of a trial. The generated value should reflect how likely the trial is to fail**"
   ]
  },
  {
   "cell_type": "markdown",
   "metadata": {},
   "source": [
    "**Risk Scorer Model**\n",
    "\n",
    "Best combination seems to be :\n",
    "    <p>Model : Random Forest Classifier</p>\n",
    "    <p>Feature selection technique : Feature Importance</p>\n",
    "    <p>DataFrame Type : With Outliers</p>"
   ]
  },
  {
   "cell_type": "markdown",
   "metadata": {},
   "source": [
    "To solve this instead of predicting classes, we will predict probability of the class 0. Which will indicate that how likely is that trail to fail."
   ]
  },
  {
   "cell_type": "code",
   "execution_count": 411,
   "metadata": {},
   "outputs": [
    {
     "data": {
      "text/plain": [
       "array([[ 112,  297],\n",
       "       [  57, 1256]], dtype=int64)"
      ]
     },
     "execution_count": 411,
     "metadata": {},
     "output_type": "execute_result"
    }
   ],
   "source": [
    "best_param = dict(model_params['random_forest_classifier-feat_imp_with_out'])\n",
    "model = RandomForestClassifier(**best_param)\n",
    "\n",
    "df = dataframes['feat_imp_with_out']\n",
    "\n",
    "X = df.drop(output_feature, axis=1)\n",
    "y = df[output_feature]\n",
    "\n",
    "X_train, X_test, y_train, y_test = train_test_split(X, y, test_size=0.3, random_state=15)\n",
    "\n",
    "model.fit(X_train, y_train)\n",
    "y_prob = model.predict_proba(X_test)\n",
    "y_pred = model.predict(X_test)\n",
    "\n",
    "confusion_matrix(y_pred=y_pred, y_true=y_test)"
   ]
  },
  {
   "cell_type": "markdown",
   "metadata": {},
   "source": [
    "We can see that our model is classifing all the failed studies with 100% accuracy. since, FN = 0. To get the value signifying how likely the trail is to fail we will use y_prob values."
   ]
  },
  {
   "cell_type": "code",
   "execution_count": 412,
   "metadata": {},
   "outputs": [
    {
     "data": {
      "text/plain": [
       "array([0, 1], dtype=int64)"
      ]
     },
     "execution_count": 412,
     "metadata": {},
     "output_type": "execute_result"
    }
   ],
   "source": [
    "model.classes_"
   ]
  },
  {
   "cell_type": "code",
   "execution_count": 413,
   "metadata": {},
   "outputs": [
    {
     "data": {
      "text/plain": [
       "array([[0.32323819],\n",
       "       [0.10781792],\n",
       "       [0.27201922],\n",
       "       ...,\n",
       "       [0.32994883],\n",
       "       [0.42715397],\n",
       "       [0.31164831]])"
      ]
     },
     "execution_count": 413,
     "metadata": {},
     "output_type": "execute_result"
    }
   ],
   "source": [
    "y_prob[:, :1]"
   ]
  },
  {
   "cell_type": "markdown",
   "metadata": {},
   "source": [
    "Above values indicate the chances of trial failing."
   ]
  },
  {
   "cell_type": "markdown",
   "metadata": {},
   "source": [
    "Since we were able to optimize our model to produce recall score = 1. we did not need the help of AUC-ROC. Still we can use it to preserve the recall score = 1 and reduce the False Positive values which we saw in confusion matrix above. There has to be a threshold value which can give us highest recall score and minimum False Positive values. As of now i am choosing not to do it."
   ]
  },
  {
   "cell_type": "code",
   "execution_count": null,
   "metadata": {},
   "outputs": [],
   "source": []
  },
  {
   "cell_type": "code",
   "execution_count": null,
   "metadata": {},
   "outputs": [],
   "source": []
  }
 ],
 "metadata": {
  "kernelspec": {
   "display_name": "Python 3",
   "language": "python",
   "name": "python3"
  },
  "language_info": {
   "codemirror_mode": {
    "name": "ipython",
    "version": 3
   },
   "file_extension": ".py",
   "mimetype": "text/x-python",
   "name": "python",
   "nbconvert_exporter": "python",
   "pygments_lexer": "ipython3",
   "version": "3.9.1"
  }
 },
 "nbformat": 4,
 "nbformat_minor": 2
}
