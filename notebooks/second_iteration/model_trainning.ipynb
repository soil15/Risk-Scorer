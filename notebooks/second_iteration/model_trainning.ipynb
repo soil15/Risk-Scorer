{
 "cells": [
  {
   "cell_type": "markdown",
   "metadata": {},
   "source": [
    "1. My take at creating a Risk Scorer model is, creating a model really good at predicting whether if study fails, i.e reducing Type-II error, meaning reducing FN (False Negative) error, or in other words increasing recall since {recall = TP/(TP+FN)}.\n",
    "So, the model will be able to predict failed studies with 100% accuracy.\n",
    "2. To achieve this we will be using AUC-ROC curve to evaluate threshold value.\n",
    "3. We have 12 different combinations, 4 types of dataframes and 3 different models. I want to find out how far we can increase recall score without using threshold values, by optimizing our models for higher recall score. \n",
    "3. We will take best combination and derive our final Risk Scorer model."
   ]
  },
  {
   "cell_type": "code",
   "execution_count": 369,
   "metadata": {},
   "outputs": [],
   "source": [
    "import pandas as pd \n",
    "import numpy as np \n",
    "import seaborn as sns\n",
    "import matplotlib.pyplot as plt\n",
    "import optuna\n",
    "import pickle\n",
    "import warnings\n",
    "from sklearn.ensemble import RandomForestClassifier, AdaBoostClassifier\n",
    "from xgboost import XGBClassifier\n",
    "from sklearn.metrics import f1_score, recall_score, precision_score, confusion_matrix, roc_curve\n",
    "from sklearn.model_selection import train_test_split\n",
    "warnings.filterwarnings('ignore')\n",
    "\n",
    "global model_name, model, dataframe_type, X_train, X_test, y_train, y_test\n",
    "\n",
    "output_feature = 'Results'"
   ]
  },
  {
   "cell_type": "code",
   "execution_count": 370,
   "metadata": {},
   "outputs": [],
   "source": [
    "dataframes = pd.read_pickle('../../data/dataframes.pkl')"
   ]
  },
  {
   "cell_type": "code",
   "execution_count": 371,
   "metadata": {},
   "outputs": [],
   "source": [
    "models = {\n",
    "    'random_forest_classifier' : RandomForestClassifier(),\n",
    "    'ada_boost_classifier' : AdaBoostClassifier(),\n",
    "    'XGBoost_classifier' : XGBClassifier(),\n",
    "}"
   ]
  },
  {
   "cell_type": "code",
   "execution_count": 372,
   "metadata": {},
   "outputs": [],
   "source": [
    "model_params = {}"
   ]
  },
  {
   "cell_type": "code",
   "execution_count": 373,
   "metadata": {},
   "outputs": [],
   "source": [
    "def objective(trial):\n",
    "\n",
    "    if model_name == 'ada_boost_classifier':\n",
    "        params = {\n",
    "            'n_estimators' : trial.suggest_int('n_estimators', 50, 200),\n",
    "            'learning_rate' : trial.suggest_float('learning_rate', 0, 1000),\n",
    "            'algorithm' : trial.suggest_categorical('algorithm', ['SAMME']),\n",
    "        }\n",
    "    elif model_name == 'random_forest_classifier':\n",
    "        params = {\n",
    "            'n_estimators' : trial.suggest_int('n_estimators', 5, 200),\n",
    "            'criterion'    : trial.suggest_categorical('criterion', ['log_loss', 'entropy', 'gini']),\n",
    "            'max_depth'    : trial.suggest_int('max_depth', 1, 100),\n",
    "            'min_samples_split' : trial.suggest_int('min_samples_split', 2, 100),\n",
    "            'min_samples_leaf' : trial.suggest_int('min_samples_leaf', 1, 100),\n",
    "            'max_features' : trial.suggest_categorical('max_features', ['sqrt', 'log2', None])\n",
    "        }\n",
    "    elif model_name == 'XGBoost_classifier':\n",
    "        params = {\n",
    "            \"silent\": 1,\n",
    "            \"objective\": \"binary:logistic\",\n",
    "            \"booster\": trial.suggest_categorical(\"booster\", [\"gbtree\", \"gblinear\", \"dart\"]),\n",
    "            \"lambda\": trial.suggest_loguniform(\"lambda\", 1e-8, 1.0),\n",
    "            \"alpha\": trial.suggest_loguniform(\"alpha\", 1e-8, 1.0),\n",
    "        }\n",
    "        if params[\"booster\"] == \"gbtree\" or params[\"booster\"] == \"dart\":\n",
    "            params[\"max_depth\"] = trial.suggest_int(\"max_depth\", 1, 9)\n",
    "            params[\"eta\"] = trial.suggest_loguniform(\"eta\", 1e-8, 1.0)\n",
    "            params[\"gamma\"] = trial.suggest_loguniform(\"gamma\", 1e-8, 1.0)\n",
    "            params[\"grow_policy\"] = trial.suggest_categorical(\"grow_policy\", [\"depthwise\", \"lossguide\"])\n",
    "        if params[\"booster\"] == \"dart\":\n",
    "            params[\"sample_type\"] = trial.suggest_categorical(\"sample_type\", [\"uniform\", \"weighted\"])\n",
    "            params[\"normalize_type\"] = trial.suggest_categorical(\"normalize_type\", [\"tree\", \"forest\"])\n",
    "            params[\"rate_drop\"] = trial.suggest_loguniform(\"rate_drop\", 1e-8, 1.0)\n",
    "            params[\"skip_drop\"] = trial.suggest_loguniform(\"skip_drop\", 1e-8, 1.0)\n",
    "\n",
    "    # mod = model(**params)\n",
    "    # mod.fit(X_train, y_train)\n",
    "    if model_name == 'ada_boost_classifier':\n",
    "        mod = AdaBoostClassifier(**params)\n",
    "        mod.fit(X_train, y_train)\n",
    "    elif model_name == 'random_forest_classifier':\n",
    "        mod = RandomForestClassifier(**params)\n",
    "        mod.fit(X_train, y_train)\n",
    "    elif model_name == 'XGBoost_classifier':\n",
    "        mod = XGBClassifier(**params)\n",
    "        mod.fit(X_train, y_train)\n",
    "\n",
    "    y_pred = mod.predict(X_test)\n",
    "    # f1_scr = f1_score(y_pred=y_pred, y_true=y_test)\n",
    "    # pre_score = precision_score(y_pred=y_pred, y_true=y_test)\n",
    "    recall_scr = recall_score(y_pred=y_pred, y_true=y_test)\n",
    "\n",
    "    return recall_scr"
   ]
  },
  {
   "cell_type": "code",
   "execution_count": 374,
   "metadata": {},
   "outputs": [
    {
     "name": "stderr",
     "output_type": "stream",
     "text": [
      "[I 2024-11-19 06:39:30,724] A new study created in memory with name: no-name-fdbe379d-71e6-4f15-93ab-19f18d96f06d\n"
     ]
    },
    {
     "name": "stderr",
     "output_type": "stream",
     "text": [
      "[I 2024-11-19 06:39:32,413] Trial 0 finished with value: 0.9565879664889566 and parameters: {'n_estimators': 165, 'criterion': 'gini', 'max_depth': 36, 'min_samples_split': 73, 'min_samples_leaf': 55, 'max_features': 'log2'}. Best is trial 0 with value: 0.9565879664889566.\n",
      "[I 2024-11-19 06:39:33,885] Trial 1 finished with value: 0.9543031226199543 and parameters: {'n_estimators': 150, 'criterion': 'gini', 'max_depth': 23, 'min_samples_split': 85, 'min_samples_leaf': 78, 'max_features': 'log2'}. Best is trial 0 with value: 0.9565879664889566.\n",
      "[I 2024-11-19 06:39:34,208] Trial 2 finished with value: 0.9558263518659559 and parameters: {'n_estimators': 38, 'criterion': 'gini', 'max_depth': 47, 'min_samples_split': 3, 'min_samples_leaf': 79, 'max_features': 'sqrt'}. Best is trial 0 with value: 0.9565879664889566.\n",
      "[I 2024-11-19 06:39:37,285] Trial 3 finished with value: 0.9230769230769231 and parameters: {'n_estimators': 105, 'criterion': 'gini', 'max_depth': 46, 'min_samples_split': 92, 'min_samples_leaf': 66, 'max_features': None}. Best is trial 0 with value: 0.9565879664889566.\n",
      "[I 2024-11-19 06:39:46,102] Trial 4 finished with value: 0.9253617669459253 and parameters: {'n_estimators': 168, 'criterion': 'entropy', 'max_depth': 92, 'min_samples_split': 77, 'min_samples_leaf': 8, 'max_features': None}. Best is trial 0 with value: 0.9565879664889566.\n",
      "[I 2024-11-19 06:39:46,867] Trial 5 finished with value: 0.9413556740289414 and parameters: {'n_estimators': 49, 'criterion': 'gini', 'max_depth': 66, 'min_samples_split': 36, 'min_samples_leaf': 2, 'max_features': 'log2'}. Best is trial 0 with value: 0.9565879664889566.\n",
      "[I 2024-11-19 06:39:53,057] Trial 6 finished with value: 0.9253617669459253 and parameters: {'n_estimators': 173, 'criterion': 'gini', 'max_depth': 50, 'min_samples_split': 78, 'min_samples_leaf': 32, 'max_features': None}. Best is trial 0 with value: 0.9565879664889566.\n",
      "[I 2024-11-19 06:39:58,473] Trial 7 finished with value: 0.9261233815689262 and parameters: {'n_estimators': 159, 'criterion': 'gini', 'max_depth': 73, 'min_samples_split': 8, 'min_samples_leaf': 43, 'max_features': None}. Best is trial 0 with value: 0.9565879664889566.\n",
      "[I 2024-11-19 06:39:59,565] Trial 8 finished with value: 0.955064737242955 and parameters: {'n_estimators': 119, 'criterion': 'gini', 'max_depth': 40, 'min_samples_split': 80, 'min_samples_leaf': 61, 'max_features': 'sqrt'}. Best is trial 0 with value: 0.9565879664889566.\n",
      "[I 2024-11-19 06:39:59,896] Trial 9 finished with value: 0.9611576542269612 and parameters: {'n_estimators': 41, 'criterion': 'gini', 'max_depth': 54, 'min_samples_split': 97, 'min_samples_leaf': 86, 'max_features': 'log2'}. Best is trial 9 with value: 0.9611576542269612.\n",
      "[I 2024-11-19 06:39:59,905] A new study created in memory with name: no-name-c416cf76-ef24-47fe-a92c-43d7380b436b\n",
      "[I 2024-11-19 06:39:59,930] Trial 0 finished with value: 1.0 and parameters: {'n_estimators': 114, 'learning_rate': 769.6665451169308, 'algorithm': 'SAMME'}. Best is trial 0 with value: 1.0.\n",
      "[I 2024-11-19 06:39:59,964] Trial 1 finished with value: 0.01827875095201828 and parameters: {'n_estimators': 197, 'learning_rate': 554.8644202391325, 'algorithm': 'SAMME'}. Best is trial 0 with value: 1.0.\n",
      "[I 2024-11-19 06:40:00,000] Trial 2 finished with value: 0.01827875095201828 and parameters: {'n_estimators': 101, 'learning_rate': 173.58262831776815, 'algorithm': 'SAMME'}. Best is trial 0 with value: 1.0.\n",
      "[I 2024-11-19 06:40:00,039] Trial 3 finished with value: 0.01827875095201828 and parameters: {'n_estimators': 56, 'learning_rate': 601.1945180945918, 'algorithm': 'SAMME'}. Best is trial 0 with value: 1.0.\n",
      "[I 2024-11-19 06:40:00,075] Trial 4 finished with value: 0.01827875095201828 and parameters: {'n_estimators': 174, 'learning_rate': 341.85486072722847, 'algorithm': 'SAMME'}. Best is trial 0 with value: 1.0.\n",
      "[I 2024-11-19 06:40:00,108] Trial 5 finished with value: 0.01827875095201828 and parameters: {'n_estimators': 154, 'learning_rate': 474.1150372220859, 'algorithm': 'SAMME'}. Best is trial 0 with value: 1.0.\n",
      "[I 2024-11-19 06:40:00,146] Trial 6 finished with value: 0.01827875095201828 and parameters: {'n_estimators': 69, 'learning_rate': 558.8253878253221, 'algorithm': 'SAMME'}. Best is trial 0 with value: 1.0.\n",
      "[I 2024-11-19 06:40:00,169] Trial 7 finished with value: 1.0 and parameters: {'n_estimators': 90, 'learning_rate': 827.5100257029644, 'algorithm': 'SAMME'}. Best is trial 0 with value: 1.0.\n",
      "[I 2024-11-19 06:40:00,206] Trial 8 finished with value: 0.01827875095201828 and parameters: {'n_estimators': 159, 'learning_rate': 164.84477775136907, 'algorithm': 'SAMME'}. Best is trial 0 with value: 1.0.\n",
      "[I 2024-11-19 06:40:00,231] Trial 9 finished with value: 1.0 and parameters: {'n_estimators': 77, 'learning_rate': 887.1696789599295, 'algorithm': 'SAMME'}. Best is trial 0 with value: 1.0.\n",
      "[I 2024-11-19 06:40:00,239] A new study created in memory with name: no-name-862d95fe-c1ec-4cab-b987-8d1d29e5b8d1\n",
      "[I 2024-11-19 06:40:00,347] Trial 0 finished with value: 0.9543031226199543 and parameters: {'booster': 'gblinear', 'lambda': 0.4518586745954278, 'alpha': 0.06215618302974122}. Best is trial 0 with value: 0.9543031226199543.\n",
      "[I 2024-11-19 06:40:00,465] Trial 1 finished with value: 1.0 and parameters: {'booster': 'gbtree', 'lambda': 1.4428836724067237e-08, 'alpha': 2.1798769712168205e-07, 'max_depth': 1, 'eta': 0.004393837393928539, 'gamma': 0.0006995341208083027, 'grow_policy': 'lossguide'}. Best is trial 1 with value: 1.0.\n",
      "[I 2024-11-19 06:40:00,661] Trial 2 finished with value: 1.0 and parameters: {'booster': 'gbtree', 'lambda': 6.892564334093739e-08, 'alpha': 0.1506067437589575, 'max_depth': 3, 'eta': 0.00010049292065245217, 'gamma': 0.00011330946569639924, 'grow_policy': 'lossguide'}. Best is trial 1 with value: 1.0.\n",
      "[I 2024-11-19 06:40:00,817] Trial 3 finished with value: 0.9779131759329779 and parameters: {'booster': 'gblinear', 'lambda': 0.7840471767367304, 'alpha': 0.4422357683058516}. Best is trial 1 with value: 1.0.\n",
      "[I 2024-11-19 06:40:04,893] Trial 4 finished with value: 1.0 and parameters: {'booster': 'dart', 'lambda': 2.9038869634301358e-08, 'alpha': 1.5143989033715045e-05, 'max_depth': 6, 'eta': 0.0011986975146148198, 'gamma': 2.119209086891281e-06, 'grow_policy': 'lossguide', 'sample_type': 'uniform', 'normalize_type': 'forest', 'rate_drop': 1.875119403388162e-08, 'skip_drop': 0.22143268993867815}. Best is trial 1 with value: 1.0.\n",
      "[I 2024-11-19 06:40:05,011] Trial 5 finished with value: 0.8994668697638994 and parameters: {'booster': 'gblinear', 'lambda': 2.1984581369497593e-08, 'alpha': 7.338157604762186e-05}. Best is trial 1 with value: 1.0.\n",
      "[I 2024-11-19 06:40:09,083] Trial 6 finished with value: 1.0 and parameters: {'booster': 'dart', 'lambda': 0.0014669307526094632, 'alpha': 2.407982491429944e-08, 'max_depth': 3, 'eta': 0.0002928713387033069, 'gamma': 7.513362903409034e-08, 'grow_policy': 'depthwise', 'sample_type': 'weighted', 'normalize_type': 'forest', 'rate_drop': 0.00015798261091336293, 'skip_drop': 9.405360372567823e-06}. Best is trial 1 with value: 1.0.\n",
      "[I 2024-11-19 06:40:13,196] Trial 7 finished with value: 1.0 and parameters: {'booster': 'dart', 'lambda': 0.4378573621653415, 'alpha': 0.028186878290694568, 'max_depth': 6, 'eta': 1.0653278235746604e-08, 'gamma': 0.0069347658320538606, 'grow_policy': 'depthwise', 'sample_type': 'uniform', 'normalize_type': 'tree', 'rate_drop': 7.519879955412784e-05, 'skip_drop': 3.1098411616964165e-06}. Best is trial 1 with value: 1.0.\n",
      "[I 2024-11-19 06:40:13,533] Trial 8 finished with value: 1.0 and parameters: {'booster': 'gbtree', 'lambda': 2.2762256609352013e-07, 'alpha': 8.336176434217743e-08, 'max_depth': 6, 'eta': 5.566411049631892e-05, 'gamma': 5.17840929162982e-06, 'grow_policy': 'depthwise'}. Best is trial 1 with value: 1.0.\n",
      "[I 2024-11-19 06:40:13,634] Trial 9 finished with value: 0.0 and parameters: {'booster': 'gblinear', 'lambda': 0.0001670590641134566, 'alpha': 1.8048904287903021e-07}. Best is trial 1 with value: 1.0.\n",
      "[I 2024-11-19 06:40:13,649] A new study created in memory with name: no-name-28b64248-a2d3-476e-830c-d5aa678cfbb6\n",
      "[I 2024-11-19 06:40:17,924] Trial 0 finished with value: 0.9210810810810811 and parameters: {'n_estimators': 178, 'criterion': 'gini', 'max_depth': 94, 'min_samples_split': 26, 'min_samples_leaf': 42, 'max_features': None}. Best is trial 0 with value: 0.9210810810810811.\n",
      "[I 2024-11-19 06:40:18,877] Trial 1 finished with value: 0.9718918918918918 and parameters: {'n_estimators': 93, 'criterion': 'entropy', 'max_depth': 88, 'min_samples_split': 64, 'min_samples_leaf': 14, 'max_features': 'log2'}. Best is trial 1 with value: 0.9718918918918918.\n",
      "[I 2024-11-19 06:40:18,992] Trial 2 finished with value: 0.9740540540540541 and parameters: {'n_estimators': 14, 'criterion': 'gini', 'max_depth': 75, 'min_samples_split': 20, 'min_samples_leaf': 52, 'max_features': 'log2'}. Best is trial 2 with value: 0.9740540540540541.\n",
      "[I 2024-11-19 06:40:21,062] Trial 3 finished with value: 0.9167567567567567 and parameters: {'n_estimators': 96, 'criterion': 'gini', 'max_depth': 77, 'min_samples_split': 10, 'min_samples_leaf': 54, 'max_features': None}. Best is trial 2 with value: 0.9740540540540541.\n",
      "[I 2024-11-19 06:40:21,405] Trial 4 finished with value: 0.9783783783783784 and parameters: {'n_estimators': 40, 'criterion': 'log_loss', 'max_depth': 48, 'min_samples_split': 80, 'min_samples_leaf': 57, 'max_features': 'log2'}. Best is trial 4 with value: 0.9783783783783784.\n",
      "[I 2024-11-19 06:40:21,854] Trial 5 finished with value: 0.9805405405405405 and parameters: {'n_estimators': 65, 'criterion': 'gini', 'max_depth': 35, 'min_samples_split': 55, 'min_samples_leaf': 80, 'max_features': 'log2'}. Best is trial 5 with value: 0.9805405405405405.\n",
      "[I 2024-11-19 06:40:22,836] Trial 6 finished with value: 0.972972972972973 and parameters: {'n_estimators': 111, 'criterion': 'gini', 'max_depth': 38, 'min_samples_split': 45, 'min_samples_leaf': 33, 'max_features': 'log2'}. Best is trial 5 with value: 0.9805405405405405.\n",
      "[I 2024-11-19 06:40:23,166] Trial 7 finished with value: 0.9924324324324324 and parameters: {'n_estimators': 50, 'criterion': 'log_loss', 'max_depth': 64, 'min_samples_split': 52, 'min_samples_leaf': 99, 'max_features': 'sqrt'}. Best is trial 7 with value: 0.9924324324324324.\n",
      "[I 2024-11-19 06:40:25,407] Trial 8 finished with value: 0.9654054054054054 and parameters: {'n_estimators': 167, 'criterion': 'log_loss', 'max_depth': 27, 'min_samples_split': 19, 'min_samples_leaf': 7, 'max_features': 'sqrt'}. Best is trial 7 with value: 0.9924324324324324.\n",
      "[I 2024-11-19 06:40:26,596] Trial 9 finished with value: 0.972972972972973 and parameters: {'n_estimators': 155, 'criterion': 'gini', 'max_depth': 49, 'min_samples_split': 30, 'min_samples_leaf': 50, 'max_features': 'log2'}. Best is trial 7 with value: 0.9924324324324324.\n",
      "[I 2024-11-19 06:40:26,612] A new study created in memory with name: no-name-50cc1093-3b50-4356-9b57-6f8d4e60d5ac\n",
      "[I 2024-11-19 06:40:26,645] Trial 0 finished with value: 0.015135135135135135 and parameters: {'n_estimators': 142, 'learning_rate': 661.014290242878, 'algorithm': 'SAMME'}. Best is trial 0 with value: 0.015135135135135135.\n",
      "[I 2024-11-19 06:40:26,683] Trial 1 finished with value: 0.015135135135135135 and parameters: {'n_estimators': 102, 'learning_rate': 157.95941244365596, 'algorithm': 'SAMME'}. Best is trial 0 with value: 0.015135135135135135.\n",
      "[I 2024-11-19 06:40:26,708] Trial 2 finished with value: 1.0 and parameters: {'n_estimators': 125, 'learning_rate': 952.800256321157, 'algorithm': 'SAMME'}. Best is trial 2 with value: 1.0.\n",
      "[I 2024-11-19 06:40:26,744] Trial 3 finished with value: 0.015135135135135135 and parameters: {'n_estimators': 139, 'learning_rate': 505.50814944588296, 'algorithm': 'SAMME'}. Best is trial 2 with value: 1.0.\n",
      "[I 2024-11-19 06:40:26,781] Trial 4 finished with value: 0.015135135135135135 and parameters: {'n_estimators': 142, 'learning_rate': 317.444484058791, 'algorithm': 'SAMME'}. Best is trial 2 with value: 1.0.\n",
      "[I 2024-11-19 06:40:26,820] Trial 5 finished with value: 0.015135135135135135 and parameters: {'n_estimators': 102, 'learning_rate': 452.28271877410333, 'algorithm': 'SAMME'}. Best is trial 2 with value: 1.0.\n",
      "[I 2024-11-19 06:40:26,856] Trial 6 finished with value: 0.015135135135135135 and parameters: {'n_estimators': 155, 'learning_rate': 245.9255210757556, 'algorithm': 'SAMME'}. Best is trial 2 with value: 1.0.\n",
      "[I 2024-11-19 06:40:26,891] Trial 7 finished with value: 0.015135135135135135 and parameters: {'n_estimators': 178, 'learning_rate': 649.1191121373032, 'algorithm': 'SAMME'}. Best is trial 2 with value: 1.0.\n",
      "[I 2024-11-19 06:40:26,924] Trial 8 finished with value: 0.015135135135135135 and parameters: {'n_estimators': 168, 'learning_rate': 323.2077487841639, 'algorithm': 'SAMME'}. Best is trial 2 with value: 1.0.\n",
      "[I 2024-11-19 06:40:26,954] Trial 9 finished with value: 0.015135135135135135 and parameters: {'n_estimators': 121, 'learning_rate': 312.08176413678814, 'algorithm': 'SAMME'}. Best is trial 2 with value: 1.0.\n",
      "[I 2024-11-19 06:40:26,961] A new study created in memory with name: no-name-bdc9b6a5-bb49-41dc-afec-d1626ee4b1ab\n",
      "[I 2024-11-19 06:40:27,058] Trial 0 finished with value: 0.9059459459459459 and parameters: {'booster': 'gblinear', 'lambda': 1.055545331611423e-05, 'alpha': 2.8926212018884243e-06}. Best is trial 0 with value: 0.9059459459459459.\n",
      "[I 2024-11-19 06:40:27,204] Trial 1 finished with value: 0.9113513513513514 and parameters: {'booster': 'gblinear', 'lambda': 3.7259396368389706e-05, 'alpha': 0.0009256879038731577}. Best is trial 1 with value: 0.9113513513513514.\n",
      "[I 2024-11-19 06:40:27,350] Trial 2 finished with value: 0.9145945945945946 and parameters: {'booster': 'gblinear', 'lambda': 0.03130457768837199, 'alpha': 0.0011610229033938338}. Best is trial 2 with value: 0.9145945945945946.\n",
      "[I 2024-11-19 06:40:27,455] Trial 3 finished with value: 0.9145945945945946 and parameters: {'booster': 'gblinear', 'lambda': 2.2399024850981006e-08, 'alpha': 5.492798770981581e-07}. Best is trial 2 with value: 0.9145945945945946.\n",
      "[I 2024-11-19 06:40:30,511] Trial 4 finished with value: 1.0 and parameters: {'booster': 'dart', 'lambda': 0.0013920590393561659, 'alpha': 4.2696438340522235e-08, 'max_depth': 2, 'eta': 0.0005735054741702758, 'gamma': 0.14099356015221787, 'grow_policy': 'depthwise', 'sample_type': 'weighted', 'normalize_type': 'tree', 'rate_drop': 0.002028152546759995, 'skip_drop': 6.273687181012778e-06}. Best is trial 4 with value: 1.0.\n",
      "[I 2024-11-19 06:40:34,031] Trial 5 finished with value: 1.0 and parameters: {'booster': 'dart', 'lambda': 0.03325876080981937, 'alpha': 0.009359295273069048, 'max_depth': 4, 'eta': 5.711276830943852e-06, 'gamma': 0.027500185336618792, 'grow_policy': 'lossguide', 'sample_type': 'uniform', 'normalize_type': 'forest', 'rate_drop': 5.081009647850356e-07, 'skip_drop': 5.858147848860891e-05}. Best is trial 4 with value: 1.0.\n",
      "[I 2024-11-19 06:40:34,124] Trial 6 finished with value: 0.9308108108108109 and parameters: {'booster': 'gblinear', 'lambda': 0.13068544372633606, 'alpha': 0.017927223972109746}. Best is trial 4 with value: 1.0.\n",
      "[I 2024-11-19 06:40:34,215] Trial 7 finished with value: 0.4454054054054054 and parameters: {'booster': 'gblinear', 'lambda': 0.011778776722840681, 'alpha': 1.9336657505232022e-05}. Best is trial 4 with value: 1.0.\n",
      "[I 2024-11-19 06:40:34,588] Trial 8 finished with value: 1.0 and parameters: {'booster': 'gbtree', 'lambda': 2.447832713912881e-05, 'alpha': 0.0003461911279100287, 'max_depth': 5, 'eta': 2.9222649220942303e-06, 'gamma': 0.0012067450257446407, 'grow_policy': 'lossguide'}. Best is trial 4 with value: 1.0.\n",
      "[I 2024-11-19 06:40:35,788] Trial 9 finished with value: 0.9459459459459459 and parameters: {'booster': 'gbtree', 'lambda': 0.004774068429488517, 'alpha': 0.0001578441716090501, 'max_depth': 8, 'eta': 0.017468546494142003, 'gamma': 2.422045013642773e-06, 'grow_policy': 'lossguide'}. Best is trial 4 with value: 1.0.\n",
      "[I 2024-11-19 06:40:35,805] A new study created in memory with name: no-name-91f6f828-e6bb-489e-bbc4-0b2da482c4f3\n",
      "[I 2024-11-19 06:40:36,579] Trial 0 finished with value: 0.9230769230769231 and parameters: {'n_estimators': 21, 'criterion': 'gini', 'max_depth': 9, 'min_samples_split': 2, 'min_samples_leaf': 31, 'max_features': None}. Best is trial 0 with value: 0.9230769230769231.\n",
      "[I 2024-11-19 06:40:42,893] Trial 1 finished with value: 0.9223153084539223 and parameters: {'n_estimators': 140, 'criterion': 'log_loss', 'max_depth': 51, 'min_samples_split': 70, 'min_samples_leaf': 15, 'max_features': None}. Best is trial 0 with value: 0.9230769230769231.\n",
      "[I 2024-11-19 06:40:44,230] Trial 2 finished with value: 0.9436405178979437 and parameters: {'n_estimators': 132, 'criterion': 'gini', 'max_depth': 20, 'min_samples_split': 47, 'min_samples_leaf': 43, 'max_features': 'log2'}. Best is trial 2 with value: 0.9436405178979437.\n",
      "[I 2024-11-19 06:40:44,854] Trial 3 finished with value: 0.9451637471439451 and parameters: {'n_estimators': 58, 'criterion': 'log_loss', 'max_depth': 92, 'min_samples_split': 96, 'min_samples_leaf': 58, 'max_features': 'sqrt'}. Best is trial 3 with value: 0.9451637471439451.\n",
      "[I 2024-11-19 06:40:46,584] Trial 4 finished with value: 0.9375476009139375 and parameters: {'n_estimators': 124, 'criterion': 'log_loss', 'max_depth': 72, 'min_samples_split': 29, 'min_samples_leaf': 36, 'max_features': 'sqrt'}. Best is trial 3 with value: 0.9451637471439451.\n",
      "[I 2024-11-19 06:40:52,287] Trial 5 finished with value: 0.9246001523229246 and parameters: {'n_estimators': 114, 'criterion': 'entropy', 'max_depth': 19, 'min_samples_split': 83, 'min_samples_leaf': 8, 'max_features': None}. Best is trial 3 with value: 0.9451637471439451.\n",
      "[I 2024-11-19 06:40:54,056] Trial 6 finished with value: 0.9421172886519421 and parameters: {'n_estimators': 177, 'criterion': 'gini', 'max_depth': 73, 'min_samples_split': 78, 'min_samples_leaf': 38, 'max_features': 'sqrt'}. Best is trial 3 with value: 0.9451637471439451.\n",
      "[I 2024-11-19 06:40:58,788] Trial 7 finished with value: 0.9276466108149276 and parameters: {'n_estimators': 123, 'criterion': 'entropy', 'max_depth': 60, 'min_samples_split': 14, 'min_samples_leaf': 38, 'max_features': None}. Best is trial 3 with value: 0.9451637471439451.\n",
      "[I 2024-11-19 06:41:00,061] Trial 8 finished with value: 0.9238385376999239 and parameters: {'n_estimators': 34, 'criterion': 'entropy', 'max_depth': 44, 'min_samples_split': 12, 'min_samples_leaf': 48, 'max_features': None}. Best is trial 3 with value: 0.9451637471439451.\n",
      "[I 2024-11-19 06:41:01,588] Trial 9 finished with value: 0.9146991622239147 and parameters: {'n_estimators': 57, 'criterion': 'gini', 'max_depth': 87, 'min_samples_split': 73, 'min_samples_leaf': 88, 'max_features': None}. Best is trial 3 with value: 0.9451637471439451.\n",
      "[I 2024-11-19 06:41:01,599] A new study created in memory with name: no-name-8347097b-f3da-4722-8a45-3c0068c434f9\n",
      "[I 2024-11-19 06:41:01,632] Trial 0 finished with value: 0.01827875095201828 and parameters: {'n_estimators': 166, 'learning_rate': 434.42611707938704, 'algorithm': 'SAMME'}. Best is trial 0 with value: 0.01827875095201828.\n",
      "[I 2024-11-19 06:41:01,654] Trial 1 finished with value: 1.0 and parameters: {'n_estimators': 172, 'learning_rate': 736.6369452728786, 'algorithm': 'SAMME'}. Best is trial 1 with value: 1.0.\n",
      "[I 2024-11-19 06:41:01,675] Trial 2 finished with value: 1.0 and parameters: {'n_estimators': 189, 'learning_rate': 772.2286572400193, 'algorithm': 'SAMME'}. Best is trial 1 with value: 1.0.\n",
      "[I 2024-11-19 06:41:01,714] Trial 3 finished with value: 0.01827875095201828 and parameters: {'n_estimators': 110, 'learning_rate': 170.28940777974088, 'algorithm': 'SAMME'}. Best is trial 1 with value: 1.0.\n",
      "[I 2024-11-19 06:41:01,751] Trial 4 finished with value: 0.01827875095201828 and parameters: {'n_estimators': 184, 'learning_rate': 280.7073310232484, 'algorithm': 'SAMME'}. Best is trial 1 with value: 1.0.\n",
      "[I 2024-11-19 06:41:01,797] Trial 5 finished with value: 0.01827875095201828 and parameters: {'n_estimators': 93, 'learning_rate': 536.228307634223, 'algorithm': 'SAMME'}. Best is trial 1 with value: 1.0.\n",
      "[I 2024-11-19 06:41:01,840] Trial 6 finished with value: 0.01827875095201828 and parameters: {'n_estimators': 159, 'learning_rate': 31.952508415878267, 'algorithm': 'SAMME'}. Best is trial 1 with value: 1.0.\n",
      "[I 2024-11-19 06:41:01,865] Trial 7 finished with value: 1.0 and parameters: {'n_estimators': 183, 'learning_rate': 762.6058926345337, 'algorithm': 'SAMME'}. Best is trial 1 with value: 1.0.\n",
      "[I 2024-11-19 06:41:01,898] Trial 8 finished with value: 0.01827875095201828 and parameters: {'n_estimators': 63, 'learning_rate': 96.54520787975707, 'algorithm': 'SAMME'}. Best is trial 1 with value: 1.0.\n",
      "[I 2024-11-19 06:41:01,935] Trial 9 finished with value: 0.01827875095201828 and parameters: {'n_estimators': 133, 'learning_rate': 452.14339601322826, 'algorithm': 'SAMME'}. Best is trial 1 with value: 1.0.\n",
      "[I 2024-11-19 06:41:01,943] A new study created in memory with name: no-name-aeb0f3e2-f93b-4772-be28-96eb69ed6fce\n",
      "[I 2024-11-19 06:41:02,051] Trial 0 finished with value: 0.8948971820258949 and parameters: {'booster': 'gblinear', 'lambda': 3.4741617651338436e-07, 'alpha': 0.0004526917397681891}. Best is trial 0 with value: 0.8948971820258949.\n",
      "[I 2024-11-19 06:41:06,298] Trial 1 finished with value: 0.9238385376999239 and parameters: {'booster': 'dart', 'lambda': 5.958001579835215e-08, 'alpha': 6.554036243965593e-06, 'max_depth': 6, 'eta': 0.3345789642521794, 'gamma': 1.1348299932626369e-05, 'grow_policy': 'lossguide', 'sample_type': 'weighted', 'normalize_type': 'forest', 'rate_drop': 3.6375598400783084e-05, 'skip_drop': 1.328327551744686e-07}. Best is trial 1 with value: 0.9238385376999239.\n",
      "[I 2024-11-19 06:41:06,419] Trial 2 finished with value: 0.8948971820258949 and parameters: {'booster': 'gblinear', 'lambda': 4.91365633366641e-05, 'alpha': 9.751402331590232e-07}. Best is trial 1 with value: 0.9238385376999239.\n",
      "[I 2024-11-19 06:41:10,154] Trial 3 finished with value: 0.9177456207159177 and parameters: {'booster': 'dart', 'lambda': 1.6804220347410982e-05, 'alpha': 1.0075072495880047e-07, 'max_depth': 6, 'eta': 0.5939699048515144, 'gamma': 1.2299558355051667e-07, 'grow_policy': 'depthwise', 'sample_type': 'uniform', 'normalize_type': 'forest', 'rate_drop': 0.0038133476612313526, 'skip_drop': 0.0005938914543915945}. Best is trial 1 with value: 0.9238385376999239.\n",
      "[I 2024-11-19 06:41:10,253] Trial 4 finished with value: 0.9367859862909368 and parameters: {'booster': 'gblinear', 'lambda': 0.0005007151542725987, 'alpha': 0.06363030619943333}. Best is trial 4 with value: 0.9367859862909368.\n",
      "[I 2024-11-19 06:41:15,222] Trial 5 finished with value: 1.0 and parameters: {'booster': 'dart', 'lambda': 0.18381915895569598, 'alpha': 0.0006739415238199353, 'max_depth': 9, 'eta': 0.000431150808574512, 'gamma': 0.12099964286677056, 'grow_policy': 'lossguide', 'sample_type': 'weighted', 'normalize_type': 'tree', 'rate_drop': 6.994631727773632e-07, 'skip_drop': 0.06212550099662749}. Best is trial 5 with value: 1.0.\n",
      "[I 2024-11-19 06:41:18,987] Trial 6 finished with value: 1.0 and parameters: {'booster': 'dart', 'lambda': 1.8407817975516503e-08, 'alpha': 3.201123299608441e-07, 'max_depth': 5, 'eta': 0.0003379019936755126, 'gamma': 1.5177132451692788e-07, 'grow_policy': 'lossguide', 'sample_type': 'uniform', 'normalize_type': 'tree', 'rate_drop': 7.577370901302124e-07, 'skip_drop': 0.007010709361984668}. Best is trial 5 with value: 1.0.\n",
      "[I 2024-11-19 06:41:20,813] Trial 7 finished with value: 1.0 and parameters: {'booster': 'gbtree', 'lambda': 0.00042809626908443165, 'alpha': 0.03844148949292941, 'max_depth': 9, 'eta': 3.872213002515353e-05, 'gamma': 1.4617715569287505e-05, 'grow_policy': 'lossguide'}. Best is trial 5 with value: 1.0.\n",
      "[I 2024-11-19 06:41:21,003] Trial 8 finished with value: 0.9215536938309216 and parameters: {'booster': 'gbtree', 'lambda': 1.9202991298271972e-07, 'alpha': 0.003115281237017703, 'max_depth': 4, 'eta': 0.15290987606718126, 'gamma': 5.116322794604707e-06, 'grow_policy': 'depthwise'}. Best is trial 5 with value: 1.0.\n",
      "[I 2024-11-19 06:41:21,104] Trial 9 finished with value: 0.9718202589489718 and parameters: {'booster': 'gblinear', 'lambda': 2.0186712747291377e-07, 'alpha': 0.2351548148002871}. Best is trial 5 with value: 1.0.\n",
      "[I 2024-11-19 06:41:21,117] A new study created in memory with name: no-name-c9daa206-84e4-4ab2-8c13-e6035d531f1a\n",
      "[I 2024-11-19 06:41:21,835] Trial 0 finished with value: 1.0 and parameters: {'n_estimators': 127, 'criterion': 'entropy', 'max_depth': 3, 'min_samples_split': 40, 'min_samples_leaf': 75, 'max_features': 'sqrt'}. Best is trial 0 with value: 1.0.\n",
      "[I 2024-11-19 06:41:23,004] Trial 1 finished with value: 0.9567567567567568 and parameters: {'n_estimators': 110, 'criterion': 'entropy', 'max_depth': 59, 'min_samples_split': 89, 'min_samples_leaf': 15, 'max_features': 'sqrt'}. Best is trial 0 with value: 1.0.\n",
      "[I 2024-11-19 06:41:24,085] Trial 2 finished with value: 0.9664864864864865 and parameters: {'n_estimators': 145, 'criterion': 'gini', 'max_depth': 19, 'min_samples_split': 95, 'min_samples_leaf': 48, 'max_features': 'log2'}. Best is trial 0 with value: 1.0.\n",
      "[I 2024-11-19 06:41:25,729] Trial 3 finished with value: 0.9318918918918919 and parameters: {'n_estimators': 100, 'criterion': 'gini', 'max_depth': 5, 'min_samples_split': 35, 'min_samples_leaf': 86, 'max_features': None}. Best is trial 0 with value: 1.0.\n",
      "[I 2024-11-19 06:41:27,521] Trial 4 finished with value: 0.9448648648648649 and parameters: {'n_estimators': 159, 'criterion': 'log_loss', 'max_depth': 53, 'min_samples_split': 90, 'min_samples_leaf': 5, 'max_features': 'log2'}. Best is trial 0 with value: 1.0.\n",
      "[I 2024-11-19 06:41:28,545] Trial 5 finished with value: 0.9664864864864865 and parameters: {'n_estimators': 138, 'criterion': 'entropy', 'max_depth': 17, 'min_samples_split': 39, 'min_samples_leaf': 71, 'max_features': 'log2'}. Best is trial 0 with value: 1.0.\n",
      "[I 2024-11-19 06:41:29,106] Trial 6 finished with value: 0.9697297297297297 and parameters: {'n_estimators': 74, 'criterion': 'gini', 'max_depth': 24, 'min_samples_split': 96, 'min_samples_leaf': 45, 'max_features': 'sqrt'}. Best is trial 0 with value: 1.0.\n",
      "[I 2024-11-19 06:41:30,450] Trial 7 finished with value: 0.9524324324324325 and parameters: {'n_estimators': 134, 'criterion': 'entropy', 'max_depth': 59, 'min_samples_split': 99, 'min_samples_leaf': 15, 'max_features': 'log2'}. Best is trial 0 with value: 1.0.\n",
      "[I 2024-11-19 06:41:34,762] Trial 8 finished with value: 0.9178378378378378 and parameters: {'n_estimators': 160, 'criterion': 'log_loss', 'max_depth': 35, 'min_samples_split': 25, 'min_samples_leaf': 42, 'max_features': None}. Best is trial 0 with value: 1.0.\n",
      "[I 2024-11-19 06:41:35,683] Trial 9 finished with value: 0.9243243243243243 and parameters: {'n_estimators': 34, 'criterion': 'log_loss', 'max_depth': 73, 'min_samples_split': 93, 'min_samples_leaf': 33, 'max_features': None}. Best is trial 0 with value: 1.0.\n",
      "[I 2024-11-19 06:41:35,691] A new study created in memory with name: no-name-a8d8452b-6282-4678-a2f3-80036e725491\n",
      "[I 2024-11-19 06:41:35,719] Trial 0 finished with value: 0.015135135135135135 and parameters: {'n_estimators': 118, 'learning_rate': 564.315719485455, 'algorithm': 'SAMME'}. Best is trial 0 with value: 0.015135135135135135.\n",
      "[I 2024-11-19 06:41:35,746] Trial 1 finished with value: 0.015135135135135135 and parameters: {'n_estimators': 189, 'learning_rate': 709.2792036518284, 'algorithm': 'SAMME'}. Best is trial 0 with value: 0.015135135135135135.\n",
      "[I 2024-11-19 06:41:35,764] Trial 2 finished with value: 1.0 and parameters: {'n_estimators': 51, 'learning_rate': 973.5433239329456, 'algorithm': 'SAMME'}. Best is trial 2 with value: 1.0.\n",
      "[I 2024-11-19 06:41:35,792] Trial 3 finished with value: 0.015135135135135135 and parameters: {'n_estimators': 127, 'learning_rate': 252.88909885345788, 'algorithm': 'SAMME'}. Best is trial 2 with value: 1.0.\n",
      "[I 2024-11-19 06:41:35,810] Trial 4 finished with value: 1.0 and parameters: {'n_estimators': 66, 'learning_rate': 958.545987062197, 'algorithm': 'SAMME'}. Best is trial 2 with value: 1.0.\n",
      "[I 2024-11-19 06:41:35,828] Trial 5 finished with value: 1.0 and parameters: {'n_estimators': 87, 'learning_rate': 733.1801782195248, 'algorithm': 'SAMME'}. Best is trial 2 with value: 1.0.\n",
      "[I 2024-11-19 06:41:35,856] Trial 6 finished with value: 0.015135135135135135 and parameters: {'n_estimators': 68, 'learning_rate': 275.0494732581673, 'algorithm': 'SAMME'}. Best is trial 2 with value: 1.0.\n",
      "[I 2024-11-19 06:41:35,888] Trial 7 finished with value: 0.015135135135135135 and parameters: {'n_estimators': 187, 'learning_rate': 507.49348959133835, 'algorithm': 'SAMME'}. Best is trial 2 with value: 1.0.\n",
      "[I 2024-11-19 06:41:35,926] Trial 8 finished with value: 0.015135135135135135 and parameters: {'n_estimators': 144, 'learning_rate': 280.40803905241586, 'algorithm': 'SAMME'}. Best is trial 2 with value: 1.0.\n",
      "[I 2024-11-19 06:41:35,962] Trial 9 finished with value: 0.015135135135135135 and parameters: {'n_estimators': 162, 'learning_rate': 387.1718780476001, 'algorithm': 'SAMME'}. Best is trial 2 with value: 1.0.\n",
      "[I 2024-11-19 06:41:35,970] A new study created in memory with name: no-name-b5cca689-1acd-43f4-9767-6bfd5e79c57f\n",
      "[I 2024-11-19 06:41:36,077] Trial 0 finished with value: 0.9059459459459459 and parameters: {'booster': 'gblinear', 'lambda': 2.26018580839483e-07, 'alpha': 9.833224227071553e-05}. Best is trial 0 with value: 0.9059459459459459.\n",
      "[I 2024-11-19 06:41:36,209] Trial 1 finished with value: 1.0 and parameters: {'booster': 'gbtree', 'lambda': 0.04000609009292186, 'alpha': 1.7384546637667204e-06, 'max_depth': 1, 'eta': 4.3147836283207925e-05, 'gamma': 0.000871012329415671, 'grow_policy': 'lossguide'}. Best is trial 1 with value: 1.0.\n",
      "[I 2024-11-19 06:41:36,589] Trial 2 finished with value: 1.0 and parameters: {'booster': 'gbtree', 'lambda': 2.5021450875481575e-08, 'alpha': 1.8594199675102158e-08, 'max_depth': 7, 'eta': 0.0007494371953172502, 'gamma': 0.0052421502820966985, 'grow_policy': 'depthwise'}. Best is trial 1 with value: 1.0.\n",
      "[I 2024-11-19 06:41:39,380] Trial 3 finished with value: 1.0 and parameters: {'booster': 'dart', 'lambda': 9.582909950825621e-06, 'alpha': 2.7721696532668427e-06, 'max_depth': 2, 'eta': 0.0017358636063374234, 'gamma': 3.5535697225302704e-06, 'grow_policy': 'depthwise', 'sample_type': 'uniform', 'normalize_type': 'tree', 'rate_drop': 4.137062834774474e-05, 'skip_drop': 0.001908092910458796}. Best is trial 1 with value: 1.0.\n",
      "[I 2024-11-19 06:41:42,428] Trial 4 finished with value: 0.9232432432432433 and parameters: {'booster': 'dart', 'lambda': 3.053205882466474e-08, 'alpha': 2.0378159266332457e-08, 'max_depth': 4, 'eta': 0.29795167559627295, 'gamma': 1.3045678400752238e-08, 'grow_policy': 'depthwise', 'sample_type': 'uniform', 'normalize_type': 'tree', 'rate_drop': 2.892971704709713e-07, 'skip_drop': 2.3429240835453886e-08}. Best is trial 1 with value: 1.0.\n",
      "[I 2024-11-19 06:41:42,518] Trial 5 finished with value: 0.9210810810810811 and parameters: {'booster': 'gblinear', 'lambda': 0.02635644843772037, 'alpha': 0.0039341936013224665}. Best is trial 1 with value: 1.0.\n",
      "[I 2024-11-19 06:41:42,607] Trial 6 finished with value: 0.9048648648648648 and parameters: {'booster': 'gblinear', 'lambda': 2.459221359117442e-05, 'alpha': 1.671238380569912e-06}. Best is trial 1 with value: 1.0.\n",
      "[I 2024-11-19 06:41:42,697] Trial 7 finished with value: 0.9135135135135135 and parameters: {'booster': 'gblinear', 'lambda': 1.2332245416704963e-05, 'alpha': 0.002688637477358013}. Best is trial 1 with value: 1.0.\n",
      "[I 2024-11-19 06:41:46,740] Trial 8 finished with value: 1.0 and parameters: {'booster': 'dart', 'lambda': 0.017720627730760618, 'alpha': 0.002180587100468888, 'max_depth': 9, 'eta': 4.304597034242959e-07, 'gamma': 2.5518134617098274e-08, 'grow_policy': 'lossguide', 'sample_type': 'weighted', 'normalize_type': 'forest', 'rate_drop': 0.2520166206421713, 'skip_drop': 0.0002285231066239526}. Best is trial 1 with value: 1.0.\n",
      "[I 2024-11-19 06:41:50,718] Trial 9 finished with value: 1.0 and parameters: {'booster': 'dart', 'lambda': 0.0819385392692398, 'alpha': 0.0025010396074357424, 'max_depth': 8, 'eta': 4.540319443212639e-06, 'gamma': 0.8023821169407716, 'grow_policy': 'lossguide', 'sample_type': 'weighted', 'normalize_type': 'forest', 'rate_drop': 2.4279440655120686e-07, 'skip_drop': 1.2573585083491314e-05}. Best is trial 1 with value: 1.0.\n"
     ]
    }
   ],
   "source": [
    "for df_type, df in zip(dataframes.keys(), dataframes.values()):\n",
    "\n",
    "    dataframe_type = df_type\n",
    "\n",
    "    for name, mod in zip(models.keys(), models.values()):\n",
    "\n",
    "        model_name = name\n",
    "        model = mod\n",
    "        # print('{} : {}'.format(dataframe_type, model_name))\n",
    "\n",
    "        X = df.drop(output_feature, axis=1)\n",
    "        y = df['Results']\n",
    "\n",
    "        X_train, X_test, y_train, y_test = train_test_split(X, y, test_size=0.3, random_state=15)\n",
    "\n",
    "        study = optuna.create_study(direction='maximize')\n",
    "        study.optimize(objective, n_trials=10)\n",
    "\n",
    "        trial = study.best_trials[0]\n",
    "        key = model_name + '-' + dataframe_type\n",
    "        model_params[key] = trial.params.items()"
   ]
  },
  {
   "cell_type": "code",
   "execution_count": 375,
   "metadata": {},
   "outputs": [
    {
     "data": {
      "text/plain": [
       "{'random_forest_classifier-feat_imp_with_out': dict_items([('n_estimators', 41), ('criterion', 'gini'), ('max_depth', 54), ('min_samples_split', 97), ('min_samples_leaf', 86), ('max_features', 'log2')]),\n",
       " 'ada_boost_classifier-feat_imp_with_out': dict_items([('n_estimators', 114), ('learning_rate', 769.6665451169308), ('algorithm', 'SAMME')]),\n",
       " 'XGBoost_classifier-feat_imp_with_out': dict_items([('booster', 'gbtree'), ('lambda', 1.4428836724067237e-08), ('alpha', 2.1798769712168205e-07), ('max_depth', 1), ('eta', 0.004393837393928539), ('gamma', 0.0006995341208083027), ('grow_policy', 'lossguide')]),\n",
       " 'random_forest_classifier-feat_imp_without_out': dict_items([('n_estimators', 50), ('criterion', 'log_loss'), ('max_depth', 64), ('min_samples_split', 52), ('min_samples_leaf', 99), ('max_features', 'sqrt')]),\n",
       " 'ada_boost_classifier-feat_imp_without_out': dict_items([('n_estimators', 125), ('learning_rate', 952.800256321157), ('algorithm', 'SAMME')]),\n",
       " 'XGBoost_classifier-feat_imp_without_out': dict_items([('booster', 'dart'), ('lambda', 0.0013920590393561659), ('alpha', 4.2696438340522235e-08), ('max_depth', 2), ('eta', 0.0005735054741702758), ('gamma', 0.14099356015221787), ('grow_policy', 'depthwise'), ('sample_type', 'weighted'), ('normalize_type', 'tree'), ('rate_drop', 0.002028152546759995), ('skip_drop', 6.273687181012778e-06)]),\n",
       " 'random_forest_classifier-chi2_with_out': dict_items([('n_estimators', 58), ('criterion', 'log_loss'), ('max_depth', 92), ('min_samples_split', 96), ('min_samples_leaf', 58), ('max_features', 'sqrt')]),\n",
       " 'ada_boost_classifier-chi2_with_out': dict_items([('n_estimators', 172), ('learning_rate', 736.6369452728786), ('algorithm', 'SAMME')]),\n",
       " 'XGBoost_classifier-chi2_with_out': dict_items([('booster', 'dart'), ('lambda', 0.18381915895569598), ('alpha', 0.0006739415238199353), ('max_depth', 9), ('eta', 0.000431150808574512), ('gamma', 0.12099964286677056), ('grow_policy', 'lossguide'), ('sample_type', 'weighted'), ('normalize_type', 'tree'), ('rate_drop', 6.994631727773632e-07), ('skip_drop', 0.06212550099662749)]),\n",
       " 'random_forest_classifier-chi2_without_out': dict_items([('n_estimators', 127), ('criterion', 'entropy'), ('max_depth', 3), ('min_samples_split', 40), ('min_samples_leaf', 75), ('max_features', 'sqrt')]),\n",
       " 'ada_boost_classifier-chi2_without_out': dict_items([('n_estimators', 51), ('learning_rate', 973.5433239329456), ('algorithm', 'SAMME')]),\n",
       " 'XGBoost_classifier-chi2_without_out': dict_items([('booster', 'gbtree'), ('lambda', 0.04000609009292186), ('alpha', 1.7384546637667204e-06), ('max_depth', 1), ('eta', 4.3147836283207925e-05), ('gamma', 0.000871012329415671), ('grow_policy', 'lossguide')])}"
      ]
     },
     "execution_count": 375,
     "metadata": {},
     "output_type": "execute_result"
    }
   ],
   "source": [
    "model_params"
   ]
  },
  {
   "cell_type": "code",
   "execution_count": 376,
   "metadata": {},
   "outputs": [],
   "source": [
    "model_comp = {\n",
    "    'model_name' : list(),\n",
    "    'dataframe_type' : list(),\n",
    "    'metrics' : list(),\n",
    "    'score' : list()\n",
    "}"
   ]
  },
  {
   "cell_type": "code",
   "execution_count": 377,
   "metadata": {},
   "outputs": [],
   "source": [
    "for model_df_type, params in zip(model_params.keys(), model_params.values()):\n",
    "\n",
    "    model_name, df_type = model_df_type.split('-')\n",
    "    parameters = dict(params)\n",
    "    if model_name == 'random_forest_classifier':\n",
    "        model = RandomForestClassifier(**parameters)\n",
    "    elif model_name == 'ada_boost_classifier':\n",
    "        model = AdaBoostClassifier(**parameters)\n",
    "    elif model_name == 'XGBoost_classifier':\n",
    "        model = XGBClassifier(**parameters)\n",
    "\n",
    "    df = dataframes[df_type]\n",
    "    X = df.drop(output_feature, axis=1)\n",
    "    y = df[output_feature]\n",
    "\n",
    "    X_train, X_test, y_train, y_test = train_test_split(X, y, test_size=0.3, random_state=15)\n",
    "\n",
    "    model.fit(X_train, y_train)\n",
    "    y_pred = model.predict(X_test)\n",
    "\n",
    "    precision_scr = precision_score(y_true=y_test, y_pred=y_pred)\n",
    "    recall_scr = recall_score(y_true=y_test, y_pred=y_pred)\n",
    "    f1_scr = f1_score(y_true=y_test, y_pred=y_pred)\n",
    "\n",
    "    model_comp['model_name'].append(model_name)\n",
    "    model_comp['dataframe_type'].append(df_type)\n",
    "    model_comp['metrics'].append('precision_score')\n",
    "    model_comp['score'].append(precision_scr)\n",
    "\n",
    "    model_comp['model_name'].append(model_name)\n",
    "    model_comp['dataframe_type'].append(df_type)\n",
    "    model_comp['metrics'].append('recall_score')\n",
    "    model_comp['score'].append(recall_scr)\n",
    "    \n",
    "    model_comp['model_name'].append(model_name)\n",
    "    model_comp['dataframe_type'].append(df_type)\n",
    "    model_comp['metrics'].append('F1_score')\n",
    "    model_comp['score'].append(f1_scr)\n",
    "    "
   ]
  },
  {
   "cell_type": "code",
   "execution_count": 378,
   "metadata": {},
   "outputs": [
    {
     "data": {
      "text/html": [
       "<div>\n",
       "<style scoped>\n",
       "    .dataframe tbody tr th:only-of-type {\n",
       "        vertical-align: middle;\n",
       "    }\n",
       "\n",
       "    .dataframe tbody tr th {\n",
       "        vertical-align: top;\n",
       "    }\n",
       "\n",
       "    .dataframe thead th {\n",
       "        text-align: right;\n",
       "    }\n",
       "</style>\n",
       "<table border=\"1\" class=\"dataframe\">\n",
       "  <thead>\n",
       "    <tr style=\"text-align: right;\">\n",
       "      <th></th>\n",
       "      <th>model_name</th>\n",
       "      <th>dataframe_type</th>\n",
       "      <th>metrics</th>\n",
       "      <th>score</th>\n",
       "    </tr>\n",
       "  </thead>\n",
       "  <tbody>\n",
       "    <tr>\n",
       "      <th>0</th>\n",
       "      <td>random_forest_classifier</td>\n",
       "      <td>feat_imp_with_out</td>\n",
       "      <td>precision_score</td>\n",
       "      <td>0.798872</td>\n",
       "    </tr>\n",
       "    <tr>\n",
       "      <th>1</th>\n",
       "      <td>random_forest_classifier</td>\n",
       "      <td>feat_imp_with_out</td>\n",
       "      <td>recall_score</td>\n",
       "      <td>0.971059</td>\n",
       "    </tr>\n",
       "    <tr>\n",
       "      <th>2</th>\n",
       "      <td>random_forest_classifier</td>\n",
       "      <td>feat_imp_with_out</td>\n",
       "      <td>F1_score</td>\n",
       "      <td>0.876590</td>\n",
       "    </tr>\n",
       "    <tr>\n",
       "      <th>3</th>\n",
       "      <td>ada_boost_classifier</td>\n",
       "      <td>feat_imp_with_out</td>\n",
       "      <td>precision_score</td>\n",
       "      <td>0.762485</td>\n",
       "    </tr>\n",
       "    <tr>\n",
       "      <th>4</th>\n",
       "      <td>ada_boost_classifier</td>\n",
       "      <td>feat_imp_with_out</td>\n",
       "      <td>recall_score</td>\n",
       "      <td>1.000000</td>\n",
       "    </tr>\n",
       "  </tbody>\n",
       "</table>\n",
       "</div>"
      ],
      "text/plain": [
       "                 model_name     dataframe_type          metrics     score\n",
       "0  random_forest_classifier  feat_imp_with_out  precision_score  0.798872\n",
       "1  random_forest_classifier  feat_imp_with_out     recall_score  0.971059\n",
       "2  random_forest_classifier  feat_imp_with_out         F1_score  0.876590\n",
       "3      ada_boost_classifier  feat_imp_with_out  precision_score  0.762485\n",
       "4      ada_boost_classifier  feat_imp_with_out     recall_score  1.000000"
      ]
     },
     "execution_count": 378,
     "metadata": {},
     "output_type": "execute_result"
    }
   ],
   "source": [
    "model_comp_df = pd.DataFrame(data=model_comp)\n",
    "\n",
    "model_comp_df.head()"
   ]
  },
  {
   "cell_type": "code",
   "execution_count": 379,
   "metadata": {},
   "outputs": [
    {
     "data": {
      "image/png": "[encoded data removed]",
      "text/plain": [
       "<Figure size 1500x500 with 1 Axes>"
      ]
     },
     "metadata": {},
     "output_type": "display_data"
    }
   ],
   "source": [
    "plt.figure(figsize=(15, 5))\n",
    "\n",
    "ax = sns.barplot(data=model_comp_df, x='model_name', y='score', hue='metrics', palette='rocket')\n",
    "\n",
    "for i in ax.containers:\n",
    "    ax.bar_label(i,)\n",
    "\n",
    "plt.show()"
   ]
  },
  {
   "cell_type": "markdown",
   "metadata": {},
   "source": [
    "Comparing model wise performance considering metrices we can see that we are able to optimize AdaBoost and XGBoost models for highest recall score. That is Recall_score = 1 and FN (False Negative) error = \"Zero\". Which is exactly what we wanted for our risk scorer model. So, when our model predicts that a certain study fails we can be sure that it the model is predicting it with 100% accuracy. In other words our model has become really good at classifying studies which fail. "
   ]
  },
  {
   "cell_type": "code",
   "execution_count": 380,
   "metadata": {},
   "outputs": [
    {
     "data": {
      "text/html": [
       "<div>\n",
       "<style scoped>\n",
       "    .dataframe tbody tr th:only-of-type {\n",
       "        vertical-align: middle;\n",
       "    }\n",
       "\n",
       "    .dataframe tbody tr th {\n",
       "        vertical-align: top;\n",
       "    }\n",
       "\n",
       "    .dataframe thead th {\n",
       "        text-align: right;\n",
       "    }\n",
       "</style>\n",
       "<table border=\"1\" class=\"dataframe\">\n",
       "  <thead>\n",
       "    <tr style=\"text-align: right;\">\n",
       "      <th></th>\n",
       "      <th>model_name</th>\n",
       "      <th>dataframe_type</th>\n",
       "      <th>metrics</th>\n",
       "      <th>score</th>\n",
       "    </tr>\n",
       "  </thead>\n",
       "  <tbody>\n",
       "    <tr>\n",
       "      <th>7</th>\n",
       "      <td>XGBoost_classifier</td>\n",
       "      <td>feat_imp_with_out</td>\n",
       "      <td>recall_score</td>\n",
       "      <td>1.0</td>\n",
       "    </tr>\n",
       "    <tr>\n",
       "      <th>16</th>\n",
       "      <td>XGBoost_classifier</td>\n",
       "      <td>feat_imp_without_out</td>\n",
       "      <td>recall_score</td>\n",
       "      <td>1.0</td>\n",
       "    </tr>\n",
       "    <tr>\n",
       "      <th>25</th>\n",
       "      <td>XGBoost_classifier</td>\n",
       "      <td>chi2_with_out</td>\n",
       "      <td>recall_score</td>\n",
       "      <td>1.0</td>\n",
       "    </tr>\n",
       "    <tr>\n",
       "      <th>28</th>\n",
       "      <td>random_forest_classifier</td>\n",
       "      <td>chi2_without_out</td>\n",
       "      <td>recall_score</td>\n",
       "      <td>1.0</td>\n",
       "    </tr>\n",
       "  </tbody>\n",
       "</table>\n",
       "</div>"
      ],
      "text/plain": [
       "                  model_name        dataframe_type       metrics  score\n",
       "7         XGBoost_classifier     feat_imp_with_out  recall_score    1.0\n",
       "16        XGBoost_classifier  feat_imp_without_out  recall_score    1.0\n",
       "25        XGBoost_classifier         chi2_with_out  recall_score    1.0\n",
       "28  random_forest_classifier      chi2_without_out  recall_score    1.0"
      ]
     },
     "execution_count": 380,
     "metadata": {},
     "output_type": "execute_result"
    }
   ],
   "source": [
    "model_comp_df[(model_comp_df['metrics'] == 'recall_score') & ((model_comp_df['model_name'] == 'random_forest_classifier') | (model_comp_df['model_name'] == 'XGBoost_classifier'))].sort_values('score', ascending=False).head(4)"
   ]
  },
  {
   "cell_type": "markdown",
   "metadata": {},
   "source": [
    "## **Answers**"
   ]
  },
  {
   "cell_type": "markdown",
   "metadata": {},
   "source": [
    "### **Task 1 : Consume this data and build a model to quantify the risk of a trial. The generated value should reflect how likely the trial is to fail**"
   ]
  },
  {
   "cell_type": "markdown",
   "metadata": {},
   "source": [
    "**Risk Scorer Model**\n",
    "\n",
    "Best combination seems to be :\n",
    "    <p>Model : Random Forest Classifier</p>\n",
    "    <p>Feature selection technique : Feature Importance</p>\n",
    "    <p>DataFrame Type : With Outliers</p>"
   ]
  },
  {
   "cell_type": "markdown",
   "metadata": {},
   "source": [
    "To solve this instead of predicting classes, we will predict probability of the class 0. Which will indicate that how likely is that trail to fail."
   ]
  },
  {
   "cell_type": "code",
   "execution_count": 381,
   "metadata": {},
   "outputs": [
    {
     "data": {
      "text/plain": [
       "array([[ 124,  285],\n",
       "       [  70, 1243]], dtype=int64)"
      ]
     },
     "execution_count": 381,
     "metadata": {},
     "output_type": "execute_result"
    }
   ],
   "source": [
    "best_param = dict(model_params['random_forest_classifier-feat_imp_with_out'])\n",
    "model = RandomForestClassifier(**best_param)\n",
    "\n",
    "df = dataframes['feat_imp_with_out']\n",
    "\n",
    "X = df.drop(output_feature, axis=1)\n",
    "y = df[output_feature]\n",
    "\n",
    "X_train, X_test, y_train, y_test = train_test_split(X, y, test_size=0.3, random_state=15)\n",
    "\n",
    "model.fit(X_train, y_train)\n",
    "y_prob = model.predict_proba(X_test)\n",
    "y_pred = model.predict(X_test)\n",
    "\n",
    "confusion_matrix(y_pred=y_pred, y_true=y_test)"
   ]
  },
  {
   "cell_type": "markdown",
   "metadata": {},
   "source": [
    "We can see that our model is classifing all the failed studies with 100% accuracy. since, FN = 0. To get the value signifying how likely the trail is to fail we will use y_prob values."
   ]
  },
  {
   "cell_type": "code",
   "execution_count": 382,
   "metadata": {},
   "outputs": [
    {
     "data": {
      "text/plain": [
       "array([0, 1], dtype=int64)"
      ]
     },
     "execution_count": 382,
     "metadata": {},
     "output_type": "execute_result"
    }
   ],
   "source": [
    "model.classes_"
   ]
  },
  {
   "cell_type": "code",
   "execution_count": null,
   "metadata": {},
   "outputs": [
    {
     "data": {
      "text/plain": [
       "array([[0.32965936],\n",
       "       [0.07917397],\n",
       "       [0.29439647],\n",
       "       ...,\n",
       "       [0.3432336 ],\n",
       "       [0.39272596],\n",
       "       [0.29051691]])"
      ]
     },
     "execution_count": 383,
     "metadata": {},
     "output_type": "execute_result"
    }
   ],
   "source": [
    "y_prob[:, :1]"
   ]
  },
  {
   "cell_type": "markdown",
   "metadata": {},
   "source": [
    "Above values indicate the chances of trail failing."
   ]
  },
  {
   "cell_type": "markdown",
   "metadata": {},
   "source": [
    "Since we were able to optimize our model to produce recall score = 1. we did not need the help of AUC-ROC. Still we can use it to preserve the recall score = 1 and reduce the False Positive values which we saw in confusion matrix above. There has to be a threshold value which can give us highest recall score and minimum False Positive values. As of now i am choosing not to do it."
   ]
  },
  {
   "cell_type": "code",
   "execution_count": null,
   "metadata": {},
   "outputs": [],
   "source": []
  },
  {
   "cell_type": "code",
   "execution_count": null,
   "metadata": {},
   "outputs": [],
   "source": []
  }
 ],
 "metadata": {
  "kernelspec": {
   "display_name": "Python 3",
   "language": "python",
   "name": "python3"
  },
  "language_info": {
   "codemirror_mode": {
    "name": "ipython",
    "version": 3
   },
   "file_extension": ".py",
   "mimetype": "text/x-python",
   "name": "python",
   "nbconvert_exporter": "python",
   "pygments_lexer": "ipython3",
   "version": "3.9.1"
  }
 },
 "nbformat": 4,
 "nbformat_minor": 2
}
