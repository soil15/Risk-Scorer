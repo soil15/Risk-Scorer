{
 "cells": [
  {
   "cell_type": "markdown",
   "metadata": {},
   "source": [
    "1. My take at creating a Risk Scorer model is, trying to create a model really good at predicting whether if study fails, i.e reducing Type-I error, meaning reducing FP (False Positive) error, or in other words increasing recall since {Precision = TP/(TP+FP)}.\n",
    "So, the model will be able to predict failed studies with 100% accuracy.\n",
    "2. To achieve this we will be using AUC-ROC curve to evaluate threshold value, we will try to find a threshold value which will help us classify all the failed trials with 100% accuracy with keeping the balance between precision and recall (Which is realy tough theoretically as precision and recall are inter related if one value increases other one decreases).\n",
    "3. We have 12 different combinations, 4 types of dataframes and 3 different models. I want to find out how far we can increase precision score without using threshold values, by optimizing our models for higher precision score. \n",
    "3. We will take best combination and derive our final Risk Scorer model."
   ]
  },
  {
   "cell_type": "code",
   "execution_count": 262,
   "metadata": {},
   "outputs": [],
   "source": [
    "import pandas as pd \n",
    "import numpy as np \n",
    "import seaborn as sns\n",
    "import matplotlib.pyplot as plt\n",
    "import optuna\n",
    "import pickle\n",
    "import warnings\n",
    "from sklearn.ensemble import RandomForestClassifier, AdaBoostClassifier\n",
    "from xgboost import XGBClassifier\n",
    "from sklearn.metrics import f1_score, recall_score, precision_score, confusion_matrix, roc_curve\n",
    "from sklearn.model_selection import train_test_split\n",
    "warnings.filterwarnings('ignore')\n",
    "\n",
    "global model_name, model, dataframe_type, X_train, X_test, y_train, y_test\n",
    "\n",
    "output_feature = 'Results'"
   ]
  },
  {
   "cell_type": "code",
   "execution_count": 263,
   "metadata": {},
   "outputs": [],
   "source": [
    "dataframes = pd.read_pickle('../../data/dataframes.pkl')"
   ]
  },
  {
   "cell_type": "code",
   "execution_count": 264,
   "metadata": {},
   "outputs": [],
   "source": [
    "models = {\n",
    "    'random_forest_classifier' : RandomForestClassifier(),\n",
    "    'ada_boost_classifier' : AdaBoostClassifier(),\n",
    "    'XGBoost_classifier' : XGBClassifier(),\n",
    "}"
   ]
  },
  {
   "cell_type": "code",
   "execution_count": 265,
   "metadata": {},
   "outputs": [],
   "source": [
    "model_params = {}"
   ]
  },
  {
   "cell_type": "code",
   "execution_count": 266,
   "metadata": {},
   "outputs": [],
   "source": [
    "def objective(trial):\n",
    "\n",
    "    if model_name == 'ada_boost_classifier':\n",
    "        params = {\n",
    "            'n_estimators' : trial.suggest_int('n_estimators', 50, 200),\n",
    "            'learning_rate' : trial.suggest_float('learning_rate', 0, 1000),\n",
    "            'algorithm' : trial.suggest_categorical('algorithm', ['SAMME']),\n",
    "        }\n",
    "    elif model_name == 'random_forest_classifier':\n",
    "        params = {\n",
    "            'n_estimators' : trial.suggest_int('n_estimators', 5, 200),\n",
    "            'criterion'    : trial.suggest_categorical('criterion', ['log_loss', 'entropy', 'gini']),\n",
    "            'max_depth'    : trial.suggest_int('max_depth', 1, 100),\n",
    "            'min_samples_split' : trial.suggest_int('min_samples_split', 2, 100),\n",
    "            'min_samples_leaf' : trial.suggest_int('min_samples_leaf', 1, 100),\n",
    "            'max_features' : trial.suggest_categorical('max_features', ['sqrt', 'log2', None])\n",
    "        }\n",
    "    elif model_name == 'XGBoost_classifier':\n",
    "        params = {\n",
    "            \"silent\": 1,\n",
    "            \"objective\": \"binary:logistic\",\n",
    "            \"booster\": trial.suggest_categorical(\"booster\", [\"gbtree\", \"gblinear\", \"dart\"]),\n",
    "            \"lambda\": trial.suggest_loguniform(\"lambda\", 1e-8, 1.0),\n",
    "            \"alpha\": trial.suggest_loguniform(\"alpha\", 1e-8, 1.0),\n",
    "        }\n",
    "        if params[\"booster\"] == \"gbtree\" or params[\"booster\"] == \"dart\":\n",
    "            params[\"max_depth\"] = trial.suggest_int(\"max_depth\", 1, 9)\n",
    "            params[\"eta\"] = trial.suggest_loguniform(\"eta\", 1e-8, 1.0)\n",
    "            params[\"gamma\"] = trial.suggest_loguniform(\"gamma\", 1e-8, 1.0)\n",
    "            params[\"grow_policy\"] = trial.suggest_categorical(\"grow_policy\", [\"depthwise\", \"lossguide\"])\n",
    "        if params[\"booster\"] == \"dart\":\n",
    "            params[\"sample_type\"] = trial.suggest_categorical(\"sample_type\", [\"uniform\", \"weighted\"])\n",
    "            params[\"normalize_type\"] = trial.suggest_categorical(\"normalize_type\", [\"tree\", \"forest\"])\n",
    "            params[\"rate_drop\"] = trial.suggest_loguniform(\"rate_drop\", 1e-8, 1.0)\n",
    "            params[\"skip_drop\"] = trial.suggest_loguniform(\"skip_drop\", 1e-8, 1.0)\n",
    "\n",
    "    # mod = model(**params)\n",
    "    # mod.fit(X_train, y_train)\n",
    "    if model_name == 'ada_boost_classifier':\n",
    "        mod = AdaBoostClassifier(**params)\n",
    "        mod.fit(X_train, y_train)\n",
    "    elif model_name == 'random_forest_classifier':\n",
    "        mod = RandomForestClassifier(**params)\n",
    "        mod.fit(X_train, y_train)\n",
    "    elif model_name == 'XGBoost_classifier':\n",
    "        mod = XGBClassifier(**params)\n",
    "        mod.fit(X_train, y_train)\n",
    "\n",
    "    y_pred = mod.predict(X_test)\n",
    "    # f1_scr = f1_score(y_pred=y_pred, y_true=y_test)\n",
    "    pre_score = precision_score(y_pred=y_pred, y_true=y_test)\n",
    "    # recall_scr = recall_score(y_pred=y_pred, y_true=y_test)\n",
    "\n",
    "    return pre_score"
   ]
  },
  {
   "cell_type": "code",
   "execution_count": 267,
   "metadata": {},
   "outputs": [
    {
     "name": "stderr",
     "output_type": "stream",
     "text": [
      "[I 2024-11-19 22:57:52,413] A new study created in memory with name: no-name-3d3bf06c-4915-4442-9b8d-85319f8b3dc0\n",
      "[I 2024-11-19 22:57:53,379] Trial 0 finished with value: 0.8247011952191236 and parameters: {'n_estimators': 56, 'criterion': 'entropy', 'max_depth': 71, 'min_samples_split': 51, 'min_samples_leaf': 24, 'max_features': 'log2'}. Best is trial 0 with value: 0.8247011952191236.\n",
      "[I 2024-11-19 22:57:55,145] Trial 1 finished with value: 0.8451969592259848 and parameters: {'n_estimators': 30, 'criterion': 'entropy', 'max_depth': 81, 'min_samples_split': 87, 'min_samples_leaf': 4, 'max_features': None}. Best is trial 1 with value: 0.8451969592259848.\n",
      "[I 2024-11-19 22:57:57,424] Trial 2 finished with value: 0.829644533869886 and parameters: {'n_estimators': 150, 'criterion': 'gini', 'max_depth': 9, 'min_samples_split': 14, 'min_samples_leaf': 16, 'max_features': 'sqrt'}. Best is trial 1 with value: 0.8451969592259848.\n",
      "[I 2024-11-19 22:57:57,725] Trial 3 finished with value: 0.8160315374507228 and parameters: {'n_estimators': 27, 'criterion': 'log_loss', 'max_depth': 75, 'min_samples_split': 41, 'min_samples_leaf': 93, 'max_features': 'sqrt'}. Best is trial 1 with value: 0.8451969592259848.\n",
      "[I 2024-11-19 22:57:58,976] Trial 4 finished with value: 0.8156862745098039 and parameters: {'n_estimators': 120, 'criterion': 'log_loss', 'max_depth': 87, 'min_samples_split': 2, 'min_samples_leaf': 60, 'max_features': 'log2'}. Best is trial 1 with value: 0.8451969592259848.\n",
      "[I 2024-11-19 22:58:00,264] Trial 5 finished with value: 0.7911818738518065 and parameters: {'n_estimators': 160, 'criterion': 'log_loss', 'max_depth': 4, 'min_samples_split': 57, 'min_samples_leaf': 29, 'max_features': 'log2'}. Best is trial 1 with value: 0.8451969592259848.\n",
      "[I 2024-11-19 22:58:01,546] Trial 6 finished with value: 0.8103559870550162 and parameters: {'n_estimators': 139, 'criterion': 'gini', 'max_depth': 35, 'min_samples_split': 76, 'min_samples_leaf': 84, 'max_features': 'sqrt'}. Best is trial 1 with value: 0.8451969592259848.\n",
      "[I 2024-11-19 22:58:02,973] Trial 7 finished with value: 0.8103896103896104 and parameters: {'n_estimators': 145, 'criterion': 'log_loss', 'max_depth': 66, 'min_samples_split': 10, 'min_samples_leaf': 86, 'max_features': 'log2'}. Best is trial 1 with value: 0.8451969592259848.\n",
      "[I 2024-11-19 22:58:04,136] Trial 8 finished with value: 0.829560585885486 and parameters: {'n_estimators': 85, 'criterion': 'gini', 'max_depth': 68, 'min_samples_split': 42, 'min_samples_leaf': 18, 'max_features': 'sqrt'}. Best is trial 1 with value: 0.8451969592259848.\n",
      "[I 2024-11-19 22:58:05,390] Trial 9 finished with value: 0.8020240354206198 and parameters: {'n_estimators': 144, 'criterion': 'entropy', 'max_depth': 48, 'min_samples_split': 33, 'min_samples_leaf': 98, 'max_features': 'sqrt'}. Best is trial 1 with value: 0.8451969592259848.\n",
      "[I 2024-11-19 22:58:05,762] Trial 10 finished with value: 0.8523442967109867 and parameters: {'n_estimators': 6, 'criterion': 'entropy', 'max_depth': 100, 'min_samples_split': 99, 'min_samples_leaf': 2, 'max_features': None}. Best is trial 10 with value: 0.8523442967109867.\n",
      "[I 2024-11-19 22:58:06,186] Trial 11 finished with value: 0.8406896551724138 and parameters: {'n_estimators': 7, 'criterion': 'entropy', 'max_depth': 98, 'min_samples_split': 100, 'min_samples_leaf': 4, 'max_features': None}. Best is trial 10 with value: 0.8523442967109867.\n",
      "[I 2024-11-19 22:58:08,765] Trial 12 finished with value: 0.8390883977900553 and parameters: {'n_estimators': 48, 'criterion': 'entropy', 'max_depth': 100, 'min_samples_split': 98, 'min_samples_leaf': 1, 'max_features': None}. Best is trial 10 with value: 0.8523442967109867.\n",
      "[I 2024-11-19 22:58:09,064] Trial 13 finished with value: 0.8350730688935282 and parameters: {'n_estimators': 6, 'criterion': 'entropy', 'max_depth': 85, 'min_samples_split': 80, 'min_samples_leaf': 47, 'max_features': None}. Best is trial 10 with value: 0.8523442967109867.\n",
      "[I 2024-11-19 22:58:12,335] Trial 14 finished with value: 0.829483695652174 and parameters: {'n_estimators': 82, 'criterion': 'entropy', 'max_depth': 89, 'min_samples_split': 79, 'min_samples_leaf': 40, 'max_features': None}. Best is trial 10 with value: 0.8523442967109867.\n",
      "[I 2024-11-19 22:58:13,929] Trial 15 finished with value: 0.8229665071770335 and parameters: {'n_estimators': 45, 'criterion': 'entropy', 'max_depth': 53, 'min_samples_split': 92, 'min_samples_leaf': 66, 'max_features': None}. Best is trial 10 with value: 0.8523442967109867.\n",
      "[I 2024-11-19 22:58:17,679] Trial 16 finished with value: 0.8488453463960812 and parameters: {'n_estimators': 73, 'criterion': 'entropy', 'max_depth': 55, 'min_samples_split': 66, 'min_samples_leaf': 8, 'max_features': None}. Best is trial 10 with value: 0.8523442967109867.\n",
      "[I 2024-11-19 22:58:25,083] Trial 17 finished with value: 0.8353994490358126 and parameters: {'n_estimators': 178, 'criterion': 'entropy', 'max_depth': 26, 'min_samples_split': 64, 'min_samples_leaf': 35, 'max_features': None}. Best is trial 10 with value: 0.8523442967109867.\n",
      "[I 2024-11-19 22:58:30,335] Trial 18 finished with value: 0.8451388888888889 and parameters: {'n_estimators': 79, 'criterion': 'entropy', 'max_depth': 52, 'min_samples_split': 69, 'min_samples_leaf': 12, 'max_features': None}. Best is trial 10 with value: 0.8523442967109867.\n",
      "[I 2024-11-19 22:58:33,506] Trial 19 finished with value: 0.82324949014276 and parameters: {'n_estimators': 97, 'criterion': 'gini', 'max_depth': 22, 'min_samples_split': 25, 'min_samples_leaf': 70, 'max_features': None}. Best is trial 10 with value: 0.8523442967109867.\n",
      "[I 2024-11-19 22:58:42,086] Trial 20 finished with value: 0.8415977961432507 and parameters: {'n_estimators': 196, 'criterion': 'entropy', 'max_depth': 60, 'min_samples_split': 67, 'min_samples_leaf': 25, 'max_features': None}. Best is trial 10 with value: 0.8523442967109867.\n",
      "[I 2024-11-19 22:58:43,406] Trial 21 finished with value: 0.8473980309423348 and parameters: {'n_estimators': 26, 'criterion': 'entropy', 'max_depth': 82, 'min_samples_split': 87, 'min_samples_leaf': 7, 'max_features': None}. Best is trial 10 with value: 0.8523442967109867.\n",
      "[I 2024-11-19 22:58:46,434] Trial 22 finished with value: 0.8450899031811895 and parameters: {'n_estimators': 59, 'criterion': 'entropy', 'max_depth': 93, 'min_samples_split': 88, 'min_samples_leaf': 12, 'max_features': None}. Best is trial 10 with value: 0.8523442967109867.\n",
      "[I 2024-11-19 22:58:47,793] Trial 23 finished with value: 0.8474457662701189 and parameters: {'n_estimators': 26, 'criterion': 'entropy', 'max_depth': 78, 'min_samples_split': 91, 'min_samples_leaf': 11, 'max_features': None}. Best is trial 10 with value: 0.8523442967109867.\n",
      "[I 2024-11-19 22:58:48,740] Trial 24 finished with value: 0.8432055749128919 and parameters: {'n_estimators': 19, 'criterion': 'entropy', 'max_depth': 43, 'min_samples_split': 94, 'min_samples_leaf': 20, 'max_features': None}. Best is trial 10 with value: 0.8523442967109867.\n",
      "[I 2024-11-19 22:58:51,648] Trial 25 finished with value: 0.8387319090282563 and parameters: {'n_estimators': 71, 'criterion': 'entropy', 'max_depth': 59, 'min_samples_split': 79, 'min_samples_leaf': 37, 'max_features': None}. Best is trial 10 with value: 0.8523442967109867.\n",
      "[I 2024-11-19 22:58:53,816] Trial 26 finished with value: 0.847719298245614 and parameters: {'n_estimators': 41, 'criterion': 'entropy', 'max_depth': 77, 'min_samples_split': 56, 'min_samples_leaf': 14, 'max_features': None}. Best is trial 10 with value: 0.8523442967109867.\n",
      "[I 2024-11-19 22:58:58,566] Trial 27 finished with value: 0.8417415342087077 and parameters: {'n_estimators': 101, 'criterion': 'entropy', 'max_depth': 61, 'min_samples_split': 53, 'min_samples_leaf': 29, 'max_features': None}. Best is trial 10 with value: 0.8523442967109867.\n",
      "[I 2024-11-19 22:58:59,066] Trial 28 finished with value: 0.8178851174934726 and parameters: {'n_estimators': 45, 'criterion': 'gini', 'max_depth': 93, 'min_samples_split': 45, 'min_samples_leaf': 44, 'max_features': 'log2'}. Best is trial 10 with value: 0.8523442967109867.\n",
      "[I 2024-11-19 22:59:01,998] Trial 29 finished with value: 0.8404401650618982 and parameters: {'n_estimators': 62, 'criterion': 'log_loss', 'max_depth': 75, 'min_samples_split': 61, 'min_samples_leaf': 28, 'max_features': None}. Best is trial 10 with value: 0.8523442967109867.\n",
      "[I 2024-11-19 22:59:02,014] A new study created in memory with name: no-name-32f2f151-69d7-41ac-8dcc-e9274ce4f99a\n",
      "[I 2024-11-19 22:59:02,038] Trial 0 finished with value: 0.7624854819976771 and parameters: {'n_estimators': 189, 'learning_rate': 823.659088750713, 'algorithm': 'SAMME'}. Best is trial 0 with value: 0.7624854819976771.\n",
      "[I 2024-11-19 22:59:02,072] Trial 1 finished with value: 1.0 and parameters: {'n_estimators': 85, 'learning_rate': 317.61978018215143, 'algorithm': 'SAMME'}. Best is trial 1 with value: 1.0.\n",
      "[I 2024-11-19 22:59:02,106] Trial 2 finished with value: 1.0 and parameters: {'n_estimators': 75, 'learning_rate': 87.5225219111867, 'algorithm': 'SAMME'}. Best is trial 1 with value: 1.0.\n",
      "[I 2024-11-19 22:59:02,127] Trial 3 finished with value: 0.7624854819976771 and parameters: {'n_estimators': 54, 'learning_rate': 915.2612652066236, 'algorithm': 'SAMME'}. Best is trial 1 with value: 1.0.\n",
      "[I 2024-11-19 22:59:02,159] Trial 4 finished with value: 1.0 and parameters: {'n_estimators': 66, 'learning_rate': 559.624345940529, 'algorithm': 'SAMME'}. Best is trial 1 with value: 1.0.\n",
      "[I 2024-11-19 22:59:02,202] Trial 5 finished with value: 1.0 and parameters: {'n_estimators': 172, 'learning_rate': 122.79979601832147, 'algorithm': 'SAMME'}. Best is trial 1 with value: 1.0.\n",
      "[I 2024-11-19 22:59:02,240] Trial 6 finished with value: 1.0 and parameters: {'n_estimators': 125, 'learning_rate': 107.55654838227213, 'algorithm': 'SAMME'}. Best is trial 1 with value: 1.0.\n",
      "[I 2024-11-19 22:59:02,329] Trial 7 finished with value: 1.0 and parameters: {'n_estimators': 153, 'learning_rate': 78.50243628734898, 'algorithm': 'SAMME'}. Best is trial 1 with value: 1.0.\n",
      "[I 2024-11-19 22:59:02,375] Trial 8 finished with value: 0.7624854819976771 and parameters: {'n_estimators': 169, 'learning_rate': 957.9720188089279, 'algorithm': 'SAMME'}. Best is trial 1 with value: 1.0.\n",
      "[I 2024-11-19 22:59:02,427] Trial 9 finished with value: 1.0 and parameters: {'n_estimators': 139, 'learning_rate': 106.1979667137014, 'algorithm': 'SAMME'}. Best is trial 1 with value: 1.0.\n",
      "[I 2024-11-19 22:59:02,498] Trial 10 finished with value: 1.0 and parameters: {'n_estimators': 101, 'learning_rate': 384.0833867146778, 'algorithm': 'SAMME'}. Best is trial 1 with value: 1.0.\n",
      "[I 2024-11-19 22:59:02,571] Trial 11 finished with value: 1.0 and parameters: {'n_estimators': 87, 'learning_rate': 371.8535950704704, 'algorithm': 'SAMME'}. Best is trial 1 with value: 1.0.\n",
      "[I 2024-11-19 22:59:02,617] Trial 12 finished with value: 1.0 and parameters: {'n_estimators': 91, 'learning_rate': 299.7230669083092, 'algorithm': 'SAMME'}. Best is trial 1 with value: 1.0.\n",
      "[I 2024-11-19 22:59:02,663] Trial 13 finished with value: 1.0 and parameters: {'n_estimators': 112, 'learning_rate': 266.6229769891413, 'algorithm': 'SAMME'}. Best is trial 1 with value: 1.0.\n",
      "[I 2024-11-19 22:59:02,712] Trial 14 finished with value: 1.0 and parameters: {'n_estimators': 73, 'learning_rate': 580.1870901021529, 'algorithm': 'SAMME'}. Best is trial 1 with value: 1.0.\n",
      "[I 2024-11-19 22:59:03,318] Trial 15 finished with value: 0.7624854819976771 and parameters: {'n_estimators': 51, 'learning_rate': 0.16121472750197086, 'algorithm': 'SAMME'}. Best is trial 1 with value: 1.0.\n",
      "[I 2024-11-19 22:59:03,368] Trial 16 finished with value: 1.0 and parameters: {'n_estimators': 78, 'learning_rate': 675.674746182468, 'algorithm': 'SAMME'}. Best is trial 1 with value: 1.0.\n",
      "[I 2024-11-19 22:59:03,416] Trial 17 finished with value: 1.0 and parameters: {'n_estimators': 115, 'learning_rate': 235.76154840560395, 'algorithm': 'SAMME'}. Best is trial 1 with value: 1.0.\n",
      "[I 2024-11-19 22:59:03,469] Trial 18 finished with value: 1.0 and parameters: {'n_estimators': 97, 'learning_rate': 433.7821216850899, 'algorithm': 'SAMME'}. Best is trial 1 with value: 1.0.\n",
      "[I 2024-11-19 22:59:03,538] Trial 19 finished with value: 1.0 and parameters: {'n_estimators': 61, 'learning_rate': 208.39855980211405, 'algorithm': 'SAMME'}. Best is trial 1 with value: 1.0.\n",
      "[I 2024-11-19 22:59:04,480] Trial 20 finished with value: 0.7624854819976771 and parameters: {'n_estimators': 76, 'learning_rate': 2.3825601527880025, 'algorithm': 'SAMME'}. Best is trial 1 with value: 1.0.\n",
      "[I 2024-11-19 22:59:04,525] Trial 21 finished with value: 1.0 and parameters: {'n_estimators': 69, 'learning_rate': 601.6189038241899, 'algorithm': 'SAMME'}. Best is trial 1 with value: 1.0.\n",
      "[I 2024-11-19 22:59:04,576] Trial 22 finished with value: 1.0 and parameters: {'n_estimators': 84, 'learning_rate': 502.0396646838366, 'algorithm': 'SAMME'}. Best is trial 1 with value: 1.0.\n",
      "[I 2024-11-19 22:59:04,631] Trial 23 finished with value: 0.7624854819976771 and parameters: {'n_estimators': 65, 'learning_rate': 757.7016640242484, 'algorithm': 'SAMME'}. Best is trial 1 with value: 1.0.\n",
      "[I 2024-11-19 22:59:04,695] Trial 24 finished with value: 1.0 and parameters: {'n_estimators': 106, 'learning_rate': 503.70701562969265, 'algorithm': 'SAMME'}. Best is trial 1 with value: 1.0.\n",
      "[I 2024-11-19 22:59:04,775] Trial 25 finished with value: 1.0 and parameters: {'n_estimators': 124, 'learning_rate': 334.1066925216923, 'algorithm': 'SAMME'}. Best is trial 1 with value: 1.0.\n",
      "[I 2024-11-19 22:59:04,847] Trial 26 finished with value: 1.0 and parameters: {'n_estimators': 62, 'learning_rate': 194.55059653895302, 'algorithm': 'SAMME'}. Best is trial 1 with value: 1.0.\n",
      "[I 2024-11-19 22:59:04,910] Trial 27 finished with value: 1.0 and parameters: {'n_estimators': 93, 'learning_rate': 617.4272007732582, 'algorithm': 'SAMME'}. Best is trial 1 with value: 1.0.\n",
      "[I 2024-11-19 22:59:04,960] Trial 28 finished with value: 1.0 and parameters: {'n_estimators': 82, 'learning_rate': 451.8405397904051, 'algorithm': 'SAMME'}. Best is trial 1 with value: 1.0.\n",
      "[I 2024-11-19 22:59:05,009] Trial 29 finished with value: 0.7624854819976771 and parameters: {'n_estimators': 199, 'learning_rate': 687.2527845263761, 'algorithm': 'SAMME'}. Best is trial 1 with value: 1.0.\n",
      "[I 2024-11-19 22:59:05,021] A new study created in memory with name: no-name-c05bda85-4e97-47f0-8eb4-b3913ac20c0f\n",
      "[I 2024-11-19 22:59:05,196] Trial 0 finished with value: 0.7624854819976771 and parameters: {'booster': 'gbtree', 'lambda': 2.1694540377996065e-06, 'alpha': 0.0025699633799519694, 'max_depth': 2, 'eta': 5.370015605632069e-06, 'gamma': 0.0028129636647439373, 'grow_policy': 'depthwise'}. Best is trial 0 with value: 0.7624854819976771.\n",
      "[I 2024-11-19 22:59:05,379] Trial 1 finished with value: 0.8657142857142858 and parameters: {'booster': 'gbtree', 'lambda': 0.793144566290682, 'alpha': 0.003947412254293556, 'max_depth': 3, 'eta': 0.17088644257977842, 'gamma': 0.018772084053040546, 'grow_policy': 'depthwise'}. Best is trial 1 with value: 0.8657142857142858.\n",
      "[I 2024-11-19 22:59:05,479] Trial 2 finished with value: 0.7629285299244625 and parameters: {'booster': 'gblinear', 'lambda': 1.7840399319833383e-05, 'alpha': 1.1309768327480263e-06}. Best is trial 1 with value: 0.8657142857142858.\n",
      "[I 2024-11-19 22:59:09,906] Trial 3 finished with value: 0.7624854819976771 and parameters: {'booster': 'dart', 'lambda': 0.029469896372392352, 'alpha': 1.1896497637726018e-05, 'max_depth': 5, 'eta': 0.00023351927621101975, 'gamma': 2.1107561801916636e-07, 'grow_policy': 'lossguide', 'sample_type': 'weighted', 'normalize_type': 'tree', 'rate_drop': 0.010067289687471743, 'skip_drop': 0.15035784277712896}. Best is trial 1 with value: 0.8657142857142858.\n",
      "[I 2024-11-19 22:59:10,011] Trial 4 finished with value: 0.8082083662194159 and parameters: {'booster': 'gblinear', 'lambda': 7.141574745080732e-06, 'alpha': 7.174025233066154e-06}. Best is trial 1 with value: 0.8657142857142858.\n",
      "[I 2024-11-19 22:59:10,109] Trial 5 finished with value: 0.7624854819976771 and parameters: {'booster': 'gblinear', 'lambda': 5.0026178475403017e-08, 'alpha': 0.01706095545013242}. Best is trial 1 with value: 0.8657142857142858.\n",
      "[I 2024-11-19 22:59:16,018] Trial 6 finished with value: 0.8630527817403709 and parameters: {'booster': 'dart', 'lambda': 4.555713133877027e-05, 'alpha': 3.054159454021738e-08, 'max_depth': 8, 'eta': 0.030173727985429805, 'gamma': 0.0005049428084149886, 'grow_policy': 'lossguide', 'sample_type': 'uniform', 'normalize_type': 'forest', 'rate_drop': 0.006110699741574123, 'skip_drop': 2.716528492510628e-05}. Best is trial 1 with value: 0.8657142857142858.\n",
      "[I 2024-11-19 22:59:16,135] Trial 7 finished with value: 0.8012129380053908 and parameters: {'booster': 'gblinear', 'lambda': 0.03245235363806994, 'alpha': 8.961216362624388e-05}. Best is trial 1 with value: 0.8657142857142858.\n",
      "[I 2024-11-19 22:59:16,234] Trial 8 finished with value: 0.7624854819976771 and parameters: {'booster': 'gblinear', 'lambda': 0.010910751178739289, 'alpha': 8.146496319967876e-08}. Best is trial 1 with value: 0.8657142857142858.\n",
      "[I 2024-11-19 22:59:16,994] Trial 9 finished with value: 0.7624854819976771 and parameters: {'booster': 'gbtree', 'lambda': 0.04775457986072911, 'alpha': 0.0008216620793404408, 'max_depth': 6, 'eta': 1.7380167970777176e-06, 'gamma': 1.637218548980707e-08, 'grow_policy': 'lossguide'}. Best is trial 1 with value: 0.8657142857142858.\n",
      "[I 2024-11-19 22:59:17,184] Trial 10 finished with value: 0.849645390070922 and parameters: {'booster': 'gbtree', 'lambda': 0.0006882243464479477, 'alpha': 0.977655345263214, 'max_depth': 1, 'eta': 0.9052459418251039, 'gamma': 0.7041230327227809, 'grow_policy': 'depthwise'}. Best is trial 1 with value: 0.8657142857142858.\n",
      "[I 2024-11-19 22:59:22,675] Trial 11 finished with value: 0.8725701943844493 and parameters: {'booster': 'dart', 'lambda': 0.5757808367181882, 'alpha': 1.2754612284653298e-08, 'max_depth': 9, 'eta': 0.09777170177431752, 'gamma': 0.0012178870538526719, 'grow_policy': 'lossguide', 'sample_type': 'uniform', 'normalize_type': 'forest', 'rate_drop': 1.972553713261465e-07, 'skip_drop': 1.0055713815415891e-07}. Best is trial 11 with value: 0.8725701943844493.\n",
      "[I 2024-11-19 22:59:27,207] Trial 12 finished with value: 0.7774463007159904 and parameters: {'booster': 'dart', 'lambda': 0.7469994495648888, 'alpha': 0.06762084427034061, 'max_depth': 4, 'eta': 0.009624969610935027, 'gamma': 0.03902216930440168, 'grow_policy': 'depthwise', 'sample_type': 'uniform', 'normalize_type': 'forest', 'rate_drop': 2.4184596930540855e-08, 'skip_drop': 1.014030651898714e-08}. Best is trial 11 with value: 0.8725701943844493.\n",
      "[I 2024-11-19 22:59:27,891] Trial 13 finished with value: 0.8769344141488578 and parameters: {'booster': 'gbtree', 'lambda': 0.7572886945606425, 'alpha': 0.00027946628485750154, 'max_depth': 9, 'eta': 0.3628166160966485, 'gamma': 9.125975411499067e-06, 'grow_policy': 'depthwise'}. Best is trial 13 with value: 0.8769344141488578.\n",
      "[I 2024-11-19 22:59:34,670] Trial 14 finished with value: 0.7624854819976771 and parameters: {'booster': 'dart', 'lambda': 0.0007155242695850062, 'alpha': 5.784794286752169e-07, 'max_depth': 9, 'eta': 2.271718450742412e-08, 'gamma': 7.436542456199422e-06, 'grow_policy': 'lossguide', 'sample_type': 'uniform', 'normalize_type': 'forest', 'rate_drop': 2.562653833474111e-07, 'skip_drop': 1.5834039821490596e-08}. Best is trial 13 with value: 0.8769344141488578.\n",
      "[I 2024-11-19 22:59:35,749] Trial 15 finished with value: 0.7624854819976771 and parameters: {'booster': 'gbtree', 'lambda': 0.9019155795399814, 'alpha': 0.0001670846337121484, 'max_depth': 7, 'eta': 0.001216456347439076, 'gamma': 1.0488468980316621e-05, 'grow_policy': 'lossguide'}. Best is trial 13 with value: 0.8769344141488578.\n",
      "[I 2024-11-19 22:59:40,483] Trial 16 finished with value: 0.8297872340425532 and parameters: {'booster': 'dart', 'lambda': 0.003133356548121486, 'alpha': 4.228639004353327e-05, 'max_depth': 9, 'eta': 0.008427770717483046, 'gamma': 2.82029870475502e-05, 'grow_policy': 'depthwise', 'sample_type': 'weighted', 'normalize_type': 'tree', 'rate_drop': 8.35666342757633e-06, 'skip_drop': 1.2097347419527921e-05}. Best is trial 13 with value: 0.8769344141488578.\n",
      "[I 2024-11-19 22:59:46,070] Trial 17 finished with value: 0.8734177215189873 and parameters: {'booster': 'dart', 'lambda': 0.15434885496191236, 'alpha': 1.0213754525093623e-08, 'max_depth': 7, 'eta': 0.8831957055276013, 'gamma': 5.410660596345642e-07, 'grow_policy': 'depthwise', 'sample_type': 'uniform', 'normalize_type': 'forest', 'rate_drop': 1.69934772704663e-05, 'skip_drop': 5.526135964814774e-07}. Best is trial 13 with value: 0.8769344141488578.\n",
      "[I 2024-11-19 22:59:46,507] Trial 18 finished with value: 0.8763636363636363 and parameters: {'booster': 'gbtree', 'lambda': 0.1064229950197793, 'alpha': 3.210102354022518e-07, 'max_depth': 7, 'eta': 0.4693815412257282, 'gamma': 5.999415586577289e-07, 'grow_policy': 'depthwise'}. Best is trial 13 with value: 0.8769344141488578.\n",
      "[I 2024-11-19 22:59:47,058] Trial 19 finished with value: 0.7624854819976771 and parameters: {'booster': 'gbtree', 'lambda': 0.0003685735836112453, 'alpha': 6.82558844467973e-07, 'max_depth': 7, 'eta': 0.0013434039356439301, 'gamma': 6.516071936626255e-07, 'grow_policy': 'depthwise'}. Best is trial 13 with value: 0.8769344141488578.\n",
      "[I 2024-11-19 22:59:47,778] Trial 20 finished with value: 0.7624854819976771 and parameters: {'booster': 'gbtree', 'lambda': 0.00494711874841537, 'alpha': 0.0003648570666597056, 'max_depth': 6, 'eta': 2.0542646405769004e-05, 'gamma': 2.3398431164128288e-08, 'grow_policy': 'depthwise'}. Best is trial 13 with value: 0.8769344141488578.\n",
      "[I 2024-11-19 22:59:48,252] Trial 21 finished with value: 0.8743494423791821 and parameters: {'booster': 'gbtree', 'lambda': 0.12934070966740582, 'alpha': 1.0687621873601065e-07, 'max_depth': 7, 'eta': 0.9016955735761114, 'gamma': 9.049806700119129e-07, 'grow_policy': 'depthwise'}. Best is trial 13 with value: 0.8769344141488578.\n",
      "[I 2024-11-19 22:59:48,756] Trial 22 finished with value: 0.8728323699421965 and parameters: {'booster': 'gbtree', 'lambda': 0.06923972201649138, 'alpha': 2.8226431018617504e-07, 'max_depth': 8, 'eta': 0.15467061411310787, 'gamma': 2.080499100087748e-06, 'grow_policy': 'depthwise'}. Best is trial 13 with value: 0.8769344141488578.\n",
      "[I 2024-11-19 22:59:49,192] Trial 23 finished with value: 0.8720760233918129 and parameters: {'booster': 'gbtree', 'lambda': 0.18218011177904628, 'alpha': 6.166028906493863e-06, 'max_depth': 8, 'eta': 0.4705269230806096, 'gamma': 8.56316681135231e-05, 'grow_policy': 'depthwise'}. Best is trial 13 with value: 0.8769344141488578.\n",
      "[I 2024-11-19 22:59:49,609] Trial 24 finished with value: 0.8477051460361613 and parameters: {'booster': 'gbtree', 'lambda': 1.2076297701297369e-08, 'alpha': 1.2377062960142847e-07, 'max_depth': 6, 'eta': 0.02383297730146196, 'gamma': 1.0540816860129886e-07, 'grow_policy': 'depthwise'}. Best is trial 13 with value: 0.8769344141488578.\n",
      "[I 2024-11-19 22:59:50,209] Trial 25 finished with value: 0.862093352192362 and parameters: {'booster': 'gbtree', 'lambda': 0.008855922243625568, 'alpha': 2.7083295184163774e-06, 'max_depth': 5, 'eta': 0.05936618113092367, 'gamma': 2.5669986825598717e-06, 'grow_policy': 'depthwise'}. Best is trial 13 with value: 0.8769344141488578.\n",
      "[I 2024-11-19 22:59:50,845] Trial 26 finished with value: 0.7624854819976771 and parameters: {'booster': 'gbtree', 'lambda': 0.12656042663826153, 'alpha': 6.720512353689719e-08, 'max_depth': 8, 'eta': 0.0018440001685102723, 'gamma': 6.298621163555862e-05, 'grow_policy': 'depthwise'}. Best is trial 13 with value: 0.8769344141488578.\n",
      "[I 2024-11-19 22:59:51,211] Trial 27 finished with value: 0.8724035608308606 and parameters: {'booster': 'gbtree', 'lambda': 0.0017528715033386932, 'alpha': 3.337790437141025e-05, 'max_depth': 7, 'eta': 0.8807494717628958, 'gamma': 1.0376180941730113e-07, 'grow_policy': 'depthwise'}. Best is trial 13 with value: 0.8769344141488578.\n",
      "[I 2024-11-19 22:59:51,638] Trial 28 finished with value: 0.7624854819976771 and parameters: {'booster': 'gbtree', 'lambda': 5.410477625166866e-07, 'alpha': 2.754635377016356e-06, 'max_depth': 5, 'eta': 1.9800661697688526e-07, 'gamma': 2.533491775399716e-06, 'grow_policy': 'depthwise'}. Best is trial 13 with value: 0.8769344141488578.\n",
      "[I 2024-11-19 22:59:52,514] Trial 29 finished with value: 0.7624854819976771 and parameters: {'booster': 'gbtree', 'lambda': 0.28607802092222445, 'alpha': 0.004073690353823072, 'max_depth': 9, 'eta': 0.0001644242135452552, 'gamma': 1.4975179972260098e-05, 'grow_policy': 'depthwise'}. Best is trial 13 with value: 0.8769344141488578.\n",
      "[I 2024-11-19 22:59:52,538] A new study created in memory with name: no-name-a8e5575d-730a-4064-ae0f-cac25a09f9a5\n",
      "[I 2024-11-19 22:59:54,387] Trial 0 finished with value: 0.7954759660697456 and parameters: {'n_estimators': 91, 'criterion': 'entropy', 'max_depth': 74, 'min_samples_split': 64, 'min_samples_leaf': 91, 'max_features': None}. Best is trial 0 with value: 0.7954759660697456.\n",
      "[I 2024-11-19 22:59:55,766] Trial 1 finished with value: 0.7696245733788396 and parameters: {'n_estimators': 192, 'criterion': 'gini', 'max_depth': 31, 'min_samples_split': 63, 'min_samples_leaf': 54, 'max_features': 'log2'}. Best is trial 0 with value: 0.7954759660697456.\n",
      "[I 2024-11-19 22:59:56,841] Trial 2 finished with value: 0.7660119555935099 and parameters: {'n_estimators': 146, 'criterion': 'entropy', 'max_depth': 52, 'min_samples_split': 96, 'min_samples_leaf': 72, 'max_features': 'log2'}. Best is trial 0 with value: 0.7954759660697456.\n",
      "[I 2024-11-19 22:59:56,974] Trial 3 finished with value: 0.7567114093959731 and parameters: {'n_estimators': 15, 'criterion': 'gini', 'max_depth': 8, 'min_samples_split': 81, 'min_samples_leaf': 87, 'max_features': 'log2'}. Best is trial 0 with value: 0.7954759660697456.\n",
      "[I 2024-11-19 22:59:57,321] Trial 4 finished with value: 0.7142857142857143 and parameters: {'n_estimators': 49, 'criterion': 'entropy', 'max_depth': 1, 'min_samples_split': 52, 'min_samples_leaf': 87, 'max_features': None}. Best is trial 0 with value: 0.7954759660697456.\n",
      "[I 2024-11-19 22:59:58,094] Trial 5 finished with value: 0.8186968838526912 and parameters: {'n_estimators': 22, 'criterion': 'entropy', 'max_depth': 37, 'min_samples_split': 91, 'min_samples_leaf': 4, 'max_features': None}. Best is trial 5 with value: 0.8186968838526912.\n",
      "[I 2024-11-19 22:59:59,349] Trial 6 finished with value: 0.7879858657243817 and parameters: {'n_estimators': 125, 'criterion': 'gini', 'max_depth': 56, 'min_samples_split': 94, 'min_samples_leaf': 14, 'max_features': 'log2'}. Best is trial 5 with value: 0.8186968838526912.\n",
      "[I 2024-11-19 23:00:00,743] Trial 7 finished with value: 0.7611438183347351 and parameters: {'n_estimators': 170, 'criterion': 'entropy', 'max_depth': 32, 'min_samples_split': 51, 'min_samples_leaf': 70, 'max_features': 'log2'}. Best is trial 5 with value: 0.8186968838526912.\n",
      "[I 2024-11-19 23:00:01,498] Trial 8 finished with value: 0.7142857142857143 and parameters: {'n_estimators': 181, 'criterion': 'entropy', 'max_depth': 1, 'min_samples_split': 30, 'min_samples_leaf': 65, 'max_features': 'log2'}. Best is trial 5 with value: 0.8186968838526912.\n",
      "[I 2024-11-19 23:00:04,438] Trial 9 finished with value: 0.7968164794007491 and parameters: {'n_estimators': 136, 'criterion': 'gini', 'max_depth': 88, 'min_samples_split': 30, 'min_samples_leaf': 83, 'max_features': None}. Best is trial 5 with value: 0.8186968838526912.\n",
      "[I 2024-11-19 23:00:05,632] Trial 10 finished with value: 0.831302717900656 and parameters: {'n_estimators': 72, 'criterion': 'log_loss', 'max_depth': 28, 'min_samples_split': 6, 'min_samples_leaf': 4, 'max_features': 'sqrt'}. Best is trial 10 with value: 0.831302717900656.\n",
      "[I 2024-11-19 23:00:07,044] Trial 11 finished with value: 0.8252788104089219 and parameters: {'n_estimators': 64, 'criterion': 'log_loss', 'max_depth': 29, 'min_samples_split': 6, 'min_samples_leaf': 3, 'max_features': 'sqrt'}. Best is trial 10 with value: 0.831302717900656.\n",
      "[I 2024-11-19 23:00:08,064] Trial 12 finished with value: 0.7893805309734513 and parameters: {'n_estimators': 79, 'criterion': 'log_loss', 'max_depth': 20, 'min_samples_split': 2, 'min_samples_leaf': 28, 'max_features': 'sqrt'}. Best is trial 10 with value: 0.831302717900656.\n",
      "[I 2024-11-19 23:00:08,865] Trial 13 finished with value: 0.7846425419240953 and parameters: {'n_estimators': 62, 'criterion': 'log_loss', 'max_depth': 21, 'min_samples_split': 9, 'min_samples_leaf': 31, 'max_features': 'sqrt'}. Best is trial 10 with value: 0.831302717900656.\n",
      "[I 2024-11-19 23:00:09,348] Trial 14 finished with value: 0.7841409691629956 and parameters: {'n_estimators': 45, 'criterion': 'log_loss', 'max_depth': 45, 'min_samples_split': 20, 'min_samples_leaf': 30, 'max_features': 'sqrt'}. Best is trial 10 with value: 0.831302717900656.\n",
      "[I 2024-11-19 23:00:10,865] Trial 15 finished with value: 0.8188539741219963 and parameters: {'n_estimators': 80, 'criterion': 'log_loss', 'max_depth': 65, 'min_samples_split': 16, 'min_samples_leaf': 3, 'max_features': 'sqrt'}. Best is trial 10 with value: 0.831302717900656.\n",
      "[I 2024-11-19 23:00:12,314] Trial 16 finished with value: 0.7976827094474154 and parameters: {'n_estimators': 114, 'criterion': 'log_loss', 'max_depth': 19, 'min_samples_split': 33, 'min_samples_leaf': 16, 'max_features': 'sqrt'}. Best is trial 10 with value: 0.831302717900656.\n",
      "[I 2024-11-19 23:00:13,242] Trial 17 finished with value: 0.7827225130890052 and parameters: {'n_estimators': 102, 'criterion': 'log_loss', 'max_depth': 100, 'min_samples_split': 3, 'min_samples_leaf': 41, 'max_features': 'sqrt'}. Best is trial 10 with value: 0.831302717900656.\n",
      "[I 2024-11-19 23:00:13,703] Trial 18 finished with value: 0.7928571428571428 and parameters: {'n_estimators': 37, 'criterion': 'log_loss', 'max_depth': 44, 'min_samples_split': 22, 'min_samples_leaf': 18, 'max_features': 'sqrt'}. Best is trial 10 with value: 0.831302717900656.\n",
      "[I 2024-11-19 23:00:14,549] Trial 19 finished with value: 0.8137614678899082 and parameters: {'n_estimators': 64, 'criterion': 'log_loss', 'max_depth': 15, 'min_samples_split': 38, 'min_samples_leaf': 1, 'max_features': 'sqrt'}. Best is trial 10 with value: 0.831302717900656.\n",
      "[I 2024-11-19 23:00:15,178] Trial 20 finished with value: 0.7780678851174935 and parameters: {'n_estimators': 73, 'criterion': 'log_loss', 'max_depth': 28, 'min_samples_split': 42, 'min_samples_leaf': 45, 'max_features': 'sqrt'}. Best is trial 10 with value: 0.831302717900656.\n",
      "[I 2024-11-19 23:00:16,389] Trial 21 finished with value: 0.8170173833485819 and parameters: {'n_estimators': 88, 'criterion': 'log_loss', 'max_depth': 65, 'min_samples_split': 15, 'min_samples_leaf': 8, 'max_features': 'sqrt'}. Best is trial 10 with value: 0.831302717900656.\n",
      "[I 2024-11-19 23:00:17,521] Trial 22 finished with value: 0.7925531914893617 and parameters: {'n_estimators': 99, 'criterion': 'log_loss', 'max_depth': 66, 'min_samples_split': 12, 'min_samples_leaf': 24, 'max_features': 'sqrt'}. Best is trial 10 with value: 0.831302717900656.\n",
      "[I 2024-11-19 23:00:18,160] Trial 23 finished with value: 0.8149498632634458 and parameters: {'n_estimators': 33, 'criterion': 'log_loss', 'max_depth': 78, 'min_samples_split': 21, 'min_samples_leaf': 9, 'max_features': 'sqrt'}. Best is trial 10 with value: 0.831302717900656.\n",
      "[I 2024-11-19 23:00:19,228] Trial 24 finished with value: 0.825187969924812 and parameters: {'n_estimators': 58, 'criterion': 'log_loss', 'max_depth': 41, 'min_samples_split': 10, 'min_samples_leaf': 1, 'max_features': 'sqrt'}. Best is trial 10 with value: 0.831302717900656.\n",
      "[I 2024-11-19 23:00:19,347] Trial 25 finished with value: 0.7930720145852325 and parameters: {'n_estimators': 6, 'criterion': 'log_loss', 'max_depth': 40, 'min_samples_split': 9, 'min_samples_leaf': 16, 'max_features': 'sqrt'}. Best is trial 10 with value: 0.831302717900656.\n",
      "[I 2024-11-19 23:00:19,872] Trial 26 finished with value: 0.7760551248923342 and parameters: {'n_estimators': 58, 'criterion': 'log_loss', 'max_depth': 27, 'min_samples_split': 3, 'min_samples_leaf': 38, 'max_features': 'sqrt'}. Best is trial 10 with value: 0.831302717900656.\n",
      "[I 2024-11-19 23:00:20,266] Trial 27 finished with value: 0.7892857142857143 and parameters: {'n_estimators': 31, 'criterion': 'log_loss', 'max_depth': 51, 'min_samples_split': 26, 'min_samples_leaf': 23, 'max_features': 'sqrt'}. Best is trial 10 with value: 0.831302717900656.\n",
      "[I 2024-11-19 23:00:20,697] Trial 28 finished with value: 0.7448896156991006 and parameters: {'n_estimators': 51, 'criterion': 'log_loss', 'max_depth': 12, 'min_samples_split': 9, 'min_samples_leaf': 100, 'max_features': 'sqrt'}. Best is trial 10 with value: 0.831302717900656.\n",
      "[I 2024-11-19 23:00:23,156] Trial 29 finished with value: 0.8160377358490566 and parameters: {'n_estimators': 70, 'criterion': 'gini', 'max_depth': 36, 'min_samples_split': 44, 'min_samples_leaf': 10, 'max_features': None}. Best is trial 10 with value: 0.831302717900656.\n",
      "[I 2024-11-19 23:00:23,168] A new study created in memory with name: no-name-d5027cad-3bc3-4664-aff6-f07543457880\n",
      "[I 2024-11-19 23:00:23,218] Trial 0 finished with value: 1.0 and parameters: {'n_estimators': 173, 'learning_rate': 485.04758104463707, 'algorithm': 'SAMME'}. Best is trial 0 with value: 1.0.\n",
      "[I 2024-11-19 23:00:23,239] Trial 1 finished with value: 0.7142857142857143 and parameters: {'n_estimators': 73, 'learning_rate': 844.1911782427886, 'algorithm': 'SAMME'}. Best is trial 0 with value: 1.0.\n",
      "[I 2024-11-19 23:00:23,261] Trial 2 finished with value: 0.7142857142857143 and parameters: {'n_estimators': 157, 'learning_rate': 872.6225501154229, 'algorithm': 'SAMME'}. Best is trial 0 with value: 1.0.\n",
      "[I 2024-11-19 23:00:23,290] Trial 3 finished with value: 1.0 and parameters: {'n_estimators': 173, 'learning_rate': 323.66204396270314, 'algorithm': 'SAMME'}. Best is trial 0 with value: 1.0.\n",
      "[I 2024-11-19 23:00:23,318] Trial 4 finished with value: 1.0 and parameters: {'n_estimators': 152, 'learning_rate': 673.3652209487119, 'algorithm': 'SAMME'}. Best is trial 0 with value: 1.0.\n",
      "[I 2024-11-19 23:00:23,346] Trial 5 finished with value: 1.0 and parameters: {'n_estimators': 95, 'learning_rate': 669.5681518144554, 'algorithm': 'SAMME'}. Best is trial 0 with value: 1.0.\n",
      "[I 2024-11-19 23:00:23,368] Trial 6 finished with value: 0.7142857142857143 and parameters: {'n_estimators': 181, 'learning_rate': 881.7217629195184, 'algorithm': 'SAMME'}. Best is trial 0 with value: 1.0.\n",
      "[I 2024-11-19 23:00:23,389] Trial 7 finished with value: 0.7142857142857143 and parameters: {'n_estimators': 52, 'learning_rate': 843.7971080300719, 'algorithm': 'SAMME'}. Best is trial 0 with value: 1.0.\n",
      "[I 2024-11-19 23:00:23,419] Trial 8 finished with value: 1.0 and parameters: {'n_estimators': 74, 'learning_rate': 723.2627520920025, 'algorithm': 'SAMME'}. Best is trial 0 with value: 1.0.\n",
      "[I 2024-11-19 23:00:23,444] Trial 9 finished with value: 0.7142857142857143 and parameters: {'n_estimators': 99, 'learning_rate': 815.4561694009926, 'algorithm': 'SAMME'}. Best is trial 0 with value: 1.0.\n",
      "[I 2024-11-19 23:00:23,489] Trial 10 finished with value: 1.0 and parameters: {'n_estimators': 135, 'learning_rate': 44.03378344195244, 'algorithm': 'SAMME'}. Best is trial 0 with value: 1.0.\n",
      "[I 2024-11-19 23:00:23,579] Trial 11 finished with value: 1.0 and parameters: {'n_estimators': 200, 'learning_rate': 319.2687859953162, 'algorithm': 'SAMME'}. Best is trial 0 with value: 1.0.\n",
      "[I 2024-11-19 23:00:23,687] Trial 12 finished with value: 1.0 and parameters: {'n_estimators': 174, 'learning_rate': 403.99835056549307, 'algorithm': 'SAMME'}. Best is trial 0 with value: 1.0.\n",
      "[I 2024-11-19 23:00:23,756] Trial 13 finished with value: 1.0 and parameters: {'n_estimators': 200, 'learning_rate': 192.98831127224383, 'algorithm': 'SAMME'}. Best is trial 0 with value: 1.0.\n",
      "[I 2024-11-19 23:00:23,802] Trial 14 finished with value: 1.0 and parameters: {'n_estimators': 131, 'learning_rate': 519.1577914140748, 'algorithm': 'SAMME'}. Best is trial 0 with value: 1.0.\n",
      "[I 2024-11-19 23:00:23,850] Trial 15 finished with value: 1.0 and parameters: {'n_estimators': 170, 'learning_rate': 513.9624083987844, 'algorithm': 'SAMME'}. Best is trial 0 with value: 1.0.\n",
      "[I 2024-11-19 23:00:23,903] Trial 16 finished with value: 1.0 and parameters: {'n_estimators': 147, 'learning_rate': 241.66282231603356, 'algorithm': 'SAMME'}. Best is trial 0 with value: 1.0.\n",
      "[I 2024-11-19 23:00:23,954] Trial 17 finished with value: 1.0 and parameters: {'n_estimators': 186, 'learning_rate': 412.2150858493326, 'algorithm': 'SAMME'}. Best is trial 0 with value: 1.0.\n",
      "[I 2024-11-19 23:00:24,004] Trial 18 finished with value: 1.0 and parameters: {'n_estimators': 163, 'learning_rate': 91.94599643465361, 'algorithm': 'SAMME'}. Best is trial 0 with value: 1.0.\n",
      "[I 2024-11-19 23:00:24,054] Trial 19 finished with value: 1.0 and parameters: {'n_estimators': 119, 'learning_rate': 597.6153387888655, 'algorithm': 'SAMME'}. Best is trial 0 with value: 1.0.\n",
      "[I 2024-11-19 23:00:24,101] Trial 20 finished with value: 1.0 and parameters: {'n_estimators': 112, 'learning_rate': 412.1436166900462, 'algorithm': 'SAMME'}. Best is trial 0 with value: 1.0.\n",
      "[I 2024-11-19 23:00:24,150] Trial 21 finished with value: 1.0 and parameters: {'n_estimators': 150, 'learning_rate': 639.0173094808109, 'algorithm': 'SAMME'}. Best is trial 0 with value: 1.0.\n",
      "[I 2024-11-19 23:00:24,191] Trial 22 finished with value: 0.7142857142857143 and parameters: {'n_estimators': 140, 'learning_rate': 983.1646896086381, 'algorithm': 'SAMME'}. Best is trial 0 with value: 1.0.\n",
      "[I 2024-11-19 23:00:24,247] Trial 23 finished with value: 1.0 and parameters: {'n_estimators': 187, 'learning_rate': 324.4544352256119, 'algorithm': 'SAMME'}. Best is trial 0 with value: 1.0.\n",
      "[I 2024-11-19 23:00:24,303] Trial 24 finished with value: 1.0 and parameters: {'n_estimators': 161, 'learning_rate': 572.3835603294895, 'algorithm': 'SAMME'}. Best is trial 0 with value: 1.0.\n",
      "[I 2024-11-19 23:00:24,341] Trial 25 finished with value: 0.7142857142857143 and parameters: {'n_estimators': 171, 'learning_rate': 728.9182305654276, 'algorithm': 'SAMME'}. Best is trial 0 with value: 1.0.\n",
      "[I 2024-11-19 23:00:24,387] Trial 26 finished with value: 1.0 and parameters: {'n_estimators': 150, 'learning_rate': 447.8319690285608, 'algorithm': 'SAMME'}. Best is trial 0 with value: 1.0.\n",
      "[I 2024-11-19 23:00:24,437] Trial 27 finished with value: 1.0 and parameters: {'n_estimators': 189, 'learning_rate': 312.32490448558633, 'algorithm': 'SAMME'}. Best is trial 0 with value: 1.0.\n",
      "[I 2024-11-19 23:00:24,483] Trial 28 finished with value: 1.0 and parameters: {'n_estimators': 176, 'learning_rate': 155.67497140108486, 'algorithm': 'SAMME'}. Best is trial 0 with value: 1.0.\n",
      "[I 2024-11-19 23:00:24,529] Trial 29 finished with value: 1.0 and parameters: {'n_estimators': 163, 'learning_rate': 544.5415835012465, 'algorithm': 'SAMME'}. Best is trial 0 with value: 1.0.\n",
      "[I 2024-11-19 23:00:24,540] A new study created in memory with name: no-name-98c4e792-579a-43a0-add9-5e3d2dd737d5\n",
      "[I 2024-11-19 23:00:30,204] Trial 0 finished with value: 0.7142857142857143 and parameters: {'booster': 'dart', 'lambda': 2.7753570821394533e-05, 'alpha': 3.0692860322165833e-07, 'max_depth': 6, 'eta': 0.005363719953912543, 'gamma': 2.629203839464101e-08, 'grow_policy': 'lossguide', 'sample_type': 'uniform', 'normalize_type': 'tree', 'rate_drop': 0.0843871492247157, 'skip_drop': 0.3026277900160399}. Best is trial 0 with value: 0.7142857142857143.\n",
      "[I 2024-11-19 23:00:30,304] Trial 1 finished with value: 0.7486725663716814 and parameters: {'booster': 'gblinear', 'lambda': 5.7904068673527925e-08, 'alpha': 0.0033887811212467314}. Best is trial 1 with value: 0.7486725663716814.\n",
      "[I 2024-11-19 23:00:30,409] Trial 2 finished with value: 0.743455497382199 and parameters: {'booster': 'gblinear', 'lambda': 0.002431358708394452, 'alpha': 0.0003264428989226631}. Best is trial 1 with value: 0.7486725663716814.\n",
      "[I 2024-11-19 23:00:33,790] Trial 3 finished with value: 0.7142857142857143 and parameters: {'booster': 'dart', 'lambda': 1.7749455394795169e-06, 'alpha': 4.1639155593213185e-05, 'max_depth': 1, 'eta': 0.00012975085826527215, 'gamma': 0.019578831976949464, 'grow_policy': 'depthwise', 'sample_type': 'weighted', 'normalize_type': 'tree', 'rate_drop': 6.562889259361749e-08, 'skip_drop': 5.69024819222851e-08}. Best is trial 1 with value: 0.7486725663716814.\n",
      "[I 2024-11-19 23:00:37,490] Trial 4 finished with value: 0.7142857142857143 and parameters: {'booster': 'dart', 'lambda': 6.812017442771143e-07, 'alpha': 0.0023806629551946534, 'max_depth': 5, 'eta': 1.2738686432570625e-06, 'gamma': 0.00019615550760724055, 'grow_policy': 'lossguide', 'sample_type': 'weighted', 'normalize_type': 'forest', 'rate_drop': 0.01981323618271586, 'skip_drop': 1.721080384566087e-05}. Best is trial 1 with value: 0.7486725663716814.\n",
      "[I 2024-11-19 23:00:42,171] Trial 5 finished with value: 0.7142857142857143 and parameters: {'booster': 'dart', 'lambda': 3.2476779626892286e-07, 'alpha': 6.040823253423079e-06, 'max_depth': 7, 'eta': 4.4454407699130165e-08, 'gamma': 1.4865986821540468e-08, 'grow_policy': 'lossguide', 'sample_type': 'weighted', 'normalize_type': 'tree', 'rate_drop': 1.6067254031493492e-07, 'skip_drop': 0.12825627937315573}. Best is trial 1 with value: 0.7486725663716814.\n",
      "[I 2024-11-19 23:00:43,496] Trial 6 finished with value: 0.7142857142857143 and parameters: {'booster': 'gbtree', 'lambda': 0.1613058703872711, 'alpha': 0.015900699689456125, 'max_depth': 8, 'eta': 3.293289560869096e-05, 'gamma': 0.0006021984098717705, 'grow_policy': 'lossguide'}. Best is trial 1 with value: 0.7486725663716814.\n",
      "[I 2024-11-19 23:00:47,933] Trial 7 finished with value: 0.7142857142857143 and parameters: {'booster': 'dart', 'lambda': 1.114400042821542e-07, 'alpha': 1.014378582371643e-05, 'max_depth': 6, 'eta': 4.772931854181004e-08, 'gamma': 3.4225246821296636e-07, 'grow_policy': 'depthwise', 'sample_type': 'uniform', 'normalize_type': 'tree', 'rate_drop': 0.0003049948975100758, 'skip_drop': 0.13648209977116163}. Best is trial 1 with value: 0.7486725663716814.\n",
      "[I 2024-11-19 23:00:48,042] Trial 8 finished with value: 0.7200315457413249 and parameters: {'booster': 'gblinear', 'lambda': 1.0764267665846987e-05, 'alpha': 0.9098832817116195}. Best is trial 1 with value: 0.7486725663716814.\n",
      "[I 2024-11-19 23:00:49,692] Trial 9 finished with value: 0.7142857142857143 and parameters: {'booster': 'gbtree', 'lambda': 0.001708728600489003, 'alpha': 0.0002820758874530733, 'max_depth': 8, 'eta': 1.131761769120027e-05, 'gamma': 0.00018755006753900898, 'grow_policy': 'lossguide'}. Best is trial 1 with value: 0.7486725663716814.\n",
      "[I 2024-11-19 23:00:49,816] Trial 10 finished with value: 0.7215909090909091 and parameters: {'booster': 'gblinear', 'lambda': 1.2704424972505023e-08, 'alpha': 0.18650815414581282}. Best is trial 1 with value: 0.7486725663716814.\n",
      "[I 2024-11-19 23:00:49,964] Trial 11 finished with value: 0.7493333333333333 and parameters: {'booster': 'gblinear', 'lambda': 0.0017627563183849298, 'alpha': 0.0027059209340497695}. Best is trial 11 with value: 0.7493333333333333.\n",
      "[I 2024-11-19 23:00:50,113] Trial 12 finished with value: 0.7486818980667839 and parameters: {'booster': 'gblinear', 'lambda': 0.0009490482866523348, 'alpha': 0.013340509571491492}. Best is trial 11 with value: 0.7493333333333333.\n",
      "[I 2024-11-19 23:00:50,256] Trial 13 finished with value: 0.7452339688041595 and parameters: {'booster': 'gblinear', 'lambda': 0.0013910820991994846, 'alpha': 0.03231261970400247}. Best is trial 11 with value: 0.7493333333333333.\n",
      "[I 2024-11-19 23:00:50,390] Trial 14 finished with value: 0.7484662576687117 and parameters: {'booster': 'gblinear', 'lambda': 0.09124441554071812, 'alpha': 8.389969497093477e-08}. Best is trial 11 with value: 0.7493333333333333.\n",
      "[I 2024-11-19 23:00:50,516] Trial 15 finished with value: 0.75 and parameters: {'booster': 'gblinear', 'lambda': 0.00025176580614359896, 'alpha': 0.0032770675292366474}. Best is trial 15 with value: 0.75.\n",
      "[I 2024-11-19 23:00:50,707] Trial 16 finished with value: 0.8334956183057449 and parameters: {'booster': 'gbtree', 'lambda': 0.023266002929817696, 'alpha': 0.0009745862813495919, 'max_depth': 1, 'eta': 0.9344779347551874, 'gamma': 0.9696918285561763, 'grow_policy': 'depthwise'}. Best is trial 16 with value: 0.8334956183057449.\n",
      "[I 2024-11-19 23:00:50,896] Trial 17 finished with value: 0.8278210116731517 and parameters: {'booster': 'gbtree', 'lambda': 0.02234422580012076, 'alpha': 7.52757859075531e-07, 'max_depth': 1, 'eta': 0.8625245997285901, 'gamma': 0.9975432957989104, 'grow_policy': 'depthwise'}. Best is trial 16 with value: 0.8334956183057449.\n",
      "[I 2024-11-19 23:00:51,083] Trial 18 finished with value: 0.827016520894072 and parameters: {'booster': 'gbtree', 'lambda': 0.9549804132067015, 'alpha': 1.3465542220939049e-08, 'max_depth': 1, 'eta': 0.8797600733404518, 'gamma': 0.7794993661045444, 'grow_policy': 'depthwise'}. Best is trial 16 with value: 0.8334956183057449.\n",
      "[I 2024-11-19 23:00:51,290] Trial 19 finished with value: 0.8648925281473899 and parameters: {'booster': 'gbtree', 'lambda': 0.013679275002282673, 'alpha': 1.355735464240722e-06, 'max_depth': 3, 'eta': 0.6804317714275706, 'gamma': 0.8286560949770597, 'grow_policy': 'depthwise'}. Best is trial 19 with value: 0.8648925281473899.\n",
      "[I 2024-11-19 23:00:51,566] Trial 20 finished with value: 0.7506193228736582 and parameters: {'booster': 'gbtree', 'lambda': 0.019095467101306038, 'alpha': 2.634441259013486e-06, 'max_depth': 3, 'eta': 0.016813086129107528, 'gamma': 0.018701844084503132, 'grow_policy': 'depthwise'}. Best is trial 19 with value: 0.8648925281473899.\n",
      "[I 2024-11-19 23:00:51,791] Trial 21 finished with value: 0.8475609756097561 and parameters: {'booster': 'gbtree', 'lambda': 0.025630710537127913, 'alpha': 4.7523119586478824e-07, 'max_depth': 3, 'eta': 0.7265242166815942, 'gamma': 0.7206586186016352, 'grow_policy': 'depthwise'}. Best is trial 19 with value: 0.8648925281473899.\n",
      "[I 2024-11-19 23:00:52,024] Trial 22 finished with value: 0.8062157221206582 and parameters: {'booster': 'gbtree', 'lambda': 0.023884408071585463, 'alpha': 6.07537472897023e-05, 'max_depth': 3, 'eta': 0.03763827230584469, 'gamma': 0.06909348674953526, 'grow_policy': 'depthwise'}. Best is trial 19 with value: 0.8648925281473899.\n",
      "[I 2024-11-19 23:00:52,256] Trial 23 finished with value: 0.8358778625954199 and parameters: {'booster': 'gbtree', 'lambda': 0.9667928441722277, 'alpha': 3.188952429008404e-08, 'max_depth': 3, 'eta': 0.1173120509882444, 'gamma': 0.19532860166016572, 'grow_policy': 'depthwise'}. Best is trial 19 with value: 0.8648925281473899.\n",
      "[I 2024-11-19 23:00:52,493] Trial 24 finished with value: 0.8223684210526315 and parameters: {'booster': 'gbtree', 'lambda': 0.7245063507785492, 'alpha': 3.267567406414664e-08, 'max_depth': 3, 'eta': 0.07150256755225122, 'gamma': 0.0507748642652778, 'grow_policy': 'depthwise'}. Best is trial 19 with value: 0.8648925281473899.\n",
      "[I 2024-11-19 23:00:52,757] Trial 25 finished with value: 0.7142857142857143 and parameters: {'booster': 'gbtree', 'lambda': 0.1625437141575618, 'alpha': 2.209394043212045e-07, 'max_depth': 4, 'eta': 0.0013047599913780198, 'gamma': 0.00504691121555813, 'grow_policy': 'depthwise'}. Best is trial 19 with value: 0.8648925281473899.\n",
      "[I 2024-11-19 23:00:53,015] Trial 26 finished with value: 0.839458413926499 and parameters: {'booster': 'gbtree', 'lambda': 0.005671612127664165, 'alpha': 1.4237233732863522e-06, 'max_depth': 4, 'eta': 0.12643925829062366, 'gamma': 8.655636533826717e-06, 'grow_policy': 'depthwise'}. Best is trial 19 with value: 0.8648925281473899.\n",
      "[I 2024-11-19 23:00:53,285] Trial 27 finished with value: 0.7142857142857143 and parameters: {'booster': 'gbtree', 'lambda': 0.0001747145978374722, 'alpha': 1.170650625958936e-06, 'max_depth': 4, 'eta': 0.002095915596738993, 'gamma': 1.0871457644806233e-05, 'grow_policy': 'depthwise'}. Best is trial 19 with value: 0.8648925281473899.\n",
      "[I 2024-11-19 23:00:53,539] Trial 28 finished with value: 0.8543499511241447 and parameters: {'booster': 'gbtree', 'lambda': 0.00818783877956769, 'alpha': 1.2819861222893722e-05, 'max_depth': 4, 'eta': 0.19511518793035143, 'gamma': 6.091053526716797e-06, 'grow_policy': 'depthwise'}. Best is trial 19 with value: 0.8648925281473899.\n",
      "[I 2024-11-19 23:00:53,755] Trial 29 finished with value: 0.8257142857142857 and parameters: {'booster': 'gbtree', 'lambda': 8.729473141169783e-05, 'alpha': 1.3595436241295999e-05, 'max_depth': 2, 'eta': 0.18992899271516922, 'gamma': 4.796329313072279e-06, 'grow_policy': 'depthwise'}. Best is trial 19 with value: 0.8648925281473899.\n",
      "[I 2024-11-19 23:00:53,786] A new study created in memory with name: no-name-6ff90a1e-368a-44bf-9d27-98e38b2acd5d\n",
      "[I 2024-11-19 23:00:54,084] Trial 0 finished with value: 0.830074173971679 and parameters: {'n_estimators': 18, 'criterion': 'gini', 'max_depth': 47, 'min_samples_split': 7, 'min_samples_leaf': 18, 'max_features': 'log2'}. Best is trial 0 with value: 0.830074173971679.\n",
      "[I 2024-11-19 23:00:54,359] Trial 1 finished with value: 0.8110236220472441 and parameters: {'n_estimators': 24, 'criterion': 'log_loss', 'max_depth': 66, 'min_samples_split': 9, 'min_samples_leaf': 77, 'max_features': 'sqrt'}. Best is trial 0 with value: 0.830074173971679.\n",
      "[I 2024-11-19 23:00:57,236] Trial 2 finished with value: 0.8276098901098901 and parameters: {'n_estimators': 107, 'criterion': 'log_loss', 'max_depth': 82, 'min_samples_split': 78, 'min_samples_leaf': 84, 'max_features': None}. Best is trial 0 with value: 0.830074173971679.\n",
      "[I 2024-11-19 23:00:59,938] Trial 3 finished with value: 0.8355795148247979 and parameters: {'n_estimators': 172, 'criterion': 'entropy', 'max_depth': 37, 'min_samples_split': 77, 'min_samples_leaf': 3, 'max_features': 'log2'}. Best is trial 3 with value: 0.8355795148247979.\n",
      "[I 2024-11-19 23:01:06,373] Trial 4 finished with value: 0.8333333333333334 and parameters: {'n_estimators': 195, 'criterion': 'gini', 'max_depth': 56, 'min_samples_split': 15, 'min_samples_leaf': 36, 'max_features': None}. Best is trial 3 with value: 0.8355795148247979.\n",
      "[I 2024-11-19 23:01:07,310] Trial 5 finished with value: 0.8181216931216931 and parameters: {'n_estimators': 86, 'criterion': 'entropy', 'max_depth': 74, 'min_samples_split': 23, 'min_samples_leaf': 64, 'max_features': 'sqrt'}. Best is trial 3 with value: 0.8355795148247979.\n",
      "[I 2024-11-19 23:01:09,203] Trial 6 finished with value: 0.8136482939632546 and parameters: {'n_estimators': 194, 'criterion': 'entropy', 'max_depth': 46, 'min_samples_split': 22, 'min_samples_leaf': 73, 'max_features': 'log2'}. Best is trial 3 with value: 0.8355795148247979.\n",
      "[I 2024-11-19 23:01:10,061] Trial 7 finished with value: 0.814621409921671 and parameters: {'n_estimators': 78, 'criterion': 'log_loss', 'max_depth': 7, 'min_samples_split': 63, 'min_samples_leaf': 63, 'max_features': 'sqrt'}. Best is trial 3 with value: 0.8355795148247979.\n",
      "[I 2024-11-19 23:01:10,740] Trial 8 finished with value: 0.809493264913406 and parameters: {'n_estimators': 88, 'criterion': 'gini', 'max_depth': 67, 'min_samples_split': 29, 'min_samples_leaf': 87, 'max_features': 'log2'}. Best is trial 3 with value: 0.8355795148247979.\n",
      "[I 2024-11-19 23:01:12,041] Trial 9 finished with value: 0.826782145236509 and parameters: {'n_estimators': 106, 'criterion': 'log_loss', 'max_depth': 12, 'min_samples_split': 2, 'min_samples_leaf': 28, 'max_features': 'log2'}. Best is trial 3 with value: 0.8355795148247979.\n",
      "[I 2024-11-19 23:01:14,353] Trial 10 finished with value: 0.8362533692722371 and parameters: {'n_estimators': 158, 'criterion': 'entropy', 'max_depth': 29, 'min_samples_split': 99, 'min_samples_leaf': 2, 'max_features': 'log2'}. Best is trial 10 with value: 0.8362533692722371.\n",
      "[I 2024-11-19 23:01:16,963] Trial 11 finished with value: 0.835016835016835 and parameters: {'n_estimators': 155, 'criterion': 'entropy', 'max_depth': 27, 'min_samples_split': 99, 'min_samples_leaf': 2, 'max_features': 'log2'}. Best is trial 10 with value: 0.8362533692722371.\n",
      "[I 2024-11-19 23:01:19,631] Trial 12 finished with value: 0.8349056603773585 and parameters: {'n_estimators': 162, 'criterion': 'entropy', 'max_depth': 29, 'min_samples_split': 95, 'min_samples_leaf': 1, 'max_features': 'log2'}. Best is trial 10 with value: 0.8362533692722371.\n",
      "[I 2024-11-19 23:01:21,654] Trial 13 finished with value: 0.8268716577540107 and parameters: {'n_estimators': 148, 'criterion': 'entropy', 'max_depth': 100, 'min_samples_split': 79, 'min_samples_leaf': 19, 'max_features': 'log2'}. Best is trial 10 with value: 0.8362533692722371.\n",
      "[I 2024-11-19 23:01:26,177] Trial 14 finished with value: 0.8290366350067843 and parameters: {'n_estimators': 132, 'criterion': 'entropy', 'max_depth': 31, 'min_samples_split': 49, 'min_samples_leaf': 44, 'max_features': None}. Best is trial 10 with value: 0.8362533692722371.\n",
      "[I 2024-11-19 23:01:28,594] Trial 15 finished with value: 0.8275401069518716 and parameters: {'n_estimators': 179, 'criterion': 'entropy', 'max_depth': 19, 'min_samples_split': 84, 'min_samples_leaf': 15, 'max_features': 'log2'}. Best is trial 10 with value: 0.8362533692722371.\n",
      "[I 2024-11-19 23:01:30,699] Trial 16 finished with value: 0.8356902356902357 and parameters: {'n_estimators': 133, 'criterion': 'entropy', 'max_depth': 39, 'min_samples_split': 63, 'min_samples_leaf': 10, 'max_features': 'log2'}. Best is trial 10 with value: 0.8362533692722371.\n",
      "[I 2024-11-19 23:01:31,552] Trial 17 finished with value: 0.7624854819976771 and parameters: {'n_estimators': 129, 'criterion': 'entropy', 'max_depth': 3, 'min_samples_split': 46, 'min_samples_leaf': 50, 'max_features': 'log2'}. Best is trial 10 with value: 0.8362533692722371.\n",
      "[I 2024-11-19 23:01:32,238] Trial 18 finished with value: 0.8268974700399467 and parameters: {'n_estimators': 53, 'criterion': 'entropy', 'max_depth': 41, 'min_samples_split': 62, 'min_samples_leaf': 30, 'max_features': 'sqrt'}. Best is trial 10 with value: 0.8362533692722371.\n",
      "[I 2024-11-19 23:01:37,565] Trial 19 finished with value: 0.8498245614035088 and parameters: {'n_estimators': 133, 'criterion': 'gini', 'max_depth': 56, 'min_samples_split': 69, 'min_samples_leaf': 13, 'max_features': None}. Best is trial 19 with value: 0.8498245614035088.\n",
      "[I 2024-11-19 23:01:41,473] Trial 20 finished with value: 0.8349381017881705 and parameters: {'n_estimators': 117, 'criterion': 'gini', 'max_depth': 61, 'min_samples_split': 89, 'min_samples_leaf': 26, 'max_features': None}. Best is trial 19 with value: 0.8498245614035088.\n",
      "[I 2024-11-19 23:01:47,073] Trial 21 finished with value: 0.8486334968465312 and parameters: {'n_estimators': 136, 'criterion': 'gini', 'max_depth': 53, 'min_samples_split': 63, 'min_samples_leaf': 10, 'max_features': None}. Best is trial 19 with value: 0.8498245614035088.\n",
      "[I 2024-11-19 23:01:50,349] Trial 22 finished with value: 0.8262682418346073 and parameters: {'n_estimators': 143, 'criterion': 'gini', 'max_depth': 52, 'min_samples_split': 35, 'min_samples_leaf': 99, 'max_features': None}. Best is trial 19 with value: 0.8498245614035088.\n",
      "[I 2024-11-19 23:01:57,213] Trial 23 finished with value: 0.849334267694464 and parameters: {'n_estimators': 171, 'criterion': 'gini', 'max_depth': 81, 'min_samples_split': 71, 'min_samples_leaf': 11, 'max_features': None}. Best is trial 19 with value: 0.8498245614035088.\n",
      "[I 2024-11-19 23:02:04,452] Trial 24 finished with value: 0.8448155880306193 and parameters: {'n_estimators': 182, 'criterion': 'gini', 'max_depth': 89, 'min_samples_split': 68, 'min_samples_leaf': 12, 'max_features': None}. Best is trial 19 with value: 0.8498245614035088.\n",
      "[I 2024-11-19 23:02:09,072] Trial 25 finished with value: 0.8418118466898955 and parameters: {'n_estimators': 124, 'criterion': 'gini', 'max_depth': 78, 'min_samples_split': 55, 'min_samples_leaf': 23, 'max_features': None}. Best is trial 19 with value: 0.8498245614035088.\n",
      "[I 2024-11-19 23:02:14,685] Trial 26 finished with value: 0.8308423913043478 and parameters: {'n_estimators': 168, 'criterion': 'gini', 'max_depth': 90, 'min_samples_split': 71, 'min_samples_leaf': 39, 'max_features': None}. Best is trial 19 with value: 0.8498245614035088.\n",
      "[I 2024-11-19 23:02:20,976] Trial 27 finished with value: 0.8537102473498234 and parameters: {'n_estimators': 143, 'criterion': 'gini', 'max_depth': 69, 'min_samples_split': 41, 'min_samples_leaf': 10, 'max_features': None}. Best is trial 27 with value: 0.8537102473498234.\n",
      "[I 2024-11-19 23:02:23,451] Trial 28 finished with value: 0.8381344307270233 and parameters: {'n_estimators': 68, 'criterion': 'gini', 'max_depth': 73, 'min_samples_split': 42, 'min_samples_leaf': 33, 'max_features': None}. Best is trial 27 with value: 0.8537102473498234.\n",
      "[I 2024-11-19 23:02:27,947] Trial 29 finished with value: 0.8432055749128919 and parameters: {'n_estimators': 117, 'criterion': 'gini', 'max_depth': 87, 'min_samples_split': 54, 'min_samples_leaf': 19, 'max_features': None}. Best is trial 27 with value: 0.8537102473498234.\n",
      "[I 2024-11-19 23:02:27,959] A new study created in memory with name: no-name-d2386771-ade7-4842-a9b4-406e60335ca6\n",
      "[I 2024-11-19 23:02:27,981] Trial 0 finished with value: 0.7624854819976771 and parameters: {'n_estimators': 141, 'learning_rate': 971.1956996448151, 'algorithm': 'SAMME'}. Best is trial 0 with value: 0.7624854819976771.\n",
      "[I 2024-11-19 23:02:28,003] Trial 1 finished with value: 0.7624854819976771 and parameters: {'n_estimators': 177, 'learning_rate': 997.4805465805707, 'algorithm': 'SAMME'}. Best is trial 0 with value: 0.7624854819976771.\n",
      "[I 2024-11-19 23:02:28,025] Trial 2 finished with value: 0.7624854819976771 and parameters: {'n_estimators': 80, 'learning_rate': 791.283903147206, 'algorithm': 'SAMME'}. Best is trial 0 with value: 0.7624854819976771.\n",
      "[I 2024-11-19 23:02:28,055] Trial 3 finished with value: 1.0 and parameters: {'n_estimators': 117, 'learning_rate': 606.1567986345449, 'algorithm': 'SAMME'}. Best is trial 3 with value: 1.0.\n",
      "[I 2024-11-19 23:02:28,077] Trial 4 finished with value: 0.7624854819976771 and parameters: {'n_estimators': 189, 'learning_rate': 759.0122154411939, 'algorithm': 'SAMME'}. Best is trial 3 with value: 1.0.\n",
      "[I 2024-11-19 23:02:28,109] Trial 5 finished with value: 1.0 and parameters: {'n_estimators': 165, 'learning_rate': 56.20452563800005, 'algorithm': 'SAMME'}. Best is trial 3 with value: 1.0.\n",
      "[I 2024-11-19 23:02:28,140] Trial 6 finished with value: 1.0 and parameters: {'n_estimators': 88, 'learning_rate': 87.38750110028803, 'algorithm': 'SAMME'}. Best is trial 3 with value: 1.0.\n",
      "[I 2024-11-19 23:02:28,172] Trial 7 finished with value: 1.0 and parameters: {'n_estimators': 83, 'learning_rate': 471.09566985890626, 'algorithm': 'SAMME'}. Best is trial 3 with value: 1.0.\n",
      "[I 2024-11-19 23:02:28,192] Trial 8 finished with value: 0.7624854819976771 and parameters: {'n_estimators': 146, 'learning_rate': 884.8053764998282, 'algorithm': 'SAMME'}. Best is trial 3 with value: 1.0.\n",
      "[I 2024-11-19 23:02:28,229] Trial 9 finished with value: 1.0 and parameters: {'n_estimators': 78, 'learning_rate': 309.8209563751943, 'algorithm': 'SAMME'}. Best is trial 3 with value: 1.0.\n",
      "[I 2024-11-19 23:02:28,280] Trial 10 finished with value: 1.0 and parameters: {'n_estimators': 50, 'learning_rate': 613.2080128997795, 'algorithm': 'SAMME'}. Best is trial 3 with value: 1.0.\n",
      "[I 2024-11-19 23:02:29,607] Trial 11 finished with value: 0.7624854819976771 and parameters: {'n_estimators': 112, 'learning_rate': 9.33866905609949, 'algorithm': 'SAMME'}. Best is trial 3 with value: 1.0.\n",
      "[I 2024-11-19 23:02:29,651] Trial 12 finished with value: 1.0 and parameters: {'n_estimators': 161, 'learning_rate': 265.74236589559575, 'algorithm': 'SAMME'}. Best is trial 3 with value: 1.0.\n",
      "[I 2024-11-19 23:02:29,697] Trial 13 finished with value: 1.0 and parameters: {'n_estimators': 119, 'learning_rate': 553.1034355758287, 'algorithm': 'SAMME'}. Best is trial 3 with value: 1.0.\n",
      "[I 2024-11-19 23:02:29,757] Trial 14 finished with value: 1.0 and parameters: {'n_estimators': 198, 'learning_rate': 356.17495021954056, 'algorithm': 'SAMME'}. Best is trial 3 with value: 1.0.\n",
      "[I 2024-11-19 23:02:29,820] Trial 15 finished with value: 1.0 and parameters: {'n_estimators': 137, 'learning_rate': 138.88819795681707, 'algorithm': 'SAMME'}. Best is trial 3 with value: 1.0.\n",
      "[I 2024-11-19 23:02:29,865] Trial 16 finished with value: 0.7624854819976771 and parameters: {'n_estimators': 161, 'learning_rate': 682.8480268297632, 'algorithm': 'SAMME'}. Best is trial 3 with value: 1.0.\n",
      "[I 2024-11-19 23:02:29,937] Trial 17 finished with value: 1.0 and parameters: {'n_estimators': 106, 'learning_rate': 434.99607158371145, 'algorithm': 'SAMME'}. Best is trial 3 with value: 1.0.\n",
      "[I 2024-11-19 23:02:29,988] Trial 18 finished with value: 1.0 and parameters: {'n_estimators': 167, 'learning_rate': 225.56453065059236, 'algorithm': 'SAMME'}. Best is trial 3 with value: 1.0.\n",
      "[I 2024-11-19 23:02:30,035] Trial 19 finished with value: 1.0 and parameters: {'n_estimators': 125, 'learning_rate': 390.10319918174804, 'algorithm': 'SAMME'}. Best is trial 3 with value: 1.0.\n",
      "[I 2024-11-19 23:02:30,081] Trial 20 finished with value: 1.0 and parameters: {'n_estimators': 101, 'learning_rate': 549.6737256985688, 'algorithm': 'SAMME'}. Best is trial 3 with value: 1.0.\n",
      "[I 2024-11-19 23:02:30,128] Trial 21 finished with value: 1.0 and parameters: {'n_estimators': 96, 'learning_rate': 69.57758384827207, 'algorithm': 'SAMME'}. Best is trial 3 with value: 1.0.\n",
      "[I 2024-11-19 23:02:30,174] Trial 22 finished with value: 1.0 and parameters: {'n_estimators': 50, 'learning_rate': 132.88502165917401, 'algorithm': 'SAMME'}. Best is trial 3 with value: 1.0.\n",
      "[I 2024-11-19 23:02:30,220] Trial 23 finished with value: 1.0 and parameters: {'n_estimators': 91, 'learning_rate': 181.17665586760768, 'algorithm': 'SAMME'}. Best is trial 3 with value: 1.0.\n",
      "[I 2024-11-19 23:02:31,029] Trial 24 finished with value: 0.7624854819976771 and parameters: {'n_estimators': 71, 'learning_rate': 22.75134303984641, 'algorithm': 'SAMME'}. Best is trial 3 with value: 1.0.\n",
      "[I 2024-11-19 23:02:31,086] Trial 25 finished with value: 1.0 and parameters: {'n_estimators': 125, 'learning_rate': 115.45587816466096, 'algorithm': 'SAMME'}. Best is trial 3 with value: 1.0.\n",
      "[I 2024-11-19 23:02:31,153] Trial 26 finished with value: 1.0 and parameters: {'n_estimators': 63, 'learning_rate': 660.6251003776061, 'algorithm': 'SAMME'}. Best is trial 3 with value: 1.0.\n",
      "[I 2024-11-19 23:02:31,230] Trial 27 finished with value: 1.0 and parameters: {'n_estimators': 152, 'learning_rate': 248.07813031517, 'algorithm': 'SAMME'}. Best is trial 3 with value: 1.0.\n",
      "[I 2024-11-19 23:02:31,285] Trial 28 finished with value: 1.0 and parameters: {'n_estimators': 131, 'learning_rate': 508.5022511921039, 'algorithm': 'SAMME'}. Best is trial 3 with value: 1.0.\n",
      "[I 2024-11-19 23:02:31,336] Trial 29 finished with value: 1.0 and parameters: {'n_estimators': 117, 'learning_rate': 334.94898604423327, 'algorithm': 'SAMME'}. Best is trial 3 with value: 1.0.\n",
      "[I 2024-11-19 23:02:31,348] A new study created in memory with name: no-name-04959023-b346-4e7c-b5c2-1d6cadebdf6e\n",
      "[I 2024-11-19 23:02:33,911] Trial 0 finished with value: 0.7624854819976771 and parameters: {'booster': 'dart', 'lambda': 2.607323524778455e-06, 'alpha': 0.019040400696602046, 'max_depth': 9, 'eta': 6.18772823232284e-05, 'gamma': 0.05794166667959169, 'grow_policy': 'lossguide', 'sample_type': 'weighted', 'normalize_type': 'forest', 'rate_drop': 0.8280567023344408, 'skip_drop': 0.0003207573011433665}. Best is trial 0 with value: 0.7624854819976771.\n",
      "[I 2024-11-19 23:02:34,007] Trial 1 finished with value: 0.8042291950886766 and parameters: {'booster': 'gblinear', 'lambda': 0.00031562424803537883, 'alpha': 3.359569376772953e-08}. Best is trial 1 with value: 0.8042291950886766.\n",
      "[I 2024-11-19 23:02:34,313] Trial 2 finished with value: 0.7624854819976771 and parameters: {'booster': 'gbtree', 'lambda': 3.211972012616117e-07, 'alpha': 0.000165650684321488, 'max_depth': 6, 'eta': 8.404087716065529e-08, 'gamma': 1.638937697077796e-08, 'grow_policy': 'depthwise'}. Best is trial 1 with value: 0.8042291950886766.\n",
      "[I 2024-11-19 23:02:37,650] Trial 3 finished with value: 0.7624854819976771 and parameters: {'booster': 'dart', 'lambda': 0.0004637820767739966, 'alpha': 0.0003194252752839717, 'max_depth': 2, 'eta': 3.555314202744894e-08, 'gamma': 0.04756117288215124, 'grow_policy': 'lossguide', 'sample_type': 'weighted', 'normalize_type': 'tree', 'rate_drop': 5.0250957798236e-06, 'skip_drop': 0.00016119443767589303}. Best is trial 1 with value: 0.8042291950886766.\n",
      "[I 2024-11-19 23:02:37,748] Trial 4 finished with value: 0.7761755485893417 and parameters: {'booster': 'gblinear', 'lambda': 0.2414599651451284, 'alpha': 0.04330594477021782}. Best is trial 1 with value: 0.8042291950886766.\n",
      "[I 2024-11-19 23:02:41,913] Trial 5 finished with value: 0.7624854819976771 and parameters: {'booster': 'dart', 'lambda': 0.022463831787402862, 'alpha': 0.051603132286692215, 'max_depth': 9, 'eta': 1.46881640231745e-05, 'gamma': 0.2910827321058333, 'grow_policy': 'depthwise', 'sample_type': 'weighted', 'normalize_type': 'forest', 'rate_drop': 0.0019584763172784147, 'skip_drop': 9.916073505764916e-07}. Best is trial 1 with value: 0.8042291950886766.\n",
      "[I 2024-11-19 23:02:46,543] Trial 6 finished with value: 0.8357289527720739 and parameters: {'booster': 'dart', 'lambda': 8.744462830750483e-05, 'alpha': 5.996775055852955e-06, 'max_depth': 7, 'eta': 0.011243762403046115, 'gamma': 0.17897294881402803, 'grow_policy': 'lossguide', 'sample_type': 'weighted', 'normalize_type': 'forest', 'rate_drop': 1.3579472868949713e-08, 'skip_drop': 0.0012318453601598792}. Best is trial 6 with value: 0.8357289527720739.\n",
      "[I 2024-11-19 23:02:46,642] Trial 7 finished with value: 0.7830551989730423 and parameters: {'booster': 'gblinear', 'lambda': 0.0009262967120307499, 'alpha': 0.05503562046287161}. Best is trial 6 with value: 0.8357289527720739.\n",
      "[I 2024-11-19 23:02:46,767] Trial 8 finished with value: 0.8823099415204678 and parameters: {'booster': 'gbtree', 'lambda': 1.8004127215515206e-07, 'alpha': 0.0004892744977046998, 'max_depth': 2, 'eta': 0.4676801800741813, 'gamma': 4.186380235321491e-07, 'grow_policy': 'lossguide'}. Best is trial 8 with value: 0.8823099415204678.\n",
      "[I 2024-11-19 23:02:46,898] Trial 9 finished with value: 0.7624854819976771 and parameters: {'booster': 'gbtree', 'lambda': 2.2218866820921505e-08, 'alpha': 0.0019367212498464879, 'max_depth': 2, 'eta': 1.2116373932251333e-06, 'gamma': 2.4260691212294558e-06, 'grow_policy': 'depthwise'}. Best is trial 8 with value: 0.8823099415204678.\n",
      "[I 2024-11-19 23:02:47,079] Trial 10 finished with value: 0.8181203515889114 and parameters: {'booster': 'gbtree', 'lambda': 1.3802302021581879e-08, 'alpha': 3.0867309759568083e-06, 'max_depth': 1, 'eta': 0.08440101675348238, 'gamma': 1.194905879391626e-05, 'grow_policy': 'lossguide'}. Best is trial 8 with value: 0.8823099415204678.\n",
      "[I 2024-11-19 23:02:47,449] Trial 11 finished with value: 0.8817518248175182 and parameters: {'booster': 'gbtree', 'lambda': 5.970596062503989e-06, 'alpha': 1.8071395864984794e-06, 'max_depth': 5, 'eta': 0.23543171646484917, 'gamma': 0.0006008330470191093, 'grow_policy': 'lossguide'}. Best is trial 8 with value: 0.8823099415204678.\n",
      "[I 2024-11-19 23:02:47,733] Trial 12 finished with value: 0.8799110452186805 and parameters: {'booster': 'gbtree', 'lambda': 4.292788392284356e-06, 'alpha': 2.0241826218595995e-06, 'max_depth': 4, 'eta': 0.6225569021729026, 'gamma': 0.0005565469215596056, 'grow_policy': 'lossguide'}. Best is trial 8 with value: 0.8823099415204678.\n",
      "[I 2024-11-19 23:02:48,120] Trial 13 finished with value: 0.7624854819976771 and parameters: {'booster': 'gbtree', 'lambda': 7.204522461152298e-07, 'alpha': 4.770908026018299e-07, 'max_depth': 4, 'eta': 0.0022719607005511353, 'gamma': 0.0002850727257640829, 'grow_policy': 'lossguide'}. Best is trial 8 with value: 0.8823099415204678.\n",
      "[I 2024-11-19 23:02:48,457] Trial 14 finished with value: 0.875748502994012 and parameters: {'booster': 'gbtree', 'lambda': 1.4420764151001072e-05, 'alpha': 2.7017054503592438e-05, 'max_depth': 4, 'eta': 0.9083726970599357, 'gamma': 7.586071763464118e-08, 'grow_policy': 'lossguide'}. Best is trial 8 with value: 0.8823099415204678.\n",
      "[I 2024-11-19 23:02:49,077] Trial 15 finished with value: 0.7624854819976771 and parameters: {'booster': 'gbtree', 'lambda': 1.704194437486305e-07, 'alpha': 0.8717975409767189, 'max_depth': 6, 'eta': 0.0028190504248531575, 'gamma': 0.002557075306544562, 'grow_policy': 'lossguide'}. Best is trial 8 with value: 0.8823099415204678.\n",
      "[I 2024-11-19 23:02:49,336] Trial 16 finished with value: 0.8378932968536251 and parameters: {'booster': 'gbtree', 'lambda': 2.6700980814462778e-05, 'alpha': 1.1452535486090972e-08, 'max_depth': 3, 'eta': 0.05077984009338954, 'gamma': 1.134223066409411e-06, 'grow_policy': 'lossguide'}. Best is trial 8 with value: 0.8823099415204678.\n",
      "[I 2024-11-19 23:02:49,523] Trial 17 finished with value: 0.7624854819976771 and parameters: {'booster': 'gbtree', 'lambda': 9.179517035179403e-08, 'alpha': 2.253840150717874e-07, 'max_depth': 1, 'eta': 0.00039548844708844764, 'gamma': 2.9117152552099218e-05, 'grow_policy': 'depthwise'}. Best is trial 8 with value: 0.8823099415204678.\n",
      "[I 2024-11-19 23:02:50,198] Trial 18 finished with value: 0.8818840579710145 and parameters: {'booster': 'gbtree', 'lambda': 1.6765297069809232e-06, 'alpha': 0.0016798929577879155, 'max_depth': 7, 'eta': 0.06932626791702506, 'gamma': 0.003326887933808335, 'grow_policy': 'lossguide'}. Best is trial 8 with value: 0.8823099415204678.\n",
      "[I 2024-11-19 23:02:50,333] Trial 19 finished with value: 0.8040816326530612 and parameters: {'booster': 'gblinear', 'lambda': 8.606982151190332e-07, 'alpha': 0.0018692185988418584}. Best is trial 8 with value: 0.8823099415204678.\n",
      "[I 2024-11-19 23:02:51,596] Trial 20 finished with value: 0.8578500707213579 and parameters: {'booster': 'gbtree', 'lambda': 6.092655767773187e-08, 'alpha': 0.0013188078424219514, 'max_depth': 8, 'eta': 0.01620784504480349, 'gamma': 0.005590001646298557, 'grow_policy': 'lossguide'}. Best is trial 8 with value: 0.8823099415204678.\n",
      "[I 2024-11-19 23:02:52,056] Trial 21 finished with value: 0.8848129126925899 and parameters: {'booster': 'gbtree', 'lambda': 4.343193483531084e-06, 'alpha': 3.1267922310146514e-05, 'max_depth': 6, 'eta': 0.19986803637478504, 'gamma': 0.0035913515542961598, 'grow_policy': 'lossguide'}. Best is trial 21 with value: 0.8848129126925899.\n",
      "[I 2024-11-19 23:02:52,816] Trial 22 finished with value: 0.8805755395683453 and parameters: {'booster': 'gbtree', 'lambda': 1.2731240563033152e-06, 'alpha': 2.437951417788774e-05, 'max_depth': 7, 'eta': 0.06354807048878658, 'gamma': 0.011687769711258903, 'grow_policy': 'lossguide'}. Best is trial 21 with value: 0.8848129126925899.\n",
      "[I 2024-11-19 23:02:53,318] Trial 23 finished with value: 0.8803863298662704 and parameters: {'booster': 'gbtree', 'lambda': 5.056438160657434e-05, 'alpha': 0.000541551530941629, 'max_depth': 6, 'eta': 0.9149949990765163, 'gamma': 9.268743013957087e-05, 'grow_policy': 'lossguide'}. Best is trial 21 with value: 0.8848129126925899.\n",
      "[I 2024-11-19 23:02:54,229] Trial 24 finished with value: 0.7635726795096323 and parameters: {'booster': 'gbtree', 'lambda': 0.007988572054886928, 'alpha': 3.532397539205919e-05, 'max_depth': 7, 'eta': 0.004750282904929538, 'gamma': 5.894098915593132e-07, 'grow_policy': 'lossguide'}. Best is trial 21 with value: 0.8848129126925899.\n",
      "[I 2024-11-19 23:02:54,671] Trial 25 finished with value: 0.7624854819976771 and parameters: {'booster': 'gbtree', 'lambda': 1.1356163520040095e-05, 'alpha': 0.007853757427031824, 'max_depth': 5, 'eta': 0.0006644624701536655, 'gamma': 0.0027785606987105246, 'grow_policy': 'lossguide'}. Best is trial 21 with value: 0.8848129126925899.\n",
      "[I 2024-11-19 23:02:55,504] Trial 26 finished with value: 0.8819695872556119 and parameters: {'booster': 'gbtree', 'lambda': 2.8589356896664623e-07, 'alpha': 8.256673616769585e-05, 'max_depth': 8, 'eta': 0.12864141782307245, 'gamma': 0.021104993457208197, 'grow_policy': 'lossguide'}. Best is trial 21 with value: 0.8848129126925899.\n",
      "[I 2024-11-19 23:02:55,952] Trial 27 finished with value: 0.8780131482834186 and parameters: {'booster': 'gbtree', 'lambda': 3.085665297027503e-07, 'alpha': 1.2474217476012123e-05, 'max_depth': 8, 'eta': 0.2021552229759155, 'gamma': 0.03311995672925154, 'grow_policy': 'depthwise'}. Best is trial 21 with value: 0.8848129126925899.\n",
      "[I 2024-11-19 23:03:00,102] Trial 28 finished with value: 0.8355704697986577 and parameters: {'booster': 'dart', 'lambda': 3.029618058960347e-08, 'alpha': 8.229640876084773e-05, 'max_depth': 8, 'eta': 0.022699347575176696, 'gamma': 0.8528822854085785, 'grow_policy': 'lossguide', 'sample_type': 'uniform', 'normalize_type': 'tree', 'rate_drop': 0.30139037666813645, 'skip_drop': 0.2980222877004525}. Best is trial 21 with value: 0.8848129126925899.\n",
      "[I 2024-11-19 23:03:00,250] Trial 29 finished with value: 0.8013468013468014 and parameters: {'booster': 'gblinear', 'lambda': 3.4209724946554403e-06, 'alpha': 0.00945441642912805}. Best is trial 21 with value: 0.8848129126925899.\n",
      "[I 2024-11-19 23:03:00,274] A new study created in memory with name: no-name-8daba177-31fd-4570-b02c-9902ceb2bbdd\n",
      "[I 2024-11-19 23:03:01,345] Trial 0 finished with value: 0.7633587786259542 and parameters: {'n_estimators': 150, 'criterion': 'log_loss', 'max_depth': 74, 'min_samples_split': 72, 'min_samples_leaf': 85, 'max_features': 'log2'}. Best is trial 0 with value: 0.7633587786259542.\n",
      "[I 2024-11-19 23:03:02,333] Trial 1 finished with value: 0.7951356407857811 and parameters: {'n_estimators': 49, 'criterion': 'log_loss', 'max_depth': 64, 'min_samples_split': 18, 'min_samples_leaf': 82, 'max_features': None}. Best is trial 1 with value: 0.7951356407857811.\n",
      "[I 2024-11-19 23:03:04,149] Trial 2 finished with value: 0.8003581020590869 and parameters: {'n_estimators': 195, 'criterion': 'gini', 'max_depth': 58, 'min_samples_split': 45, 'min_samples_leaf': 22, 'max_features': 'log2'}. Best is trial 2 with value: 0.8003581020590869.\n",
      "[I 2024-11-19 23:03:04,370] Trial 3 finished with value: 0.7923351158645277 and parameters: {'n_estimators': 24, 'criterion': 'entropy', 'max_depth': 67, 'min_samples_split': 51, 'min_samples_leaf': 39, 'max_features': 'log2'}. Best is trial 2 with value: 0.8003581020590869.\n",
      "[I 2024-11-19 23:03:05,098] Trial 4 finished with value: 0.7828773168578994 and parameters: {'n_estimators': 83, 'criterion': 'entropy', 'max_depth': 97, 'min_samples_split': 89, 'min_samples_leaf': 42, 'max_features': 'log2'}. Best is trial 2 with value: 0.8003581020590869.\n",
      "[I 2024-11-19 23:03:06,680] Trial 5 finished with value: 0.7954759660697456 and parameters: {'n_estimators': 113, 'criterion': 'log_loss', 'max_depth': 3, 'min_samples_split': 95, 'min_samples_leaf': 68, 'max_features': None}. Best is trial 2 with value: 0.8003581020590869.\n",
      "[I 2024-11-19 23:03:10,619] Trial 6 finished with value: 0.8024691358024691 and parameters: {'n_estimators': 188, 'criterion': 'gini', 'max_depth': 49, 'min_samples_split': 36, 'min_samples_leaf': 48, 'max_features': None}. Best is trial 6 with value: 0.8024691358024691.\n",
      "[I 2024-11-19 23:03:11,229] Trial 7 finished with value: 0.8 and parameters: {'n_estimators': 31, 'criterion': 'gini', 'max_depth': 54, 'min_samples_split': 97, 'min_samples_leaf': 60, 'max_features': None}. Best is trial 6 with value: 0.8024691358024691.\n",
      "[I 2024-11-19 23:03:18,194] Trial 8 finished with value: 0.830945558739255 and parameters: {'n_estimators': 194, 'criterion': 'entropy', 'max_depth': 77, 'min_samples_split': 55, 'min_samples_leaf': 12, 'max_features': None}. Best is trial 8 with value: 0.830945558739255.\n",
      "[I 2024-11-19 23:03:21,211] Trial 9 finished with value: 0.8301343570057581 and parameters: {'n_estimators': 82, 'criterion': 'entropy', 'max_depth': 99, 'min_samples_split': 80, 'min_samples_leaf': 3, 'max_features': None}. Best is trial 8 with value: 0.830945558739255.\n",
      "[I 2024-11-19 23:03:22,806] Trial 10 finished with value: 0.8149171270718232 and parameters: {'n_estimators': 135, 'criterion': 'entropy', 'max_depth': 28, 'min_samples_split': 66, 'min_samples_leaf': 2, 'max_features': 'sqrt'}. Best is trial 8 with value: 0.830945558739255.\n",
      "[I 2024-11-19 23:03:25,436] Trial 11 finished with value: 0.8368725868725869 and parameters: {'n_estimators': 70, 'criterion': 'entropy', 'max_depth': 98, 'min_samples_split': 75, 'min_samples_leaf': 1, 'max_features': None}. Best is trial 11 with value: 0.8368725868725869.\n",
      "[I 2024-11-19 23:03:26,145] Trial 12 finished with value: 0.7985675917636527 and parameters: {'n_estimators': 62, 'criterion': 'entropy', 'max_depth': 82, 'min_samples_split': 63, 'min_samples_leaf': 23, 'max_features': 'sqrt'}. Best is trial 11 with value: 0.8368725868725869.\n",
      "[I 2024-11-19 23:03:31,568] Trial 13 finished with value: 0.8274209012464045 and parameters: {'n_estimators': 157, 'criterion': 'entropy', 'max_depth': 88, 'min_samples_split': 30, 'min_samples_leaf': 22, 'max_features': None}. Best is trial 11 with value: 0.8368725868725869.\n",
      "[I 2024-11-19 23:03:35,484] Trial 14 finished with value: 0.8293384467881112 and parameters: {'n_estimators': 112, 'criterion': 'entropy', 'max_depth': 82, 'min_samples_split': 60, 'min_samples_leaf': 12, 'max_features': None}. Best is trial 11 with value: 0.8368725868725869.\n",
      "[I 2024-11-19 23:03:35,781] Trial 15 finished with value: 0.8277886497064579 and parameters: {'n_estimators': 9, 'criterion': 'entropy', 'max_depth': 35, 'min_samples_split': 79, 'min_samples_leaf': 31, 'max_features': None}. Best is trial 11 with value: 0.8368725868725869.\n",
      "[I 2024-11-19 23:03:37,875] Trial 16 finished with value: 0.8127306273062731 and parameters: {'n_estimators': 172, 'criterion': 'entropy', 'max_depth': 100, 'min_samples_split': 5, 'min_samples_leaf': 12, 'max_features': 'sqrt'}. Best is trial 11 with value: 0.8368725868725869.\n",
      "[I 2024-11-19 23:03:39,268] Trial 17 finished with value: 0.7842778793418648 and parameters: {'n_estimators': 75, 'criterion': 'entropy', 'max_depth': 87, 'min_samples_split': 54, 'min_samples_leaf': 100, 'max_features': None}. Best is trial 11 with value: 0.8368725868725869.\n",
      "[I 2024-11-19 23:03:44,100] Trial 18 finished with value: 0.8307839388145315 and parameters: {'n_estimators': 133, 'criterion': 'log_loss', 'max_depth': 72, 'min_samples_split': 40, 'min_samples_leaf': 12, 'max_features': None}. Best is trial 11 with value: 0.8368725868725869.\n",
      "[I 2024-11-19 23:03:45,061] Trial 19 finished with value: 0.8021680216802168 and parameters: {'n_estimators': 97, 'criterion': 'gini', 'max_depth': 43, 'min_samples_split': 81, 'min_samples_leaf': 1, 'max_features': 'sqrt'}. Best is trial 11 with value: 0.8368725868725869.\n",
      "[I 2024-11-19 23:03:46,630] Trial 20 finished with value: 0.8138195777351248 and parameters: {'n_estimators': 53, 'criterion': 'entropy', 'max_depth': 15, 'min_samples_split': 25, 'min_samples_leaf': 32, 'max_features': None}. Best is trial 11 with value: 0.8368725868725869.\n",
      "[I 2024-11-19 23:03:51,473] Trial 21 finished with value: 0.8351115421920465 and parameters: {'n_estimators': 137, 'criterion': 'log_loss', 'max_depth': 74, 'min_samples_split': 39, 'min_samples_leaf': 13, 'max_features': None}. Best is trial 11 with value: 0.8368725868725869.\n",
      "[I 2024-11-19 23:03:56,111] Trial 22 finished with value: 0.8298076923076924 and parameters: {'n_estimators': 130, 'criterion': 'log_loss', 'max_depth': 76, 'min_samples_split': 48, 'min_samples_leaf': 13, 'max_features': None}. Best is trial 11 with value: 0.8368725868725869.\n",
      "[I 2024-11-19 23:04:01,525] Trial 23 finished with value: 0.8240917782026769 and parameters: {'n_estimators': 174, 'criterion': 'log_loss', 'max_depth': 89, 'min_samples_split': 70, 'min_samples_leaf': 19, 'max_features': None}. Best is trial 11 with value: 0.8368725868725869.\n",
      "[I 2024-11-19 23:04:04,379] Trial 24 finished with value: 0.8140417457305503 and parameters: {'n_estimators': 98, 'criterion': 'log_loss', 'max_depth': 64, 'min_samples_split': 55, 'min_samples_leaf': 31, 'max_features': None}. Best is trial 11 with value: 0.8368725868725869.\n",
      "[I 2024-11-19 23:04:11,438] Trial 25 finished with value: 0.8497560975609756 and parameters: {'n_estimators': 166, 'criterion': 'log_loss', 'max_depth': 78, 'min_samples_split': 13, 'min_samples_leaf': 7, 'max_features': None}. Best is trial 25 with value: 0.8497560975609756.\n",
      "[I 2024-11-19 23:04:18,453] Trial 26 finished with value: 0.8548864758144127 and parameters: {'n_estimators': 153, 'criterion': 'log_loss', 'max_depth': 93, 'min_samples_split': 3, 'min_samples_leaf': 5, 'max_features': None}. Best is trial 26 with value: 0.8548864758144127.\n",
      "[I 2024-11-19 23:04:27,250] Trial 27 finished with value: 0.8511263467189031 and parameters: {'n_estimators': 163, 'criterion': 'log_loss', 'max_depth': 93, 'min_samples_split': 4, 'min_samples_leaf': 5, 'max_features': None}. Best is trial 26 with value: 0.8548864758144127.\n",
      "[I 2024-11-19 23:04:28,519] Trial 28 finished with value: 0.7723367697594502 and parameters: {'n_estimators': 163, 'criterion': 'log_loss', 'max_depth': 91, 'min_samples_split': 3, 'min_samples_leaf': 61, 'max_features': 'sqrt'}. Best is trial 26 with value: 0.8548864758144127.\n",
      "[I 2024-11-19 23:04:30,627] Trial 29 finished with value: 0.8258845437616388 and parameters: {'n_estimators': 148, 'criterion': 'log_loss', 'max_depth': 82, 'min_samples_split': 12, 'min_samples_leaf': 7, 'max_features': 'log2'}. Best is trial 26 with value: 0.8548864758144127.\n",
      "[I 2024-11-19 23:04:30,638] A new study created in memory with name: no-name-da551c0e-3c8d-4e70-b508-e72bbdb8dee6\n",
      "[I 2024-11-19 23:04:30,677] Trial 0 finished with value: 1.0 and parameters: {'n_estimators': 75, 'learning_rate': 493.63148693968805, 'algorithm': 'SAMME'}. Best is trial 0 with value: 1.0.\n",
      "[I 2024-11-19 23:04:30,708] Trial 1 finished with value: 1.0 and parameters: {'n_estimators': 107, 'learning_rate': 361.8060919595527, 'algorithm': 'SAMME'}. Best is trial 0 with value: 1.0.\n",
      "[I 2024-11-19 23:04:30,741] Trial 2 finished with value: 1.0 and parameters: {'n_estimators': 190, 'learning_rate': 142.84535181411508, 'algorithm': 'SAMME'}. Best is trial 0 with value: 1.0.\n",
      "[I 2024-11-19 23:04:30,772] Trial 3 finished with value: 1.0 and parameters: {'n_estimators': 96, 'learning_rate': 647.9175705718013, 'algorithm': 'SAMME'}. Best is trial 0 with value: 1.0.\n",
      "[I 2024-11-19 23:04:30,818] Trial 4 finished with value: 1.0 and parameters: {'n_estimators': 116, 'learning_rate': 403.0536406062153, 'algorithm': 'SAMME'}. Best is trial 0 with value: 1.0.\n",
      "[I 2024-11-19 23:04:30,839] Trial 5 finished with value: 0.7142857142857143 and parameters: {'n_estimators': 141, 'learning_rate': 955.4369416777989, 'algorithm': 'SAMME'}. Best is trial 0 with value: 1.0.\n",
      "[I 2024-11-19 23:04:31,547] Trial 6 finished with value: 0.7142857142857143 and parameters: {'n_estimators': 78, 'learning_rate': 25.1973141615075, 'algorithm': 'SAMME'}. Best is trial 0 with value: 1.0.\n",
      "[I 2024-11-19 23:04:31,575] Trial 7 finished with value: 1.0 and parameters: {'n_estimators': 115, 'learning_rate': 131.33221901770688, 'algorithm': 'SAMME'}. Best is trial 0 with value: 1.0.\n",
      "[I 2024-11-19 23:04:31,604] Trial 8 finished with value: 1.0 and parameters: {'n_estimators': 104, 'learning_rate': 694.5255765437029, 'algorithm': 'SAMME'}. Best is trial 0 with value: 1.0.\n",
      "[I 2024-11-19 23:04:31,628] Trial 9 finished with value: 0.7142857142857143 and parameters: {'n_estimators': 89, 'learning_rate': 929.3238031871196, 'algorithm': 'SAMME'}. Best is trial 0 with value: 1.0.\n",
      "[I 2024-11-19 23:04:31,681] Trial 10 finished with value: 1.0 and parameters: {'n_estimators': 57, 'learning_rate': 594.2414068398682, 'algorithm': 'SAMME'}. Best is trial 0 with value: 1.0.\n",
      "[I 2024-11-19 23:04:31,747] Trial 11 finished with value: 1.0 and parameters: {'n_estimators': 143, 'learning_rate': 352.0631210114807, 'algorithm': 'SAMME'}. Best is trial 0 with value: 1.0.\n",
      "[I 2024-11-19 23:04:31,802] Trial 12 finished with value: 1.0 and parameters: {'n_estimators': 51, 'learning_rate': 350.2949074484118, 'algorithm': 'SAMME'}. Best is trial 0 with value: 1.0.\n",
      "[I 2024-11-19 23:04:31,860] Trial 13 finished with value: 1.0 and parameters: {'n_estimators': 70, 'learning_rate': 479.71975207278103, 'algorithm': 'SAMME'}. Best is trial 0 with value: 1.0.\n",
      "[I 2024-11-19 23:04:31,922] Trial 14 finished with value: 1.0 and parameters: {'n_estimators': 145, 'learning_rate': 224.91094244602857, 'algorithm': 'SAMME'}. Best is trial 0 with value: 1.0.\n",
      "[I 2024-11-19 23:04:31,969] Trial 15 finished with value: 0.7142857142857143 and parameters: {'n_estimators': 172, 'learning_rate': 737.8995969221128, 'algorithm': 'SAMME'}. Best is trial 0 with value: 1.0.\n",
      "[I 2024-11-19 23:04:32,017] Trial 16 finished with value: 1.0 and parameters: {'n_estimators': 75, 'learning_rate': 521.713271536496, 'algorithm': 'SAMME'}. Best is trial 0 with value: 1.0.\n",
      "[I 2024-11-19 23:04:32,061] Trial 17 finished with value: 1.0 and parameters: {'n_estimators': 131, 'learning_rate': 247.84622505942627, 'algorithm': 'SAMME'}. Best is trial 0 with value: 1.0.\n",
      "[I 2024-11-19 23:04:32,112] Trial 18 finished with value: 1.0 and parameters: {'n_estimators': 101, 'learning_rate': 492.6611347540166, 'algorithm': 'SAMME'}. Best is trial 0 with value: 1.0.\n",
      "[I 2024-11-19 23:04:32,158] Trial 19 finished with value: 0.7142857142857143 and parameters: {'n_estimators': 163, 'learning_rate': 792.7873985454412, 'algorithm': 'SAMME'}. Best is trial 0 with value: 1.0.\n",
      "[I 2024-11-19 23:04:32,216] Trial 20 finished with value: 0.7142857142857143 and parameters: {'n_estimators': 85, 'learning_rate': 822.8834212845765, 'algorithm': 'SAMME'}. Best is trial 0 with value: 1.0.\n",
      "[I 2024-11-19 23:04:32,293] Trial 21 finished with value: 1.0 and parameters: {'n_estimators': 198, 'learning_rate': 206.7627702707111, 'algorithm': 'SAMME'}. Best is trial 0 with value: 1.0.\n",
      "[I 2024-11-19 23:04:34,278] Trial 22 finished with value: 0.7142857142857143 and parameters: {'n_estimators': 192, 'learning_rate': 12.398766232470848, 'algorithm': 'SAMME'}. Best is trial 0 with value: 1.0.\n",
      "[I 2024-11-19 23:04:34,347] Trial 23 finished with value: 1.0 and parameters: {'n_estimators': 163, 'learning_rate': 124.93505650160796, 'algorithm': 'SAMME'}. Best is trial 0 with value: 1.0.\n",
      "[I 2024-11-19 23:04:34,395] Trial 24 finished with value: 1.0 and parameters: {'n_estimators': 64, 'learning_rate': 297.9625428779992, 'algorithm': 'SAMME'}. Best is trial 0 with value: 1.0.\n",
      "[I 2024-11-19 23:04:34,461] Trial 25 finished with value: 1.0 and parameters: {'n_estimators': 119, 'learning_rate': 424.091976055276, 'algorithm': 'SAMME'}. Best is trial 0 with value: 1.0.\n",
      "[I 2024-11-19 23:04:34,519] Trial 26 finished with value: 1.0 and parameters: {'n_estimators': 126, 'learning_rate': 559.3219621415865, 'algorithm': 'SAMME'}. Best is trial 0 with value: 1.0.\n",
      "[I 2024-11-19 23:04:34,579] Trial 27 finished with value: 1.0 and parameters: {'n_estimators': 181, 'learning_rate': 142.10785982942008, 'algorithm': 'SAMME'}. Best is trial 0 with value: 1.0.\n",
      "[I 2024-11-19 23:04:34,627] Trial 28 finished with value: 1.0 and parameters: {'n_estimators': 155, 'learning_rate': 428.8259329296972, 'algorithm': 'SAMME'}. Best is trial 0 with value: 1.0.\n",
      "[I 2024-11-19 23:04:34,705] Trial 29 finished with value: 1.0 and parameters: {'n_estimators': 100, 'learning_rate': 625.0764743210602, 'algorithm': 'SAMME'}. Best is trial 0 with value: 1.0.\n",
      "[I 2024-11-19 23:04:34,731] A new study created in memory with name: no-name-f0cbb760-b511-4432-b55f-601bdf35ad54\n",
      "[I 2024-11-19 23:04:34,909] Trial 0 finished with value: 0.7142857142857143 and parameters: {'booster': 'gbtree', 'lambda': 1.9661769218226945e-08, 'alpha': 0.006401365712153668, 'max_depth': 1, 'eta': 5.1630020197914525e-06, 'gamma': 0.0025730070955940665, 'grow_policy': 'depthwise'}. Best is trial 0 with value: 0.7142857142857143.\n",
      "[I 2024-11-19 23:04:35,025] Trial 1 finished with value: 0.759090909090909 and parameters: {'booster': 'gblinear', 'lambda': 7.012828289881635e-08, 'alpha': 1.0509778838335188e-05}. Best is trial 1 with value: 0.759090909090909.\n",
      "[I 2024-11-19 23:04:35,167] Trial 2 finished with value: 0.7142857142857143 and parameters: {'booster': 'gbtree', 'lambda': 0.19913645286433204, 'alpha': 8.220970564395443e-06, 'max_depth': 2, 'eta': 3.5909517329401707e-05, 'gamma': 2.4916875249471037e-05, 'grow_policy': 'depthwise'}. Best is trial 1 with value: 0.759090909090909.\n",
      "[I 2024-11-19 23:04:35,521] Trial 3 finished with value: 0.7146171693735499 and parameters: {'booster': 'gbtree', 'lambda': 1.2068032453298266e-08, 'alpha': 0.0020927373486585685, 'max_depth': 5, 'eta': 0.00564501515521536, 'gamma': 1.0810847763733324e-08, 'grow_policy': 'lossguide'}. Best is trial 1 with value: 0.759090909090909.\n",
      "[I 2024-11-19 23:04:36,029] Trial 4 finished with value: 0.8374760994263862 and parameters: {'booster': 'gbtree', 'lambda': 1.2573022492891363e-07, 'alpha': 0.015960431322058925, 'max_depth': 6, 'eta': 0.03439456078291137, 'gamma': 0.007792269494184954, 'grow_policy': 'lossguide'}. Best is trial 4 with value: 0.8374760994263862.\n",
      "[I 2024-11-19 23:04:39,106] Trial 5 finished with value: 0.7142857142857143 and parameters: {'booster': 'dart', 'lambda': 0.000250273872391278, 'alpha': 0.0015491877375130396, 'max_depth': 5, 'eta': 2.002436767713792e-06, 'gamma': 1.0604748910525639e-07, 'grow_policy': 'depthwise', 'sample_type': 'weighted', 'normalize_type': 'tree', 'rate_drop': 4.216697877131716e-06, 'skip_drop': 0.07105054461097968}. Best is trial 4 with value: 0.8374760994263862.\n",
      "[I 2024-11-19 23:04:39,291] Trial 6 finished with value: 0.7142857142857143 and parameters: {'booster': 'gbtree', 'lambda': 0.00019114988969195045, 'alpha': 0.023495236886803696, 'max_depth': 4, 'eta': 0.0001621884074032047, 'gamma': 0.10477111074093859, 'grow_policy': 'depthwise'}. Best is trial 4 with value: 0.8374760994263862.\n",
      "[I 2024-11-19 23:04:39,382] Trial 7 finished with value: 0.7218225419664268 and parameters: {'booster': 'gblinear', 'lambda': 3.0807838958159026e-08, 'alpha': 0.3480976349968433}. Best is trial 4 with value: 0.8374760994263862.\n",
      "[I 2024-11-19 23:04:39,640] Trial 8 finished with value: 0.8658536585365854 and parameters: {'booster': 'gbtree', 'lambda': 4.422544312270654e-07, 'alpha': 6.359911927085913e-08, 'max_depth': 5, 'eta': 0.6709259208806785, 'gamma': 7.920717643199456e-06, 'grow_policy': 'lossguide'}. Best is trial 8 with value: 0.8658536585365854.\n",
      "[I 2024-11-19 23:04:42,842] Trial 9 finished with value: 0.7142857142857143 and parameters: {'booster': 'dart', 'lambda': 8.176749497897806e-06, 'alpha': 0.00043176770468798196, 'max_depth': 4, 'eta': 0.00021306372684118076, 'gamma': 0.16625154399226003, 'grow_policy': 'lossguide', 'sample_type': 'weighted', 'normalize_type': 'tree', 'rate_drop': 0.0009103046733714978, 'skip_drop': 2.9918020827113606e-07}. Best is trial 8 with value: 0.8658536585365854.\n",
      "[I 2024-11-19 23:04:42,973] Trial 10 finished with value: 0.7585895117540687 and parameters: {'booster': 'gblinear', 'lambda': 3.995951508411677e-06, 'alpha': 1.7161851054245446e-08}. Best is trial 8 with value: 0.8658536585365854.\n",
      "[I 2024-11-19 23:04:43,716] Trial 11 finished with value: 0.8624873609706775 and parameters: {'booster': 'gbtree', 'lambda': 1.3865016834324629e-06, 'alpha': 1.12861846743358e-08, 'max_depth': 9, 'eta': 0.5729776099301885, 'gamma': 2.9690433121523813e-05, 'grow_policy': 'lossguide'}. Best is trial 8 with value: 0.8658536585365854.\n",
      "[I 2024-11-19 23:04:44,317] Trial 12 finished with value: 0.86497461928934 and parameters: {'booster': 'gbtree', 'lambda': 3.166025678960671e-06, 'alpha': 3.037536089303233e-08, 'max_depth': 9, 'eta': 0.8847972042655993, 'gamma': 1.4325563151143837e-05, 'grow_policy': 'lossguide'}. Best is trial 8 with value: 0.8658536585365854.\n",
      "[I 2024-11-19 23:04:44,934] Trial 13 finished with value: 0.8605817452357071 and parameters: {'booster': 'gbtree', 'lambda': 0.02442899607800696, 'alpha': 3.500136041820464e-07, 'max_depth': 9, 'eta': 0.7253243524964945, 'gamma': 1.4532481743244564e-06, 'grow_policy': 'lossguide'}. Best is trial 8 with value: 0.8658536585365854.\n",
      "[I 2024-11-19 23:04:45,989] Trial 14 finished with value: 0.8070973612374887 and parameters: {'booster': 'gbtree', 'lambda': 2.0751994328014055e-05, 'alpha': 2.6235461722007937e-07, 'max_depth': 7, 'eta': 0.013425874188578156, 'gamma': 1.3335111817798527e-06, 'grow_policy': 'lossguide'}. Best is trial 8 with value: 0.8658536585365854.\n",
      "[I 2024-11-19 23:04:49,273] Trial 15 finished with value: 0.7142857142857143 and parameters: {'booster': 'dart', 'lambda': 7.693549718686443e-07, 'alpha': 3.078384643577877e-07, 'max_depth': 7, 'eta': 2.9901041862477456e-08, 'gamma': 0.0008723391297563406, 'grow_policy': 'lossguide', 'sample_type': 'uniform', 'normalize_type': 'forest', 'rate_drop': 0.2950440641499195, 'skip_drop': 0.65119950378818}. Best is trial 8 with value: 0.8658536585365854.\n",
      "[I 2024-11-19 23:04:49,497] Trial 16 finished with value: 0.8389585342333655 and parameters: {'booster': 'gbtree', 'lambda': 0.0011584404309065177, 'alpha': 1.99796255391559e-05, 'max_depth': 3, 'eta': 0.09590054579784209, 'gamma': 2.5847425037283417e-06, 'grow_policy': 'lossguide'}. Best is trial 8 with value: 0.8658536585365854.\n",
      "[I 2024-11-19 23:04:50,826] Trial 17 finished with value: 0.7142857142857143 and parameters: {'booster': 'gbtree', 'lambda': 4.757539848972083e-07, 'alpha': 7.642448372378635e-08, 'max_depth': 7, 'eta': 0.002212437430006098, 'gamma': 0.00019664144140577134, 'grow_policy': 'lossguide'}. Best is trial 8 with value: 0.8658536585365854.\n",
      "[I 2024-11-19 23:04:54,344] Trial 18 finished with value: 0.8717171717171717 and parameters: {'booster': 'dart', 'lambda': 2.347782587420713e-05, 'alpha': 2.110492910926281e-06, 'max_depth': 8, 'eta': 0.19313009179079074, 'gamma': 7.103443492604054e-06, 'grow_policy': 'lossguide', 'sample_type': 'uniform', 'normalize_type': 'forest', 'rate_drop': 1.279728529831284e-08, 'skip_drop': 1.206795106722163e-07}. Best is trial 18 with value: 0.8717171717171717.\n",
      "[I 2024-11-19 23:04:57,792] Trial 19 finished with value: 0.8687374749498998 and parameters: {'booster': 'dart', 'lambda': 0.0037971670985925835, 'alpha': 2.2797359583660493e-06, 'max_depth': 8, 'eta': 0.08039633077084544, 'gamma': 1.213198178145459e-07, 'grow_policy': 'lossguide', 'sample_type': 'uniform', 'normalize_type': 'forest', 'rate_drop': 1.3304895227887247e-08, 'skip_drop': 1.6148715198967222e-08}. Best is trial 18 with value: 0.8717171717171717.\n",
      "[I 2024-11-19 23:05:01,949] Trial 20 finished with value: 0.7142857142857143 and parameters: {'booster': 'dart', 'lambda': 0.002173775745874176, 'alpha': 2.1671036048423e-06, 'max_depth': 8, 'eta': 0.0014127252078534411, 'gamma': 1.0064455572417726e-07, 'grow_policy': 'lossguide', 'sample_type': 'uniform', 'normalize_type': 'forest', 'rate_drop': 2.631147973954546e-08, 'skip_drop': 1.1264104669414115e-08}. Best is trial 18 with value: 0.8717171717171717.\n",
      "[I 2024-11-19 23:05:05,228] Trial 21 finished with value: 0.8625123639960435 and parameters: {'booster': 'dart', 'lambda': 0.005296027364311035, 'alpha': 1.678911642928551e-06, 'max_depth': 6, 'eta': 0.09423176434078862, 'gamma': 2.395955758520028e-07, 'grow_policy': 'lossguide', 'sample_type': 'uniform', 'normalize_type': 'forest', 'rate_drop': 1.565567175569036e-08, 'skip_drop': 2.884353781182778e-06}. Best is trial 18 with value: 0.8717171717171717.\n",
      "[I 2024-11-19 23:05:08,929] Trial 22 finished with value: 0.8684738955823293 and parameters: {'booster': 'dart', 'lambda': 6.396447217055817e-05, 'alpha': 9.921273499103113e-05, 'max_depth': 8, 'eta': 0.09263152518850075, 'gamma': 1.222938418939629e-08, 'grow_policy': 'lossguide', 'sample_type': 'uniform', 'normalize_type': 'forest', 'rate_drop': 8.848043039882292e-07, 'skip_drop': 2.1375743188045778e-08}. Best is trial 18 with value: 0.8717171717171717.\n",
      "[I 2024-11-19 23:05:12,813] Trial 23 finished with value: 0.8655967903711134 and parameters: {'booster': 'dart', 'lambda': 4.4945663191866106e-05, 'alpha': 0.00014070391295109935, 'max_depth': 8, 'eta': 0.07651427897310914, 'gamma': 1.12947835242995e-08, 'grow_policy': 'lossguide', 'sample_type': 'uniform', 'normalize_type': 'forest', 'rate_drop': 3.032892807930483e-07, 'skip_drop': 1.0074008340306396e-08}. Best is trial 18 with value: 0.8717171717171717.\n",
      "[I 2024-11-19 23:05:16,993] Trial 24 finished with value: 0.7142857142857143 and parameters: {'booster': 'dart', 'lambda': 0.02296396282608428, 'alpha': 8.062324230605668e-05, 'max_depth': 8, 'eta': 0.000706295949618609, 'gamma': 1.964645531561261e-07, 'grow_policy': 'lossguide', 'sample_type': 'uniform', 'normalize_type': 'forest', 'rate_drop': 1.139953189151556e-08, 'skip_drop': 7.691664011191554e-07}. Best is trial 18 with value: 0.8717171717171717.\n",
      "[I 2024-11-19 23:05:20,829] Trial 25 finished with value: 0.8207282913165266 and parameters: {'booster': 'dart', 'lambda': 0.0005608533731368276, 'alpha': 1.447928736306451e-06, 'max_depth': 8, 'eta': 0.013847363902610984, 'gamma': 3.890606891379734e-08, 'grow_policy': 'lossguide', 'sample_type': 'uniform', 'normalize_type': 'forest', 'rate_drop': 2.2041387148075877e-06, 'skip_drop': 6.3598121673895e-08}. Best is trial 18 with value: 0.8717171717171717.\n",
      "[I 2024-11-19 23:05:24,135] Trial 26 finished with value: 0.8611388611388612 and parameters: {'booster': 'dart', 'lambda': 7.149110373364737e-05, 'alpha': 4.3859080880754833e-05, 'max_depth': 7, 'eta': 0.15081142460913474, 'gamma': 4.826931752732775e-07, 'grow_policy': 'depthwise', 'sample_type': 'uniform', 'normalize_type': 'forest', 'rate_drop': 4.748278787759127e-07, 'skip_drop': 3.522013978187847e-05}. Best is trial 18 with value: 0.8717171717171717.\n",
      "[I 2024-11-19 23:05:28,341] Trial 27 finished with value: 0.7944344703770198 and parameters: {'booster': 'dart', 'lambda': 0.6406579084807885, 'alpha': 3.934889431538697e-06, 'max_depth': 6, 'eta': 0.01397984334794168, 'gamma': 2.765145317494854e-08, 'grow_policy': 'lossguide', 'sample_type': 'uniform', 'normalize_type': 'forest', 'rate_drop': 0.00014532455957633403, 'skip_drop': 0.0018330533692337842}. Best is trial 18 with value: 0.8717171717171717.\n",
      "[I 2024-11-19 23:05:32,708] Trial 28 finished with value: 0.8717171717171717 and parameters: {'booster': 'dart', 'lambda': 0.008412635706603843, 'alpha': 0.00030992084241019324, 'max_depth': 9, 'eta': 0.1956792212789772, 'gamma': 0.0001159583680787958, 'grow_policy': 'lossguide', 'sample_type': 'uniform', 'normalize_type': 'forest', 'rate_drop': 1.548163342967112e-07, 'skip_drop': 6.9700161477152384e-06}. Best is trial 18 with value: 0.8717171717171717.\n",
      "[I 2024-11-19 23:05:35,995] Trial 29 finished with value: 0.721221613155834 and parameters: {'booster': 'dart', 'lambda': 0.017296335824954264, 'alpha': 0.00045783068303057866, 'max_depth': 9, 'eta': 0.004116823926900881, 'gamma': 0.0004124886776568418, 'grow_policy': 'depthwise', 'sample_type': 'weighted', 'normalize_type': 'tree', 'rate_drop': 8.629912715600758e-08, 'skip_drop': 1.2425899560111824e-05}. Best is trial 18 with value: 0.8717171717171717.\n"
     ]
    }
   ],
   "source": [
    "for df_type, df in zip(dataframes.keys(), dataframes.values()):\n",
    "\n",
    "    dataframe_type = df_type\n",
    "\n",
    "    for name, mod in zip(models.keys(), models.values()):\n",
    "\n",
    "        model_name = name\n",
    "        model = mod\n",
    "        # print('{} : {}'.format(dataframe_type, model_name))\n",
    "\n",
    "        X = df.drop(output_feature, axis=1)\n",
    "        y = df['Results']\n",
    "\n",
    "        X_train, X_test, y_train, y_test = train_test_split(X, y, test_size=0.3, random_state=15)\n",
    "\n",
    "        study = optuna.create_study(direction='maximize')\n",
    "        study.optimize(objective, n_trials=30)\n",
    "\n",
    "        trial = study.best_trials[0]\n",
    "        key = model_name + '-' + dataframe_type\n",
    "        model_params[key] = trial.params.items()"
   ]
  },
  {
   "cell_type": "code",
   "execution_count": 268,
   "metadata": {},
   "outputs": [
    {
     "data": {
      "text/plain": [
       "{'random_forest_classifier-feat_imp_with_out': dict_items([('n_estimators', 6), ('criterion', 'entropy'), ('max_depth', 100), ('min_samples_split', 99), ('min_samples_leaf', 2), ('max_features', None)]),\n",
       " 'ada_boost_classifier-feat_imp_with_out': dict_items([('n_estimators', 85), ('learning_rate', 317.61978018215143), ('algorithm', 'SAMME')]),\n",
       " 'XGBoost_classifier-feat_imp_with_out': dict_items([('booster', 'gbtree'), ('lambda', 0.7572886945606425), ('alpha', 0.00027946628485750154), ('max_depth', 9), ('eta', 0.3628166160966485), ('gamma', 9.125975411499067e-06), ('grow_policy', 'depthwise')]),\n",
       " 'random_forest_classifier-feat_imp_without_out': dict_items([('n_estimators', 72), ('criterion', 'log_loss'), ('max_depth', 28), ('min_samples_split', 6), ('min_samples_leaf', 4), ('max_features', 'sqrt')]),\n",
       " 'ada_boost_classifier-feat_imp_without_out': dict_items([('n_estimators', 173), ('learning_rate', 485.04758104463707), ('algorithm', 'SAMME')]),\n",
       " 'XGBoost_classifier-feat_imp_without_out': dict_items([('booster', 'gbtree'), ('lambda', 0.013679275002282673), ('alpha', 1.355735464240722e-06), ('max_depth', 3), ('eta', 0.6804317714275706), ('gamma', 0.8286560949770597), ('grow_policy', 'depthwise')]),\n",
       " 'random_forest_classifier-chi2_with_out': dict_items([('n_estimators', 143), ('criterion', 'gini'), ('max_depth', 69), ('min_samples_split', 41), ('min_samples_leaf', 10), ('max_features', None)]),\n",
       " 'ada_boost_classifier-chi2_with_out': dict_items([('n_estimators', 117), ('learning_rate', 606.1567986345449), ('algorithm', 'SAMME')]),\n",
       " 'XGBoost_classifier-chi2_with_out': dict_items([('booster', 'gbtree'), ('lambda', 4.343193483531084e-06), ('alpha', 3.1267922310146514e-05), ('max_depth', 6), ('eta', 0.19986803637478504), ('gamma', 0.0035913515542961598), ('grow_policy', 'lossguide')]),\n",
       " 'random_forest_classifier-chi2_without_out': dict_items([('n_estimators', 153), ('criterion', 'log_loss'), ('max_depth', 93), ('min_samples_split', 3), ('min_samples_leaf', 5), ('max_features', None)]),\n",
       " 'ada_boost_classifier-chi2_without_out': dict_items([('n_estimators', 75), ('learning_rate', 493.63148693968805), ('algorithm', 'SAMME')]),\n",
       " 'XGBoost_classifier-chi2_without_out': dict_items([('booster', 'dart'), ('lambda', 2.347782587420713e-05), ('alpha', 2.110492910926281e-06), ('max_depth', 8), ('eta', 0.19313009179079074), ('gamma', 7.103443492604054e-06), ('grow_policy', 'lossguide'), ('sample_type', 'uniform'), ('normalize_type', 'forest'), ('rate_drop', 1.279728529831284e-08), ('skip_drop', 1.206795106722163e-07)])}"
      ]
     },
     "execution_count": 268,
     "metadata": {},
     "output_type": "execute_result"
    }
   ],
   "source": [
    "model_params"
   ]
  },
  {
   "cell_type": "code",
   "execution_count": 269,
   "metadata": {},
   "outputs": [],
   "source": [
    "model_comp = {\n",
    "    'model_name' : list(),\n",
    "    'dataframe_type' : list(),\n",
    "    'metrics' : list(),\n",
    "    'score' : list()\n",
    "}"
   ]
  },
  {
   "cell_type": "code",
   "execution_count": 270,
   "metadata": {},
   "outputs": [],
   "source": [
    "for model_df_type, params in zip(model_params.keys(), model_params.values()):\n",
    "\n",
    "    model_name, df_type = model_df_type.split('-')\n",
    "    parameters = dict(params)\n",
    "    if model_name == 'random_forest_classifier':\n",
    "        model = RandomForestClassifier(**parameters)\n",
    "    elif model_name == 'ada_boost_classifier':\n",
    "        model = AdaBoostClassifier(**parameters)\n",
    "    elif model_name == 'XGBoost_classifier':\n",
    "        model = XGBClassifier(**parameters)\n",
    "\n",
    "    df = dataframes[df_type]\n",
    "    X = df.drop(output_feature, axis=1)\n",
    "    y = df[output_feature]\n",
    "\n",
    "    X_train, X_test, y_train, y_test = train_test_split(X, y, test_size=0.3, random_state=15)\n",
    "\n",
    "    model.fit(X_train, y_train)\n",
    "    y_pred = model.predict(X_test)\n",
    "\n",
    "    precision_scr = precision_score(y_true=y_test, y_pred=y_pred)\n",
    "    recall_scr = recall_score(y_true=y_test, y_pred=y_pred)\n",
    "    f1_scr = f1_score(y_true=y_test, y_pred=y_pred)\n",
    "\n",
    "    model_comp['model_name'].append(model_name)\n",
    "    model_comp['dataframe_type'].append(df_type)\n",
    "    model_comp['metrics'].append('precision_score')\n",
    "    model_comp['score'].append(precision_scr)\n",
    "\n",
    "    model_comp['model_name'].append(model_name)\n",
    "    model_comp['dataframe_type'].append(df_type)\n",
    "    model_comp['metrics'].append('recall_score')\n",
    "    model_comp['score'].append(recall_scr)\n",
    "    \n",
    "    model_comp['model_name'].append(model_name)\n",
    "    model_comp['dataframe_type'].append(df_type)\n",
    "    model_comp['metrics'].append('F1_score')\n",
    "    model_comp['score'].append(f1_scr)\n",
    "    "
   ]
  },
  {
   "cell_type": "code",
   "execution_count": 271,
   "metadata": {},
   "outputs": [
    {
     "data": {
      "text/html": [
       "<div>\n",
       "<style scoped>\n",
       "    .dataframe tbody tr th:only-of-type {\n",
       "        vertical-align: middle;\n",
       "    }\n",
       "\n",
       "    .dataframe tbody tr th {\n",
       "        vertical-align: top;\n",
       "    }\n",
       "\n",
       "    .dataframe thead th {\n",
       "        text-align: right;\n",
       "    }\n",
       "</style>\n",
       "<table border=\"1\" class=\"dataframe\">\n",
       "  <thead>\n",
       "    <tr style=\"text-align: right;\">\n",
       "      <th></th>\n",
       "      <th>model_name</th>\n",
       "      <th>dataframe_type</th>\n",
       "      <th>metrics</th>\n",
       "      <th>score</th>\n",
       "    </tr>\n",
       "  </thead>\n",
       "  <tbody>\n",
       "    <tr>\n",
       "      <th>0</th>\n",
       "      <td>random_forest_classifier</td>\n",
       "      <td>feat_imp_with_out</td>\n",
       "      <td>precision_score</td>\n",
       "      <td>0.838462</td>\n",
       "    </tr>\n",
       "    <tr>\n",
       "      <th>1</th>\n",
       "      <td>random_forest_classifier</td>\n",
       "      <td>feat_imp_with_out</td>\n",
       "      <td>recall_score</td>\n",
       "      <td>0.913176</td>\n",
       "    </tr>\n",
       "    <tr>\n",
       "      <th>2</th>\n",
       "      <td>random_forest_classifier</td>\n",
       "      <td>feat_imp_with_out</td>\n",
       "      <td>F1_score</td>\n",
       "      <td>0.874225</td>\n",
       "    </tr>\n",
       "    <tr>\n",
       "      <th>3</th>\n",
       "      <td>ada_boost_classifier</td>\n",
       "      <td>feat_imp_with_out</td>\n",
       "      <td>precision_score</td>\n",
       "      <td>1.000000</td>\n",
       "    </tr>\n",
       "    <tr>\n",
       "      <th>4</th>\n",
       "      <td>ada_boost_classifier</td>\n",
       "      <td>feat_imp_with_out</td>\n",
       "      <td>recall_score</td>\n",
       "      <td>0.018279</td>\n",
       "    </tr>\n",
       "  </tbody>\n",
       "</table>\n",
       "</div>"
      ],
      "text/plain": [
       "                 model_name     dataframe_type          metrics     score\n",
       "0  random_forest_classifier  feat_imp_with_out  precision_score  0.838462\n",
       "1  random_forest_classifier  feat_imp_with_out     recall_score  0.913176\n",
       "2  random_forest_classifier  feat_imp_with_out         F1_score  0.874225\n",
       "3      ada_boost_classifier  feat_imp_with_out  precision_score  1.000000\n",
       "4      ada_boost_classifier  feat_imp_with_out     recall_score  0.018279"
      ]
     },
     "execution_count": 271,
     "metadata": {},
     "output_type": "execute_result"
    }
   ],
   "source": [
    "model_comp_df = pd.DataFrame(data=model_comp)\n",
    "\n",
    "model_comp_df.head()"
   ]
  },
  {
   "cell_type": "code",
   "execution_count": 272,
   "metadata": {},
   "outputs": [
    {
     "data": {
      "image/png": "[encoded data removed]",
      "text/plain": [
       "<Figure size 1500x500 with 1 Axes>"
      ]
     },
     "metadata": {},
     "output_type": "display_data"
    }
   ],
   "source": [
    "plt.figure(figsize=(15, 5))\n",
    "\n",
    "ax = sns.barplot(data=model_comp_df, x='model_name', y='score', hue='metrics', palette='rocket')\n",
    "\n",
    "for i in ax.containers:\n",
    "    ax.bar_label(i,)\n",
    "\n",
    "plt.show()"
   ]
  },
  {
   "cell_type": "markdown",
   "metadata": {},
   "source": [
    "Comparing model wise performance considering metrices we can see that we are able to optimize AdaBoost is able to classify all the negative data points with 100% accuracy but at the cost of low recall and F1 score. But XGboost and RandomForest are able to do well on both positive and negative classes. By slightly adjusting the threshold using ROC we will be able to get precision score = 1 and minimum reduction in recall score."
   ]
  },
  {
   "cell_type": "code",
   "execution_count": 273,
   "metadata": {},
   "outputs": [
    {
     "data": {
      "text/html": [
       "<div>\n",
       "<style scoped>\n",
       "    .dataframe tbody tr th:only-of-type {\n",
       "        vertical-align: middle;\n",
       "    }\n",
       "\n",
       "    .dataframe tbody tr th {\n",
       "        vertical-align: top;\n",
       "    }\n",
       "\n",
       "    .dataframe thead th {\n",
       "        text-align: right;\n",
       "    }\n",
       "</style>\n",
       "<table border=\"1\" class=\"dataframe\">\n",
       "  <thead>\n",
       "    <tr style=\"text-align: right;\">\n",
       "      <th></th>\n",
       "      <th>model_name</th>\n",
       "      <th>dataframe_type</th>\n",
       "      <th>metrics</th>\n",
       "      <th>score</th>\n",
       "    </tr>\n",
       "  </thead>\n",
       "  <tbody>\n",
       "    <tr>\n",
       "      <th>24</th>\n",
       "      <td>XGBoost_classifier</td>\n",
       "      <td>chi2_with_out</td>\n",
       "      <td>precision_score</td>\n",
       "      <td>0.884813</td>\n",
       "    </tr>\n",
       "    <tr>\n",
       "      <th>6</th>\n",
       "      <td>XGBoost_classifier</td>\n",
       "      <td>feat_imp_with_out</td>\n",
       "      <td>precision_score</td>\n",
       "      <td>0.876934</td>\n",
       "    </tr>\n",
       "    <tr>\n",
       "      <th>33</th>\n",
       "      <td>XGBoost_classifier</td>\n",
       "      <td>chi2_without_out</td>\n",
       "      <td>precision_score</td>\n",
       "      <td>0.871717</td>\n",
       "    </tr>\n",
       "    <tr>\n",
       "      <th>15</th>\n",
       "      <td>XGBoost_classifier</td>\n",
       "      <td>feat_imp_without_out</td>\n",
       "      <td>precision_score</td>\n",
       "      <td>0.864893</td>\n",
       "    </tr>\n",
       "  </tbody>\n",
       "</table>\n",
       "</div>"
      ],
      "text/plain": [
       "            model_name        dataframe_type          metrics     score\n",
       "24  XGBoost_classifier         chi2_with_out  precision_score  0.884813\n",
       "6   XGBoost_classifier     feat_imp_with_out  precision_score  0.876934\n",
       "33  XGBoost_classifier      chi2_without_out  precision_score  0.871717\n",
       "15  XGBoost_classifier  feat_imp_without_out  precision_score  0.864893"
      ]
     },
     "execution_count": 273,
     "metadata": {},
     "output_type": "execute_result"
    }
   ],
   "source": [
    "model_comp_df[(model_comp_df['metrics'] == 'precision_score') & ((model_comp_df['model_name'] == 'random_forest_classifier') | (model_comp_df['model_name'] == 'XGBoost_classifier'))].sort_values('score', ascending=False).head(4)"
   ]
  },
  {
   "cell_type": "markdown",
   "metadata": {},
   "source": [
    "## **Answers**"
   ]
  },
  {
   "cell_type": "markdown",
   "metadata": {},
   "source": [
    "### **Task 1 : Consume this data and build a model to quantify the risk of a trial. The generated value should reflect how likely the trial is to fail**"
   ]
  },
  {
   "cell_type": "markdown",
   "metadata": {},
   "source": [
    "**Risk Scorer Model**\n",
    "\n",
    "Best combination seems to be :\n",
    "    <p>Model : Random Forest Classifier</p>\n",
    "    <p>Feature selection technique : chi square</p>\n",
    "    <p>DataFrame Type : With Outliers</p>"
   ]
  },
  {
   "cell_type": "markdown",
   "metadata": {},
   "source": [
    "To solve this instead of predicting classes, we will predict probability of the class 0. Which will indicate that how likely is that trail to fail."
   ]
  },
  {
   "cell_type": "code",
   "execution_count": 274,
   "metadata": {},
   "outputs": [
    {
     "data": {
      "text/plain": [
       "array([[ 203,  206],\n",
       "       [  97, 1216]], dtype=int64)"
      ]
     },
     "execution_count": 274,
     "metadata": {},
     "output_type": "execute_result"
    }
   ],
   "source": [
    "best_param = dict(model_params['random_forest_classifier-chi2_with_out'])\n",
    "model = RandomForestClassifier(**best_param)\n",
    "\n",
    "df = dataframes['chi2_with_out']\n",
    "\n",
    "X = df.drop(output_feature, axis=1)\n",
    "y = df[output_feature]\n",
    "\n",
    "X_train, X_test, y_train, y_test = train_test_split(X, y, test_size=0.3, random_state=15)\n",
    "\n",
    "model.fit(X_train, y_train)\n",
    "y_prob = model.predict_proba(X_test)\n",
    "y_pred = model.predict(X_test)\n",
    "\n",
    "cfm = confusion_matrix(y_pred=y_pred, y_true=y_test)\n",
    "cfm"
   ]
  },
  {
   "cell_type": "markdown",
   "metadata": {},
   "source": [
    "we can see that there are 206 negative data points which are getting wrongly classified. That is FP is not zero, which is the value we want to reduce to create a model which classifies all the failed studies with 100% accurcay. This can be done using threshold which needs to be calculated using ROC curve."
   ]
  },
  {
   "cell_type": "code",
   "execution_count": 275,
   "metadata": {},
   "outputs": [
    {
     "data": {
      "image/png": "[encoded data removed]",
      "text/plain": [
       "<Figure size 800x300 with 1 Axes>"
      ]
     },
     "metadata": {},
     "output_type": "display_data"
    }
   ],
   "source": [
    "fpr, tpr, thresholds = roc_curve(y_test, y_prob[:, 1:2])\n",
    "plt.figure(figsize=(8, 3))\n",
    "plt.plot(thresholds, tpr, label='True Positive Rate (Recall)', color='green')\n",
    "plt.plot(thresholds, fpr, label='False Positive Rate', color='red')\n",
    "plt.xlabel(\"Threshold\")\n",
    "plt.ylabel(\"Rate\")\n",
    "plt.title(\"Threshold vs. TPR/FPR\")\n",
    "plt.legend()\n",
    "plt.grid()\n",
    "plt.show()"
   ]
  },
  {
   "cell_type": "markdown",
   "metadata": {},
   "source": [
    "In the above plot we can see that as to make False positive rate \"0\" we have to make threshold close to \"1\" which will make True positive rate \"0\" as well, This is the trade off. There is no way to reduce the FPR without decreasing TPR.\n",
    "looking at the current confusion matrix."
   ]
  },
  {
   "cell_type": "code",
   "execution_count": 276,
   "metadata": {},
   "outputs": [
    {
     "data": {
      "text/plain": [
       "array([[ 203,  206],\n",
       "       [  97, 1216]], dtype=int64)"
      ]
     },
     "execution_count": 276,
     "metadata": {},
     "output_type": "execute_result"
    }
   ],
   "source": [
    "cfm"
   ]
  },
  {
   "cell_type": "markdown",
   "metadata": {},
   "source": [
    "If we increase the threshold value to reduce FPR, more positive data points will get wrongly classified in turn increasing False Negative error. As shown in below example."
   ]
  },
  {
   "cell_type": "markdown",
   "metadata": {},
   "source": [
    "##### Using Custome Threshold"
   ]
  },
  {
   "cell_type": "code",
   "execution_count": 278,
   "metadata": {},
   "outputs": [
    {
     "data": {
      "text/plain": [
       "(100, 0.8299742749532933)"
      ]
     },
     "execution_count": 278,
     "metadata": {},
     "output_type": "execute_result"
    }
   ],
   "source": [
    "index = 0\n",
    "for i in range(len(fpr)):\n",
    "\n",
    "    if fpr[i] > 0.1002445:\n",
    "        index = i\n",
    "        break\n",
    "\n",
    "index, thresholds[index]"
   ]
  },
  {
   "cell_type": "code",
   "execution_count": 279,
   "metadata": {},
   "outputs": [
    {
     "data": {
      "text/plain": [
       "array([[367,  42],\n",
       "       [501, 812]], dtype=int64)"
      ]
     },
     "execution_count": 279,
     "metadata": {},
     "output_type": "execute_result"
    }
   ],
   "source": [
    "cust_thresh = thresholds[index]\n",
    "# cust_thresh = 0.8271011213243652\n",
    "\n",
    "y_probs = model.predict_proba(X_test)\n",
    "\n",
    "positive_probs = y_probs[:, 1:2]\n",
    "\n",
    "new_y_pred = (positive_probs >= cust_thresh).astype(int)\n",
    "\n",
    "confusion_matrix(y_pred=new_y_pred, y_true=y_test)"
   ]
  },
  {
   "cell_type": "markdown",
   "metadata": {},
   "source": [
    "Value of False Negative has increased."
   ]
  },
  {
   "cell_type": "markdown",
   "metadata": {},
   "source": [
    "So, ideally one should use a well balanced model which has good recall and precision score. or we can try to reduce the False positive error using different thresholds by discussing with domain experts, asking them how much False negative error is ok to have in this specific problem statement."
   ]
  },
  {
   "cell_type": "markdown",
   "metadata": {},
   "source": [
    "Answering the question : we will use predict_prob() functiion to tell how likely a trial is to fail."
   ]
  },
  {
   "cell_type": "code",
   "execution_count": 280,
   "metadata": {},
   "outputs": [
    {
     "data": {
      "text/plain": [
       "array([0, 1], dtype=int64)"
      ]
     },
     "execution_count": 280,
     "metadata": {},
     "output_type": "execute_result"
    }
   ],
   "source": [
    "model.classes_"
   ]
  },
  {
   "cell_type": "code",
   "execution_count": 281,
   "metadata": {},
   "outputs": [
    {
     "data": {
      "text/plain": [
       "array([[0.35389191],\n",
       "       [0.08344995],\n",
       "       [0.09205689],\n",
       "       ...,\n",
       "       [0.43354099],\n",
       "       [0.68127868],\n",
       "       [0.18680709]])"
      ]
     },
     "execution_count": 281,
     "metadata": {},
     "output_type": "execute_result"
    }
   ],
   "source": [
    "y_prob[:, :1]"
   ]
  },
  {
   "cell_type": "markdown",
   "metadata": {},
   "source": [
    "Above values indicate the chances of trial failing."
   ]
  },
  {
   "cell_type": "markdown",
   "metadata": {},
   "source": [
    "### **Task 2 : display the features that have had the most affect on the predicted failure of the trial.**"
   ]
  },
  {
   "cell_type": "markdown",
   "metadata": {},
   "source": [
    "Since we have used Chi Square for feature selection, the top features with there significance values, which have the most influence on the predicated failure of the trial are : \n",
    "\n",
    "<p>City : 24684.766096</p>\n",
    "<p>Title : 24090.021829</p>\n",
    "<p>Sponsor : 14867.407553</p>\n",
    "<p>Country : 5722.923923</p>\n",
    "<p>Interventions : 1021.592428</p>\n",
    "<p>Conditions : 427.9353192</p>"
   ]
  },
  {
   "cell_type": "code",
   "execution_count": null,
   "metadata": {},
   "outputs": [],
   "source": []
  }
 ],
 "metadata": {
  "kernelspec": {
   "display_name": "Python 3",
   "language": "python",
   "name": "python3"
  },
  "language_info": {
   "codemirror_mode": {
    "name": "ipython",
    "version": 3
   },
   "file_extension": ".py",
   "mimetype": "text/x-python",
   "name": "python",
   "nbconvert_exporter": "python",
   "pygments_lexer": "ipython3",
   "version": "3.9.1"
  }
 },
 "nbformat": 4,
 "nbformat_minor": 2
}
